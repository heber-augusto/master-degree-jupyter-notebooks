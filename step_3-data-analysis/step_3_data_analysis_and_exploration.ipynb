{
  "nbformat": 4,
  "nbformat_minor": 0,
  "metadata": {
    "kernelspec": {
      "display_name": "Python 3",
      "language": "python",
      "name": "python3"
    },
    "language_info": {
      "codemirror_mode": {
        "name": "ipython",
        "version": 3
      },
      "file_extension": ".py",
      "mimetype": "text/x-python",
      "name": "python",
      "nbconvert_exporter": "python",
      "pygments_lexer": "ipython3",
      "version": "3.6.5"
    },
    "colab": {
      "name": "step_3-data-analysis-and-exploration.ipynb",
      "provenance": [],
      "collapsed_sections": []
    }
  },
  "cells": [
    {
      "cell_type": "markdown",
      "metadata": {
        "id": "1oetKDuRLX6g",
        "colab_type": "text"
      },
      "source": [
        "**This jupyter notebook demonstrates how to:**\n",
        "\n",
        "1. \n",
        "2. \n"
      ]
    },
    {
      "cell_type": "code",
      "metadata": {
        "id": "yjoF5XmbiRXJ",
        "colab_type": "code",
        "colab": {
          "base_uri": "https://localhost:8080/",
          "height": 51
        },
        "outputId": "f25a943d-ae3f-4fcb-f533-399a1c3ccb6c"
      },
      "source": [
        "#install libs that are not found at google colab by default\n",
        "!pip install google"
      ],
      "execution_count": 8,
      "outputs": [
        {
          "output_type": "stream",
          "text": [
            "Requirement already satisfied: google in /usr/local/lib/python3.6/dist-packages (2.0.3)\n",
            "Requirement already satisfied: beautifulsoup4 in /usr/local/lib/python3.6/dist-packages (from google) (4.6.3)\n"
          ],
          "name": "stdout"
        }
      ]
    },
    {
      "cell_type": "markdown",
      "metadata": {
        "id": "OKZSgJ_j8wog",
        "colab_type": "text"
      },
      "source": [
        "**Mount google drive to access files**"
      ]
    },
    {
      "cell_type": "code",
      "metadata": {
        "id": "7OwMW61e8uNe",
        "colab_type": "code",
        "colab": {
          "base_uri": "https://localhost:8080/",
          "height": 34
        },
        "outputId": "b1ca6a43-eb71-4159-8601-cd2e738e7d41"
      },
      "source": [
        "from google.colab import drive\n",
        "drive.mount('/content/gdrive')"
      ],
      "execution_count": 9,
      "outputs": [
        {
          "output_type": "stream",
          "text": [
            "Drive already mounted at /content/gdrive; to attempt to forcibly remount, call drive.mount(\"/content/gdrive\", force_remount=True).\n"
          ],
          "name": "stdout"
        }
      ]
    },
    {
      "cell_type": "code",
      "metadata": {
        "id": "dk29uRf6IkTT",
        "colab_type": "code",
        "colab": {}
      },
      "source": [
        "#Important defines:\n",
        "#total number of lift stations\n",
        "NUMBER_OF_LIFT_STATIONS = 30 \n",
        "\n",
        "#number of pumps per lift stations\n",
        "PUMPS_PER_LIFT_STATION  = [2,2,3,3,3,1,2,3,2,2,3,3,2,2,2,\n",
        "                           2,3,2,2,2,2,2,2,2,2,2,2,2,2,2]\n",
        "\n",
        "#google drive folder where datasets are stored\n",
        "DATASETS_DIR = r'/content/gdrive/My Drive/datasets/'                         \n"
      ],
      "execution_count": 0,
      "outputs": []
    },
    {
      "cell_type": "code",
      "metadata": {
        "id": "vwxmAcrVIkTI",
        "colab_type": "code",
        "colab": {}
      },
      "source": [
        "import pandas as pd\n",
        "import numpy as np"
      ],
      "execution_count": 0,
      "outputs": []
    },
    {
      "cell_type": "markdown",
      "metadata": {
        "id": "w2VfWFlomo9U",
        "colab_type": "text"
      },
      "source": [
        "**Analysis with lift stations register**\n",
        "\n",
        "This data frame contains characteristics and specifications about sewage lift stations "
      ]
    },
    {
      "cell_type": "code",
      "metadata": {
        "id": "9HeJZGWRYy0q",
        "colab_type": "code",
        "colab": {}
      },
      "source": [
        "lift_station_register = pd.read_csv(DATASETS_DIR + r'cadastro_elevatorias.csv')"
      ],
      "execution_count": 0,
      "outputs": []
    },
    {
      "cell_type": "code",
      "metadata": {
        "id": "mZi7DrTidfkp",
        "colab_type": "code",
        "colab": {
          "base_uri": "https://localhost:8080/",
          "height": 393
        },
        "outputId": "ae390943-e4db-45b5-8426-d497bff92b9b"
      },
      "source": [
        "#Plot number of lift stations by pump type\n",
        "lift_station_register.groupby(['Tipo de bomba'])['Tipo de bomba'].count().plot(kind='bar', color=['b', 'r', 'g', 'c'])\n"
      ],
      "execution_count": 60,
      "outputs": [
        {
          "output_type": "execute_result",
          "data": {
            "text/plain": [
              "<matplotlib.axes._subplots.AxesSubplot at 0x7fa9fa4a39e8>"
            ]
          },
          "metadata": {
            "tags": []
          },
          "execution_count": 60
        },
        {
          "output_type": "display_data",
          "data": {
            "image/png": "[encoded data removed]",
            "text/plain": [
              "<Figure size 432x288 with 1 Axes>"
            ]
          },
          "metadata": {
            "tags": []
          }
        }
      ]
    },
    {
      "cell_type": "code",
      "metadata": {
        "id": "9e9ro4wOzrxk",
        "colab_type": "code",
        "colab": {}
      },
      "source": [
        "#define a function to plot histograms with some nice formatting\n",
        "\n",
        "def hist_with_format(ds, bins, xlabel, ylabel):\n",
        "  \"\"\"\n",
        "    plot a histogram\n",
        "\n",
        "    Args:\n",
        "        ds (series): panda series to create histogram.\n",
        "        column_name (str): column name.\n",
        "        bins (int): number of bins.\n",
        "        xlabel (str): x axis label.\n",
        "        ylabel (str): y axis label.                        \n",
        "\n",
        "    Returns:\n",
        "        Nothing  \n",
        "\n",
        "  \"\"\"\n",
        "  ax = ds.hist(bins=bins, \n",
        "                grid=False, \n",
        "                figsize=(12,8),\n",
        "                color='g', \n",
        "                zorder=2, \n",
        "                rwidth=0.9)\n",
        "\n",
        "  # Despine\n",
        "  ax.spines['right'].set_visible(False)\n",
        "  ax.spines['top'].set_visible(False)\n",
        "  ax.spines['left'].set_visible(False)\n",
        "\n",
        "  # Switch off ticks\n",
        "  ax.tick_params(axis=\"both\", which=\"both\", \n",
        "                bottom=\"off\", top=\"off\", \n",
        "                labelbottom=\"on\", left=\"off\", \n",
        "                right=\"off\", labelleft=\"on\")\n",
        "\n",
        "  # Draw horizontal axis lines\n",
        "  vals = ax.get_yticks()\n",
        "  for tick in vals:\n",
        "      ax.axhline(y=tick, linestyle='dashed', alpha=0.4, color='#eeeeee', zorder=1)\n",
        "\n",
        "  # Remove title\n",
        "  ax.set_title(\"\")\n",
        "\n",
        "  # Set x-axis label\n",
        "  ax.set_xlabel(xlabel, labelpad=20, weight='bold', size=12)\n",
        "\n",
        "  # Set y-axis label\n",
        "  ax.set_ylabel(ylabel, labelpad=20, weight='bold', size=12)"
      ],
      "execution_count": 0,
      "outputs": []
    },
    {
      "cell_type": "code",
      "metadata": {
        "id": "sMq2z5GbhGl9",
        "colab_type": "code",
        "colab": {
          "base_uri": "https://localhost:8080/",
          "height": 516
        },
        "outputId": "b537ba4a-b74d-428c-b43f-cd6c4f0285e6"
      },
      "source": [
        "#Plot histogram of boost flow\n",
        "ds = lift_station_register['Vazão de recalque (l/s)'].str.replace(',', '.').astype(float)\n",
        "\n",
        "hist_with_format(ds, \n",
        "                 8, \n",
        "                 \"Vazão de recalque (l/s)\",\n",
        "                 \"Number of lift stations\")"
      ],
      "execution_count": 97,
      "outputs": [
        {
          "output_type": "display_data",
          "data": {
            "image/png": "[encoded data removed]",
            "text/plain": [
              "<Figure size 864x576 with 1 Axes>"
            ]
          },
          "metadata": {
            "tags": []
          }
        }
      ]
    },
    {
      "cell_type": "code",
      "metadata": {
        "id": "HiYT6-Lzw1Uv",
        "colab_type": "code",
        "colab": {
          "base_uri": "https://localhost:8080/",
          "height": 516
        },
        "outputId": "4dde7b11-5e62-4304-fad2-c157603e6b8b"
      },
      "source": [
        "#Plot histogram of Manometric height\n",
        "ds = lift_station_register['Altura manométrica (mca)'].str.replace(',', '.').astype(float)\n",
        "\n",
        "hist_with_format(ds, \n",
        "                 8, \n",
        "                 \"Manometric height (mca)\",\n",
        "                 \"Number of lift stations\")"
      ],
      "execution_count": 101,
      "outputs": [
        {
          "output_type": "display_data",
          "data": {
            "image/png": "[encoded data removed]",
            "text/plain": [
              "<Figure size 864x576 with 1 Axes>"
            ]
          },
          "metadata": {
            "tags": []
          }
        }
      ]
    },
    {
      "cell_type": "code",
      "metadata": {
        "id": "vE6UmPSXIkUA",
        "colab_type": "code",
        "colab": {}
      },
      "source": [
        ""
      ],
      "execution_count": 0,
      "outputs": []
    },
    {
      "cell_type": "code",
      "metadata": {
        "id": "ZChqWCzNvr5_",
        "colab_type": "code",
        "colab": {}
      },
      "source": [
        ""
      ],
      "execution_count": 0,
      "outputs": []
    }
  ]
}