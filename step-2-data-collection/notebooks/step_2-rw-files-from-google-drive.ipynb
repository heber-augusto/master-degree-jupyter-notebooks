{
 "cells": [
  {
   "cell_type": "markdown",
   "metadata": {
    "colab_type": "text",
    "id": "hCuQLA3Ny7oG"
   },
   "source": [
    "**This jupyter notebook demonstrates how to:**\n",
    "\n",
    "1. Access Google drive files and folders using Google API;\n",
    "2. Read and write files using api.\n",
    "\n",
    "This resource was usefull to transfer files from/to Google Drive to/from Google Cloud Machine (could also be a local machine)\n",
    "\n",
    "Post used to develope this notebook:\n",
    "\n",
    "https://medium.com/@umdfirecoml/a-step-by-step-guide-on-how-to-download-your-google-drive-data-to-your-jupyter-notebook-using-the-52f4ce63c66c\n",
    "\n",
    "API created tokens created with:\n",
    "\n",
    "https://console.cloud.google.com/apis/credentials"
   ]
  },
  {
   "cell_type": "code",
   "execution_count": null,
   "metadata": {
    "colab": {
     "base_uri": "https://localhost:8080/",
     "height": 119
    },
    "colab_type": "code",
    "id": "bhFVrMCqy7oI",
    "outputId": "27a02e0b-5cdd-4fc9-b962-1e16e0a9fb85",
    "scrolled": true
   },
   "outputs": [],
   "source": [
    "#install lib that is found at conda enviroment by default\n",
    "!pip install oauth2client"
   ]
  },
  {
   "cell_type": "code",
   "execution_count": null,
   "metadata": {
    "colab": {},
    "colab_type": "code",
    "id": "X0_qdFc4y7oS"
   },
   "outputs": [],
   "source": [
    "from googleapiclient import discovery\n",
    "from httplib2 import Http\n",
    "import oauth2client\n",
    "from oauth2client import file, client, tools\n",
    "import httplib2\n",
    "import io\n",
    "import os.path\n",
    "\n",
    "from googleapiclient.http import MediaIoBaseDownload, MediaFileUpload\n",
    "\n",
    "\n",
    "\n",
    "obj = lambda: None\n",
    "lmao = {\"auth_host_name\":'localhost', 'noauth_local_webserver':'store_true', 'auth_host_port':[8080, 8090,5000], 'logging_level':'ERROR'}\n",
    "for k, v in lmao.items():\n",
    "    setattr(obj, k, v)\n",
    "    \n",
    "# authorization boilerplate code\n",
    "SCOPES = 'https://www.googleapis.com/auth/drive'\n",
    "\n",
    "#both token.json and client_id.json are obtained wih https://console.cloud.google.com/apis/credentials\n",
    "store = file.Storage('token.json')\n",
    "creds = store.get()\n",
    "\n",
    "# The following will give you a link if token.json does not exist, the link allows the user to give this app permission\n",
    "if not creds or creds.invalid:\n",
    "    flow = client.flow_from_clientsecrets('client_id.json', SCOPES)\n",
    "    creds = tools.run_flow(flow, store, obj)"
   ]
  },
  {
   "cell_type": "code",
   "execution_count": null,
   "metadata": {
    "colab": {},
    "colab_type": "code",
    "id": "yhPsuC83y7oY"
   },
   "outputs": [],
   "source": [
    "#build credentials\n",
    "DRIVE = discovery.build('drive', 'v3', http=creds.authorize(Http()))"
   ]
  },
  {
   "cell_type": "code",
   "execution_count": null,
   "metadata": {
    "colab": {},
    "colab_type": "code",
    "id": "aYLMRzUfy7od"
   },
   "outputs": [],
   "source": [
    "def get_folder(name):\n",
    "   \"\"\"function to return folder from name:\n",
    "\n",
    "    Args:\n",
    "        name (str): folder name\n",
    "        \n",
    "    Returns:\n",
    "        folder object\n",
    "    \"\"\"  \n",
    "    results = DRIVE.files().list(\n",
    "        pageSize=10,\n",
    "        q=(\"name = '{0}'\".format(name) +\n",
    "           \" and mimeType = 'application/vnd.google-apps.folder'\"),\n",
    "        corpora=\"user\",\n",
    "        fields=\"nextPageToken, files(id, name, webContentLink, \" +\n",
    "               \"createdTime, modifiedTime)\").execute()\n",
    "    items = results.get('files', [])\n",
    "    if not items:\n",
    "        return None\n",
    "    return items[0]\n",
    "\n",
    "def get_folder_contents(folder_id):\n",
    "   \"\"\"function to return folders contents:\n",
    "\n",
    "    Args:\n",
    "        folder_id (): folder id returned by api\n",
    "        \n",
    "    Returns:\n",
    "        folder contents\n",
    "    \"\"\"\n",
    "    results = DRIVE.files().list(\n",
    "        q=(\"'{0}' in parents\".format(folder_id)),\n",
    "        corpora=\"user\",\n",
    "        fields=\"nextPageToken, files(id, name, webContentLink, \" +\n",
    "               \"createdTime, modifiedTime, size)\").execute()\n",
    "    items = results.get('files', [])\n",
    "    if not items:\n",
    "        print('No files found.')\n",
    "    return items"
   ]
  },
  {
   "cell_type": "code",
   "execution_count": null,
   "metadata": {
    "colab": {},
    "colab_type": "code",
    "id": "_zXgvhviy7oj"
   },
   "outputs": [],
   "source": [
    "#get datasets folder\n",
    "folder = get_folder('datasets')\n",
    "#list files from folder\n",
    "folder_items = get_folder_contents(folder['id'])\n",
    "\n",
    "#download files from remote folder\n",
    "for file in folder_items:\n",
    "    file_name = file['name']\n",
    "    #if file already exists check next file\n",
    "    if os.path.exists(file_name):\n",
    "        local_file_size = os.path.getsize(file_name)\n",
    "        remote_file_size = file['size']\n",
    "        #check if sizes are different\n",
    "        if int(local_file_size) != int(remote_file_size):\n",
    "            print(f\"Arquivo {file_name} com tamanho diferente - remoto: {remote_file_size} local: {local_file_size}\")\n",
    "       \n",
    "        continue\n",
    "\n",
    "    #get the media request to perform in chunks.\n",
    "    request = DRIVE.files().get_media(fileId=file['id'])\n",
    "\n",
    "    #creates file handle to receive the content of the remote file\n",
    "    fh = io.FileIO(file['name'], mode='w')\n",
    "\n",
    "    downloader = MediaIoBaseDownload(fh, request)\n",
    "    done = False\n",
    "    while done is False:\n",
    "        status, done = downloader.next_chunk()\n",
    "        print (f\" Download - {file_name} {int(status.progress() * 100)}%.\")\n",
    "    \n",
    "    \n",
    "    \n",
    "    "
   ]
  },
  {
   "cell_type": "code",
   "execution_count": null,
   "metadata": {
    "colab": {},
    "colab_type": "code",
    "id": "TtftbUgCy7o2"
   },
   "outputs": [],
   "source": [
    "#upload file into folder\n",
    "file_name = \"file.csv\"\n",
    "folder_id ='<folder url from google drive>' #folder url \n",
    "file_metadata = {\n",
    "    'name': file_name,\n",
    "    'parents': [folder_id]\n",
    "\n",
    "}\n",
    "media = MediaFileUpload(file_name,\n",
    "                        mimetype='text/csv',\n",
    "                        resumable=True)\n",
    "file = DRIVE.files().create(body=file_metadata,\n",
    "                            media_body=media,\n",
    "                            fields='id').execute()\n",
    "\n",
    "print ('File {} ID: {}'.format(file_name, file.get('id')))"
   ]
  },
  {
   "cell_type": "code",
   "execution_count": null,
   "metadata": {
    "colab": {},
    "colab_type": "code",
    "id": "vcndGyWEy7pA"
   },
   "outputs": [],
   "source": []
  }
 ],
 "metadata": {
  "colab": {
   "collapsed_sections": [],
   "name": "step_2-download-files-from-drive.ipynb",
   "provenance": []
  },
  "kernelspec": {
   "display_name": "Python 3",
   "language": "python",
   "name": "python3"
  },
  "language_info": {
   "codemirror_mode": {
    "name": "ipython",
    "version": 3
   },
   "file_extension": ".py",
   "mimetype": "text/x-python",
   "name": "python",
   "nbconvert_exporter": "python",
   "pygments_lexer": "ipython3",
   "version": "3.6.3"
  }
 },
 "nbformat": 4,
 "nbformat_minor": 1
}
