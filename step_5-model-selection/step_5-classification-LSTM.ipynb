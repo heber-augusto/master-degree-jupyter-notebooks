{
  "nbformat": 4,
  "nbformat_minor": 0,
  "metadata": {
    "accelerator": "GPU",
    "colab": {
      "name": "classification_LSTM.ipynb",
      "provenance": [],
      "collapsed_sections": [],
      "machine_shape": "hm"
    },
    "kernelspec": {
      "name": "python3",
      "display_name": "Python 3"
    },
    "language_info": {
      "codemirror_mode": {
        "name": "ipython",
        "version": 3
      },
      "file_extension": ".py",
      "mimetype": "text/x-python",
      "name": "python",
      "nbconvert_exporter": "python",
      "pygments_lexer": "ipython3",
      "version": "3.7.3"
    }
  },
  "cells": [
    {
      "cell_type": "code",
      "metadata": {
        "id": "mmVDcQRfhYck",
        "colab_type": "code",
        "outputId": "b365db48-9bc4-457b-f698-99fa71ce93f9",
        "colab": {
          "base_uri": "https://localhost:8080/",
          "height": 34
        }
      },
      "source": [
        "from google.colab import drive\n",
        "drive.mount('/content/gdrive')\n",
        "\n",
        "\n",
        "import os\n",
        "import datetime\n",
        "from math import cos, asin, sqrt, pow\n",
        "import gc\n",
        "\n",
        "import matplotlib.pyplot as plt\n",
        "import pandas as pd\n",
        "import numpy as np\n",
        "\n",
        "from sklearn.metrics import classification_report, multilabel_confusion_matrix\n",
        "from sklearn.preprocessing import LabelEncoder, MinMaxScaler\n",
        "\n",
        "\n",
        "from keras.models import Sequential\n",
        "from keras.layers import Dense, LSTM, Activation, Dropout, Flatten, RepeatVector, TimeDistributed, Masking\n",
        "from keras.preprocessing.sequence import TimeseriesGenerator\n",
        "from keras.utils import to_categorical\n",
        "from keras.callbacks import ModelCheckpoint\n",
        "from keras.utils.vis_utils import plot_model\n",
        "\n",
        "import tensorflow as tf  \n"
      ],
      "execution_count": 38,
      "outputs": [
        {
          "output_type": "stream",
          "text": [
            "Drive already mounted at /content/gdrive; to attempt to forcibly remount, call drive.mount(\"/content/gdrive\", force_remount=True).\n"
          ],
          "name": "stdout"
        }
      ]
    },
    {
      "cell_type": "code",
      "metadata": {
        "colab_type": "code",
        "id": "Jqhy4QF9vE6n",
        "colab": {}
      },
      "source": [
        "#Models and datasets dirs\n",
        "DATASETS_DIR = r'/content/gdrive/My Drive/datasets/'\n",
        "MODEL_FOLDER = 'classification/'\n",
        "MODELS_DIR = DATASETS_DIR + MODEL_FOLDER\n",
        "\n"
      ],
      "execution_count": 0,
      "outputs": []
    },
    {
      "cell_type": "code",
      "metadata": {
        "id": "GDwbEjkNBYTg",
        "colab_type": "code",
        "colab": {}
      },
      "source": [
        "def display_lr(lr_schedule, nb_epochs):\n",
        "  x = np.arange(nb_epochs)\n",
        "  y = [lr_schedule(i) for i in x]\n",
        "  plt.figure(figsize=(9,5))\n",
        "  plt.plot(x,y)\n",
        "  plt.title(\"Learning rate schedule\\nmax={:.2e}, min={:.2e}\".format(np.max(y), np.min(y)),\n",
        "            y=0.85)\n",
        "  plt.show()\n",
        "\n",
        "def display_loss(history, full_history, nb_epochs, steps_per_epoch):\n",
        "  plt.figure()\n",
        "  plt.plot(np.arange(0, len(full_history['loss']))/steps_per_epoch, full_history['loss'], label='detailed loss')\n",
        "  plt.plot(np.arange(1, nb_epochs+1), history['loss'], color='red', linewidth=3, label='average loss per epoch')\n",
        "  plt.ylim(0,3*max(history['loss'][1:]))\n",
        "  plt.xlabel('EPOCH')\n",
        "  plt.ylabel('LOSS')\n",
        "  plt.xlim(0, nb_epochs+0.5)\n",
        "  plt.legend()\n",
        "  for epoch in range(nb_epochs//2+1):\n",
        "    plt.gca().axvspan(2*epoch, 2*epoch+1, alpha=0.05, color='grey')\n",
        "  plt.show()\n",
        "\n"
      ],
      "execution_count": 0,
      "outputs": []
    },
    {
      "cell_type": "code",
      "metadata": {
        "colab_type": "code",
        "id": "Vsybl4kzrvOu",
        "colab": {}
      },
      "source": [
        "cadastro_estacoes = pd.read_csv(DATASETS_DIR + r'cadastro_estacoes.csv')\n",
        "dados_estacoes = []\n",
        "for i,row in cadastro_estacoes.iterrows():\n",
        "    dados_estacao = pd.read_csv(DATASETS_DIR + r'estacao_{0}.csv'.format(row['id']),delimiter=';')\n",
        "    dados_estacao['datahora'] = pd.to_datetime(dados_estacao['Data'],format='%d/%m/%Y')\n",
        "    dados_estacao.index = pd.to_datetime(dados_estacao['datahora'])\n",
        "    new_column_name = f\"Precipitacao_{row['id']}\"\n",
        "    dados_estacao = dados_estacao.rename(columns = {'Precipitacao':new_column_name})\n",
        "    dados_estacoes.append(dados_estacao[['datahora',new_column_name]])\n",
        "    \n",
        "dados_estacoes = pd.concat(dados_estacoes, axis=1)\n",
        "dados_estacoes = dados_estacoes.drop(columns=['datahora',])\n",
        "dados_estacoes = dados_estacoes.fillna(0)\n",
        "\n",
        "#dados_estacoes\n",
        "#Precipitacao_83533\tPrecipitacao_83536\tPrecipitacao_83570\tPrecipitacao_83581\tPrecipitacao_83586\tPrecipitacao_83587\tPrecipitacao_83589\tPrecipitacao_83632\tPrecipitacao_83635"
      ],
      "execution_count": 0,
      "outputs": []
    },
    {
      "cell_type": "code",
      "metadata": {
        "id": "ntV1csnrg3f6",
        "colab_type": "code",
        "colab": {}
      },
      "source": [
        "#carrega cadastro de elevatórias\n",
        "\n",
        "cadastro_elevatorias = pd.read_csv(DATASETS_DIR + r'cadastro_elevatorias.csv',decimal=\",\")\n",
        "cadastro_elevatorias['nivel_max'] = cadastro_elevatorias['nivel_max'].astype(float)\n",
        "cadastro_elevatorias['corrente1_max'] = cadastro_elevatorias['corrente1_max'].astype(float)\n",
        "cadastro_elevatorias['corrente2_max'] = cadastro_elevatorias['corrente2_max'].astype(float)\n",
        "cadastro_elevatorias['corrente3_max'] = cadastro_elevatorias['corrente3_max'].astype(float)\n",
        "\n",
        "cadastro_sem_strings = cadastro_elevatorias.copy()\n",
        "\n",
        "tmp = cadastro_sem_strings.select_dtypes(exclude=[np.number])\n",
        "\n",
        "# integer encode\n",
        "label_encoder = LabelEncoder()\n",
        "for column in tmp.columns:\n",
        "    integer_encoded = label_encoder.fit_transform(tmp[column])\n",
        "    cadastro_sem_strings[column] = integer_encoded"
      ],
      "execution_count": 0,
      "outputs": []
    },
    {
      "cell_type": "code",
      "metadata": {
        "id": "QKKZanlfffOe",
        "colab_type": "code",
        "outputId": "5296064b-b8bd-4678-b39a-181f04c2a81a",
        "colab": {
          "base_uri": "https://localhost:8080/",
          "height": 34
        }
      },
      "source": [
        "#imprime indices das elevatorias com tipo de bomba autoescorvante\n",
        "cadastro_elevatorias[cadastro_elevatorias['Tipo de bomba'] == 'Autoescorvante']['indice'].values"
      ],
      "execution_count": 43,
      "outputs": [
        {
          "output_type": "execute_result",
          "data": {
            "text/plain": [
              "array([ 1,  8, 13, 22, 24, 25])"
            ]
          },
          "metadata": {
            "tags": []
          },
          "execution_count": 43
        }
      ]
    },
    {
      "cell_type": "code",
      "metadata": {
        "colab_type": "code",
        "id": "ewdR5dx6nL6F",
        "colab": {}
      },
      "source": [
        "def create_features(df, label=None):\n",
        "    \"\"\"\n",
        "    Creates time series features from datetime index\n",
        "    \"\"\"\n",
        "    df['date'] = df.index\n",
        "    df['hour'] = df['date'].dt.hour\n",
        "    df['dayofweek'] = df['date'].dt.dayofweek\n",
        "    df['quarter'] = df['date'].dt.quarter\n",
        "    df['month'] = df['date'].dt.month\n",
        "    df['year'] = df['date'].dt.year\n",
        "    df['dayofyear'] = df['date'].dt.dayofyear\n",
        "    df['dayofmonth'] = df['date'].dt.day\n",
        "    df['weekofyear'] = df['date'].dt.weekofyear\n",
        "    \n",
        "    X = df[['hour','dayofweek','quarter','month','year',\n",
        "           'dayofyear','dayofmonth','weekofyear']]\n",
        "    if label:\n",
        "        y = df[label]\n",
        "        return X, y\n",
        "    return X"
      ],
      "execution_count": 0,
      "outputs": []
    },
    {
      "cell_type": "code",
      "metadata": {
        "colab_type": "code",
        "id": "am1JthSj1Lms",
        "colab": {}
      },
      "source": [
        "HOURS_BEFORE = 8\n",
        "HOURS_AFTER  = 1\n",
        "\n",
        "def getTimeseriesFromElevatoria(elevatoria, years=None):\n",
        "  timeseries_file   = DATASETS_DIR + f'timeseries_elevatoria_{elevatoria}.csv'\n",
        "  #realiza leitura de arquivo csv, configura frequencia, renomeia coluna e cria coluna de data para deixar identico ao timeseries original\n",
        "  timeseries   = pd.read_csv(timeseries_file, parse_dates=['TIMESTAMP','TIMESTAMP.1', 'TIMESTAMP_fim'], index_col=0)\n",
        "  timeseries = timeseries.rename(columns={'TIMESTAMP.1': 'TIMESTAMP',}).asfreq('5T')\n",
        "  timeseries['DATA'] = timeseries.index.date\n",
        "  \n",
        "  if years != None:\n",
        "    timeseries = timeseries[timeseries.TIMESTAMP.dt.year.isin(years)]\n",
        "  \n",
        "  #calcula soma do tempo de extravasao para a proxima 1h (12x5 minutos)\n",
        "  timeseries['extravasao_duracao_after'] = timeseries['extravasao_duracao'].rolling(min_periods=1, window=HOURS_AFTER*12).sum().shift(-HOURS_AFTER*12)\n",
        "  timeseries['extravasao_duracao_before'] = timeseries['extravasao_duracao'].rolling(min_periods=1, window=HOURS_BEFORE*12).sum()\n",
        "\n",
        "  #filtra apenas as que não tiveram extravasao nas ultimas 8h para garantir que a predição não é contaminada \n",
        "  #(prever a extravasão sem saber que há uma extravasão ocorrendo tem mais valor)\n",
        "  #timeseries = timeseries[timeseries.extravasao_duracao_before == 0]\n",
        "    \n",
        "  create_features(timeseries)\n",
        "\n",
        "  #cria coluna em dados de estacoes metereologicas e une dados a estacao\n",
        "  dados_estacoes['DATA'] = dados_estacoes.index.date\n",
        "  timeseries = pd.merge(timeseries, dados_estacoes,on='DATA')    \n",
        "    \n",
        "  #varre cada uma das colunas do cadastro criando novas colunas (categorical data) na serie temporal\n",
        "  for column in cadastro_sem_strings.columns:\n",
        "    timeseries[column] = cadastro_sem_strings.iloc[elevatoria - 1][column]\n",
        "\n",
        "  #conta quantidade de valores nulos nas proximas 8h  \n",
        "  timeseries['isnull']          = 0\n",
        "  timeseries.loc[timeseries.nivel.isnull(), 'isnull'] = 1\n",
        "  timeseries['contagem_valores_nulos_prox_8h']          = timeseries['isnull'].rolling(min_periods=1, window=8*12).sum().shift(8*12)    \n",
        "    \n",
        "  #marca valores nan com -1\n",
        "  #timeseries = timeseries.fillna(-1)\n",
        "  \n",
        "  #seta valor de colunas de saida = 0 caso valor seja menor que 0\n",
        "  #timeseries.loc[timeseries['extravasao_duracao_after'] < 0, 'extravasao_duracao_after'] = 0.0\n",
        "  #timeseries.loc[timeseries['extravasao_duracao_before'] < 0, 'extravasao_duracao_before'] = 0.0\n",
        "  \n",
        "  \n",
        "  #converte valor das colunas de duracao para horas\n",
        "  for col in timeseries.columns:\n",
        "    if 'duracao' in col:\n",
        "      #transforma para horas\n",
        "      timeseries[col] = timeseries[col] * 1.0/ 3600\n",
        "  \n",
        "  \n",
        "  #remove linhas em que, ao menos metade das 8h proximas, possuem valor nulo\n",
        "  #timeseries = timeseries[timeseries.contagem_valores_nulos_prox_8h < 48]\n",
        "\n",
        "  return timeseries \n"
      ],
      "execution_count": 0,
      "outputs": []
    },
    {
      "cell_type": "code",
      "metadata": {
        "colab_type": "code",
        "id": "MPC6do2plW3f",
        "colab": {}
      },
      "source": [
        "# multivariate output data prep\n",
        "\n",
        "\n",
        "# split a multivariate sequence into samples\n",
        "def split_sequences(sequences, n_steps):\n",
        "    X, y = list(), list()\n",
        "    for i in range(len(sequences)):\n",
        "        # find the end of this pattern\n",
        "        end_ix = i + n_steps\n",
        "        # check if we are beyond the dataset\n",
        "        if end_ix > len(sequences):\n",
        "            break\n",
        "        # gather input and output parts of the pattern\n",
        "        seq_x, seq_y = sequences[i:end_ix, :-1], sequences[end_ix-1, -1]\n",
        "        X.append(seq_x)\n",
        "        y.append(seq_y)\n",
        "    return np.array(X), np.array(y)\n",
        "\n",
        " \n",
        "\n",
        "def prepare_multivar_timeseries_tofit(timeseries, input_columns, output_columns, n_steps = 96):\n",
        "    \"\"\"\n",
        "    prepara serie temporal para fit do modelo\n",
        "    n_steps com valor defaul de 96 considerando 8 horas (12 registros de 5min/hora => 12*8)\n",
        "    \"\"\"\n",
        "    #tamanho dos vetores\n",
        "    size_of_arrays = len(timeseries.index)\n",
        "\n",
        "    #sequencias de entradas e saídas convertidas em estruturas de [linhas, colunas]\n",
        "    in_seqs  = [timeseries[col].values.reshape((size_of_arrays, 1)) for col in input_columns]\n",
        "    out_seqs = [timeseries[col].values.reshape((size_of_arrays, 1)) for col in output_columns]\n",
        "\n",
        "    # horizontally stack columns\n",
        "    dataset = np.hstack(tuple(in_seqs + out_seqs))\n",
        "\n",
        "\n",
        "    # convert into input/output\n",
        "    X, y = split_sequences(dataset, n_steps)\n",
        "\n",
        "    return X, y\n",
        "\n",
        "#cria lista de nomes de colunas sem saida\n",
        "output_columns    = ['tipo_extravasao',]\n",
        "columns_to_remove = ['DATA','TIMESTAMP','TIMESTAMP_fim','date', 'nivel_inv_max', 'corrente1_inv_max', \n",
        "                     'corrente2_inv_max', 'corrente3_inv_max', 'extravasao_ocorreu', 'extravasao_ocorrendo', \n",
        "                    'acc_bomba1_ocorreu', 'acc_bomba1_ocorrendo', 'acc_bomba2_ocorreu', 'acc_bomba2_ocorrendo',\n",
        "                    'acc_bomba3_ocorreu', 'acc_bomba3_ocorrendo','mnt_bomba1_ocorreu', 'mnt_bomba1_ocorrendo',\n",
        "                    'mnt_bomba2_ocorreu', 'mnt_bomba2_ocorrendo', 'mnt_bomba3_ocorreu', 'mnt_bomba3_ocorrendo',\n",
        "                     'extravasao_duracao_before','contagem_valores_nulos_prox_8h', 'isnull', 'extravasao_duracao_after',]\n",
        "#input_columns     = [k for k in timeseries.columns if k not in output_columns + columns_to_remove]\n",
        "input_columns = [\n",
        "  'nivel', 'corrente1', 'corrente2', 'corrente3', 'extravasao_contagem', \n",
        " 'extravasao_duracao', 'extravasao_contagem_cum', 'extravasao_duracao_cum',\n",
        " 'extravasao_ocorreu_cum', 'extravasao_ocorrendo_cum', 'acc_bomba1_contagem',\n",
        " 'acc_bomba1_duracao', 'acc_bomba1_contagem_cum', 'acc_bomba1_duracao_cum',\n",
        " 'acc_bomba1_ocorreu_cum', 'acc_bomba1_ocorrendo_cum', 'mnt_bomba1_contagem',\n",
        " 'mnt_bomba1_duracao', 'mnt_bomba1_contagem_cum', 'mnt_bomba1_duracao_cum',\n",
        " 'mnt_bomba1_ocorreu_cum', 'mnt_bomba1_ocorrendo_cum', 'acc_bomba2_contagem',\n",
        " 'acc_bomba2_duracao', 'acc_bomba2_contagem_cum', 'acc_bomba2_duracao_cum',\n",
        " 'acc_bomba2_ocorreu_cum', 'acc_bomba2_ocorrendo_cum', 'mnt_bomba2_contagem',\n",
        " 'mnt_bomba2_duracao', 'mnt_bomba2_contagem_cum', 'mnt_bomba2_duracao_cum',\n",
        " 'mnt_bomba2_ocorreu_cum', 'mnt_bomba2_ocorrendo_cum', 'acc_bomba3_contagem',\n",
        " 'acc_bomba3_duracao', 'acc_bomba3_contagem_cum', 'acc_bomba3_duracao_cum',\n",
        " 'acc_bomba3_ocorreu_cum', 'acc_bomba3_ocorrendo_cum', 'mnt_bomba3_contagem',\n",
        " 'mnt_bomba3_duracao', 'mnt_bomba3_contagem_cum', 'mnt_bomba3_duracao_cum',\n",
        " 'mnt_bomba3_ocorreu_cum', 'mnt_bomba3_ocorrendo_cum',\n",
        " 'hour', 'dayofweek', 'quarter', 'month', 'year', 'dayofyear', 'dayofmonth',\n",
        " 'weekofyear', 'Precipitacao_83581', 'Precipitacao_83570', 'Precipitacao_83536', \n",
        " 'Precipitacao_83533', 'Precipitacao_83635', 'Precipitacao_83632',\n",
        " 'Precipitacao_83586', 'Precipitacao_83589', 'Precipitacao_83587',\n",
        " 'indice', 'nome', 'utmx', 'utmy', 'Tipo de bomba', 'Quantidade de bombas', \n",
        " 'Vazão de recalque (l/s)', 'Altura manométrica (mca)', \n",
        " 'Diâmetro tubulação   recalque (mm)',  'Material  tubulação  recalque', \n",
        " 'Extensão  tubulação  recalque(m)', 'Retenção  resíduos', \n",
        " 'Sistema Içamento  bombas ', 'Urbanização', 'Potência instalada (cv)', \n",
        " 'Combate a odores', 'Sistema de partida das bombas',\n",
        " 'Tipo de sensor de nível utilizado no controle', 'nivel_max', \n",
        " 'corrente1_max', 'corrente2_max', 'corrente3_max', 'bomba1', 'bomba2', 'bomba3']\n",
        "\n",
        "valid_columns = input_columns + output_columns\n",
        "\n",
        "#8 horas de dados\n",
        "n_steps = 96\n",
        "n_features = len(input_columns) # a quantidade de features está presente nas entradas\n",
        "n_outputs  = 3 #opcoes de classificacao (sim, não e invalido)\n",
        "n_batch    = n_steps #1 período de 8 horas\n",
        "\n"
      ],
      "execution_count": 0,
      "outputs": []
    },
    {
      "cell_type": "code",
      "metadata": {
        "id": "crqjKM4yr85W",
        "colab_type": "code",
        "colab": {
          "base_uri": "https://localhost:8080/",
          "height": 34
        },
        "outputId": "b9c12410-4435-4318-bad5-d58ef91d4dc1"
      },
      "source": [
        "n_features"
      ],
      "execution_count": 47,
      "outputs": [
        {
          "output_type": "execute_result",
          "data": {
            "text/plain": [
              "88"
            ]
          },
          "metadata": {
            "tags": []
          },
          "execution_count": 47
        }
      ]
    },
    {
      "cell_type": "code",
      "metadata": {
        "id": "-KDiV9iRg3gg",
        "colab_type": "code",
        "colab": {}
      },
      "source": [
        "\n",
        "def get_timeseries_from_elevatoria(elevatoria, years):\n",
        "  timeseries        = getTimeseriesFromElevatoria(elevatoria,years=years)\n",
        "  timeseries['tipo_extravasao'] = 'nao'\n",
        "  timeseries.loc[timeseries['extravasao_duracao_after'] > 0, 'tipo_extravasao'] = 'sim'\n",
        "  timeseries.loc[timeseries.contagem_valores_nulos_prox_8h >= 48, 'tipo_extravasao'] = 'invalido'\n",
        "\n",
        "\n",
        "  scaler_dict = {}\n",
        "\n",
        "  #normaliza todas as colunas validas entre 0 e 1\n",
        "  for column in input_columns:\n",
        "    #values = timeseries[[column]].values\n",
        "    min_max_scaler = MinMaxScaler()\n",
        "    null_index = timeseries[column].isnull()\n",
        "    timeseries.loc[~null_index, column] = min_max_scaler.fit_transform(timeseries.loc[~null_index, [column]])\n",
        "    #timeseries[column] = min_max_scaler.fit_transform(values)\n",
        "    scaler_dict[column] = min_max_scaler\n",
        "\n",
        "  #marca valores nan com -1\n",
        "  timeseries = timeseries.fillna(-1) \n",
        "\n",
        "  return timeseries \n",
        "  "
      ],
      "execution_count": 0,
      "outputs": []
    },
    {
      "cell_type": "code",
      "metadata": {
        "id": "20zChidyncIZ",
        "colab_type": "code",
        "colab": {}
      },
      "source": [
        "def encode_output(train_y, test_y):\n",
        "  # encode class values as integers\n",
        "  encoder = LabelEncoder()\n",
        "  encoder.fit(np.array(['nao', 'sim', 'invalido']))\n",
        "  encoded_Y = encoder.transform(train_y)\n",
        "  encoded_test_Y = encoder.transform(test_y)\n",
        "  return to_categorical(encoder.transform(train_y)), \\\n",
        "          to_categorical(encoder.transform(test_y)),\\\n",
        "          encoded_Y,\\\n",
        "          encoded_test_Y"
      ],
      "execution_count": 0,
      "outputs": []
    },
    {
      "cell_type": "code",
      "metadata": {
        "id": "qoGojKz4W5k2",
        "colab_type": "code",
        "colab": {}
      },
      "source": [
        "def dummy_prepare_input(input):\n",
        "  \"\"\"\n",
        "  função dummy que não altera entrada\n",
        "  \"\"\"\n",
        "  return input\n",
        "\n",
        "\n",
        "prepare_function_by_model = {}\n",
        "prepare_function_by_model['lstm100_vanilla'] = dummy_prepare_input\n"
      ],
      "execution_count": 0,
      "outputs": []
    },
    {
      "cell_type": "code",
      "metadata": {
        "id": "pnPfhnqrwvOg",
        "colab_type": "code",
        "colab": {}
      },
      "source": [
        "#dicionario de modelos\n",
        "models = {}\n",
        "\n",
        "model = Sequential()\n",
        "model.add(LSTM(100, input_shape=(n_steps,n_features)))\n",
        "model.add(Dropout(0.5))\n",
        "model.add(Dense(100, activation='relu'))\n",
        "model.add(Dense(n_outputs, activation='softmax'))\n",
        "model.compile(loss='categorical_crossentropy', optimizer='adam', metrics=['accuracy'])\n",
        "models['lstm100_vanilla'] = model\n",
        "\n",
        "model_name = 'lstm100_vanilla'\n",
        "model = models[model_name]"
      ],
      "execution_count": 0,
      "outputs": []
    },
    {
      "cell_type": "code",
      "metadata": {
        "id": "6CE83ps-LH5_",
        "colab_type": "code",
        "outputId": "6f47ba3d-a2fb-4580-a340-b2c23d9163d0",
        "colab": {
          "base_uri": "https://localhost:8080/",
          "height": 533
        }
      },
      "source": [
        "#imagem detalhando o modelo lstm100_vanilla\n",
        "plot_model(model, to_file='model_lstm100_vanilla.png', show_shapes=True, show_layer_names=True)"
      ],
      "execution_count": 52,
      "outputs": [
        {
          "output_type": "execute_result",
          "data": {
            "image/png": "[encoded data removed]",
            "text/plain": [
              "<IPython.core.display.Image object>"
            ]
          },
          "metadata": {
            "tags": []
          },
          "execution_count": 52
        }
      ]
    },
    {
      "cell_type": "code",
      "metadata": {
        "id": "O_ZBn65LlH1B",
        "colab_type": "code",
        "colab": {}
      },
      "source": [
        "# Keras model callbacks\n",
        "\n",
        "# This callback records a per-step loss history instead of the average loss per\n",
        "# epoch that Keras normally reports. It allows you to see more problems.\n",
        "class LossHistory(tf.keras.callbacks.Callback):\n",
        "  def on_train_begin(self, logs={}):\n",
        "      self.history = {'loss': []}\n",
        "  def on_batch_end(self, batch, logs={}):\n",
        "      self.history['loss'].append(logs.get('loss'))\n",
        "      \n",
        "# This callback resets the RNN state at each epoch\n",
        "class ResetStateCallback(tf.keras.callbacks.Callback):\n",
        "  def on_epoch_begin(self, batch, logs={}):\n",
        "      self.model.reset_states()\n",
        "      print('reset state')\n",
        "\n",
        "reset_state = ResetStateCallback()\n",
        "      \n",
        "# learning rate decay callback\n",
        "#def lr_schedule(epoch): return 0.01\n",
        "def lr_schedule(epoch): return 0.0001 + 0.01 * pow(0.65, epoch)\n",
        "lr_decay = tf.keras.callbacks.LearningRateScheduler(lr_schedule, verbose=True)\n",
        "\n",
        "\n",
        "full_history = LossHistory()\n",
        "'''\n",
        "saves the model weights after each epoch if the validation loss decreased\n",
        "'''\n",
        "best_file_path = MODELS_DIR + f\"best_{model_name}\" +\"_weights.{epoch:02d}-{val_loss:.hdf5}.h5\"\n",
        "checkpointer = ModelCheckpoint(filepath=best_file_path, verbose=1, save_best_only=True)\n"
      ],
      "execution_count": 0,
      "outputs": []
    },
    {
      "cell_type": "code",
      "metadata": {
        "id": "7ZPIUJhVsUyn",
        "colab_type": "code",
        "outputId": "f4022bff-edbc-4a09-98e8-787c110c8c60",
        "colab": {
          "base_uri": "https://localhost:8080/",
          "height": 592
        }
      },
      "source": [
        "epoch = 1\n",
        "NB_EPOCHS = 10\n",
        "if epoch > 1:\n",
        "  model.load_weights(MODELS_DIR + f\"{model_name}_invclass_{elevatoria}_epoch{epoch - 1}_batch{n_batch}.h5\")\n",
        "\n",
        "# this prints a description of the model\n",
        "model.summary()\n",
        "\n",
        "display_lr(lr_schedule, NB_EPOCHS)\n",
        "\n"
      ],
      "execution_count": 54,
      "outputs": [
        {
          "output_type": "stream",
          "text": [
            "Model: \"sequential_2\"\n",
            "_________________________________________________________________\n",
            "Layer (type)                 Output Shape              Param #   \n",
            "=================================================================\n",
            "lstm_2 (LSTM)                (None, 100)               75600     \n",
            "_________________________________________________________________\n",
            "dropout_2 (Dropout)          (None, 100)               0         \n",
            "_________________________________________________________________\n",
            "dense_3 (Dense)              (None, 100)               10100     \n",
            "_________________________________________________________________\n",
            "dense_4 (Dense)              (None, 3)                 303       \n",
            "=================================================================\n",
            "Total params: 86,003\n",
            "Trainable params: 86,003\n",
            "Non-trainable params: 0\n",
            "_________________________________________________________________\n"
          ],
          "name": "stdout"
        },
        {
          "output_type": "display_data",
          "data": {
            "image/png": "[encoded data removed]",
            "text/plain": [
              "<Figure size 648x360 with 1 Axes>"
            ]
          },
          "metadata": {
            "tags": [],
            "needs_background": "light"
          }
        }
      ]
    },
    {
      "cell_type": "code",
      "metadata": {
        "id": "QLrDKEaQ9VnE",
        "colab_type": "code",
        "colab": {}
      },
      "source": [
        "history_elevatorias = {}\n",
        "epoch = 1"
      ],
      "execution_count": 0,
      "outputs": []
    },
    {
      "cell_type": "code",
      "metadata": {
        "id": "95rKTJkhRoAQ",
        "colab_type": "code",
        "outputId": "dd7625b4-087e-45b2-f3a5-e1a6769b7dce",
        "colab": {
          "base_uri": "https://localhost:8080/",
          "height": 153
        }
      },
      "source": [
        "timeseries = get_timeseries_from_elevatoria(1, [2018,])\n",
        "print(timeseries.shape)\n",
        "\n",
        "#preparacao dos dados de treinamento e teste\n",
        "train_x, train_y = prepare_multivar_timeseries_tofit(timeseries, input_columns, output_columns, n_steps)\n",
        "print(train_x.shape)\n",
        "print(train_y.shape)\n",
        "\n",
        "#encode for classification task\n",
        "train_y, test_y, encoded_Y, encoded_test_Y = encode_output(train_y, train_y)\n",
        "print(train_y.shape)\n",
        "print(test_y.shape)\n",
        "print(encoded_Y.shape)\n",
        "print(encoded_test_Y.shape)\n",
        "\n",
        "prepare_input_function = prepare_function_by_model[model_name]\n",
        "print(prepare_input_function(train_x).shape)\n"
      ],
      "execution_count": 28,
      "outputs": [
        {
          "output_type": "stream",
          "text": [
            "(8895, 115)\n",
            "(8800, 96, 88)\n",
            "(8800,)\n",
            "(8800, 3)\n",
            "(8800, 3)\n",
            "(8800,)\n",
            "(8800,)\n",
            "(8800, 96, 88)\n"
          ],
          "name": "stdout"
        }
      ]
    },
    {
      "cell_type": "code",
      "metadata": {
        "id": "ppuwMfUpg3gn",
        "colab_type": "code",
        "outputId": "8180d087-d191-4ff1-aae4-9c3819d1bc63",
        "colab": {
          "base_uri": "https://localhost:8080/",
          "height": 1000
        }
      },
      "source": [
        "elevatorias_escolhidas = [1, 22, 25] #apenas autoescorvantes\n",
        "#elevatorias_escolhidas = [1,10,11,12,25] #vários tipos de bombas\n",
        "epoch = 0\n",
        "for nepoch in range(NB_EPOCHS):\n",
        "  epoch +=1\n",
        "  for year in [2016,2017,2018]:\n",
        "    print(f'Epoca {epoch} - ano {year}')      \n",
        "    for elevatoria in elevatorias_escolhidas:\n",
        "      print(f'Treinando dados da elevatoria {elevatoria}...')\n",
        "      timeseries = get_timeseries_from_elevatoria(elevatoria, [year,])\n",
        "\n",
        "      #preparacao dos dados de treinamento e teste\n",
        "      train_x, train_y = prepare_multivar_timeseries_tofit(timeseries, input_columns, output_columns, n_steps)\n",
        "\n",
        "      #encode for classification task\n",
        "      train_y, test_y, encoded_Y, encoded_test_Y = encode_output(train_y, train_y)\n",
        "      \n",
        "      full_history = LossHistory()\n",
        "      \n",
        "      # fit network\n",
        "      number_of_epochs = NB_EPOCHS\n",
        "      prepare_input_function = prepare_function_by_model[model_name]\n",
        "      history  = model.fit(prepare_input_function(train_x), \n",
        "                          train_y, \n",
        "                          batch_size=n_batch, \n",
        "                          epochs=1, \n",
        "                          #validation_data=(prepare_input_function(test_x), encoded_test_Y), \n",
        "                          verbose=1,\n",
        "                          callbacks=[full_history,])\n",
        "      model.save(MODELS_DIR + f\"{model_name}_{elevatoria}_epoch{epoch}_batch{n_batch}_{year}_complete_1htest_autoescorvantes.h5\")\n",
        "      try:\n",
        "        history_elevatorias[elevatoria]['history'].append(history)\n",
        "        history_elevatorias[elevatoria]['full_history'].append(full_history)\n",
        "      except:\n",
        "        history_elevatorias[elevatoria] = {}\n",
        "        history_elevatorias[elevatoria]['history'] =[]\n",
        "        history_elevatorias[elevatoria]['history'] = [history,]\n",
        "        history_elevatorias[elevatoria]['full_history'] =[]\n",
        "        history_elevatorias[elevatoria]['full_history'] = [full_history,]\n",
        "        pass\n",
        "      test_y = None\n",
        "      test_x = None\n",
        "      train_x = None\n",
        "      train_y = None\n",
        "      train = None\n",
        "      test = None\n",
        "      timeseries = None\n",
        "      encoded_Y = None\n",
        "      encoded_test_Y = None\n",
        "      import gc\n",
        "      gc.collect()\n"
      ],
      "execution_count": 0,
      "outputs": [
        {
          "output_type": "stream",
          "text": [
            "Epoca 1 - ano 2016\n",
            "Treinando dados da elevatoria 1...\n",
            "Epoch 1/1\n",
            "105313/105313 [==============================] - 168s 2ms/step - loss: 0.1642 - acc: 0.9587\n",
            "Treinando dados da elevatoria 22...\n",
            "Epoch 1/1\n",
            "105313/105313 [==============================] - 167s 2ms/step - loss: 0.2076 - acc: 0.9397\n",
            "Treinando dados da elevatoria 25...\n",
            "Epoch 1/1\n",
            "105313/105313 [==============================] - 167s 2ms/step - loss: 0.1816 - acc: 0.9495\n",
            "Epoca 1 - ano 2017\n",
            "Treinando dados da elevatoria 1...\n",
            "Epoch 1/1\n",
            "105025/105025 [==============================] - 167s 2ms/step - loss: 0.1707 - acc: 0.9592\n",
            "Treinando dados da elevatoria 22...\n",
            "Epoch 1/1\n",
            "105025/105025 [==============================] - 172s 2ms/step - loss: 0.1443 - acc: 0.9623\n",
            "Treinando dados da elevatoria 25...\n",
            "Epoch 1/1\n",
            "105025/105025 [==============================] - 168s 2ms/step - loss: 0.1836 - acc: 0.9449\n",
            "Epoca 1 - ano 2018\n",
            "Treinando dados da elevatoria 1...\n",
            "Epoch 1/1\n",
            "8800/8800 [==============================] - 14s 2ms/step - loss: 0.0949 - acc: 0.9790\n",
            "Treinando dados da elevatoria 22...\n",
            "Epoch 1/1\n",
            "59238/59238 [==============================] - 98s 2ms/step - loss: 0.1563 - acc: 0.9625\n",
            "Treinando dados da elevatoria 25...\n",
            "Epoch 1/1\n",
            "59240/59240 [==============================] - 99s 2ms/step - loss: 0.2748 - acc: 0.9054\n",
            "Epoca 2 - ano 2016\n",
            "Treinando dados da elevatoria 1...\n",
            "Epoch 1/1\n",
            "105313/105313 [==============================] - 169s 2ms/step - loss: 0.1216 - acc: 0.9697\n",
            "Treinando dados da elevatoria 22...\n",
            "Epoch 1/1\n",
            "105313/105313 [==============================] - 170s 2ms/step - loss: 0.1844 - acc: 0.9431\n",
            "Treinando dados da elevatoria 25...\n",
            "Epoch 1/1\n",
            "105313/105313 [==============================] - 168s 2ms/step - loss: 0.1704 - acc: 0.9506\n",
            "Epoca 2 - ano 2017\n",
            "Treinando dados da elevatoria 1...\n",
            "Epoch 1/1\n",
            "105025/105025 [==============================] - 167s 2ms/step - loss: 0.1366 - acc: 0.9679\n",
            "Treinando dados da elevatoria 22...\n",
            "Epoch 1/1\n",
            "105025/105025 [==============================] - 166s 2ms/step - loss: 0.1325 - acc: 0.9642\n",
            "Treinando dados da elevatoria 25...\n",
            "Epoch 1/1\n",
            "105025/105025 [==============================] - 169s 2ms/step - loss: 0.1775 - acc: 0.9453\n",
            "Epoca 2 - ano 2018\n",
            "Treinando dados da elevatoria 1...\n",
            "Epoch 1/1\n",
            "8800/8800 [==============================] - 14s 2ms/step - loss: 0.0904 - acc: 0.9793\n",
            "Treinando dados da elevatoria 22...\n",
            "Epoch 1/1\n",
            "59238/59238 [==============================] - 98s 2ms/step - loss: 0.1469 - acc: 0.9620\n",
            "Treinando dados da elevatoria 25...\n",
            "Epoch 1/1\n",
            "59240/59240 [==============================] - 100s 2ms/step - loss: 0.2565 - acc: 0.9072\n",
            "Epoca 3 - ano 2016\n",
            "Treinando dados da elevatoria 1...\n",
            "Epoch 1/1\n",
            "105313/105313 [==============================] - 167s 2ms/step - loss: 0.1122 - acc: 0.9707\n",
            "Treinando dados da elevatoria 22...\n",
            "Epoch 1/1\n",
            "105313/105313 [==============================] - 168s 2ms/step - loss: 0.1769 - acc: 0.9442\n",
            "Treinando dados da elevatoria 25...\n",
            "Epoch 1/1\n",
            "105313/105313 [==============================] - 170s 2ms/step - loss: 0.1618 - acc: 0.9507\n",
            "Epoca 3 - ano 2017\n",
            "Treinando dados da elevatoria 1...\n",
            "Epoch 1/1\n",
            "105025/105025 [==============================] - 169s 2ms/step - loss: 0.1260 - acc: 0.9675\n",
            "Treinando dados da elevatoria 22...\n",
            "Epoch 1/1\n",
            "105025/105025 [==============================] - 171s 2ms/step - loss: 0.1286 - acc: 0.9643\n",
            "Treinando dados da elevatoria 25...\n",
            "Epoch 1/1\n",
            "105025/105025 [==============================] - 167s 2ms/step - loss: 0.1687 - acc: 0.9462\n",
            "Epoca 3 - ano 2018\n",
            "Treinando dados da elevatoria 1...\n",
            "Epoch 1/1\n",
            "8800/8800 [==============================] - 14s 2ms/step - loss: 0.0890 - acc: 0.9786\n",
            "Treinando dados da elevatoria 22...\n",
            "Epoch 1/1\n",
            "59238/59238 [==============================] - 97s 2ms/step - loss: 0.1379 - acc: 0.9631\n",
            "Treinando dados da elevatoria 25...\n",
            "Epoch 1/1\n",
            "59240/59240 [==============================] - 98s 2ms/step - loss: 0.2413 - acc: 0.9091\n",
            "Epoca 4 - ano 2016\n",
            "Treinando dados da elevatoria 1...\n",
            "Epoch 1/1\n",
            "105313/105313 [==============================] - 166s 2ms/step - loss: 0.1053 - acc: 0.9706\n",
            "Treinando dados da elevatoria 22...\n",
            "Epoch 1/1\n",
            "105313/105313 [==============================] - 167s 2ms/step - loss: 0.1719 - acc: 0.9446\n",
            "Treinando dados da elevatoria 25...\n",
            "Epoch 1/1\n",
            "105313/105313 [==============================] - 167s 2ms/step - loss: 0.1534 - acc: 0.9520\n",
            "Epoca 4 - ano 2017\n",
            "Treinando dados da elevatoria 1...\n",
            "Epoch 1/1\n",
            "105025/105025 [==============================] - 167s 2ms/step - loss: 0.1121 - acc: 0.9706\n",
            "Treinando dados da elevatoria 22...\n",
            "Epoch 1/1\n",
            "105025/105025 [==============================] - 169s 2ms/step - loss: 0.1238 - acc: 0.9651\n",
            "Treinando dados da elevatoria 25...\n",
            "Epoch 1/1\n",
            "105025/105025 [==============================] - 169s 2ms/step - loss: 0.1616 - acc: 0.9465\n",
            "Epoca 4 - ano 2018\n",
            "Treinando dados da elevatoria 1...\n",
            "Epoch 1/1\n",
            "8800/8800 [==============================] - 14s 2ms/step - loss: 0.0868 - acc: 0.9793\n",
            "Treinando dados da elevatoria 22...\n",
            "Epoch 1/1\n",
            "59238/59238 [==============================] - 99s 2ms/step - loss: 0.1285 - acc: 0.9635\n",
            "Treinando dados da elevatoria 25...\n",
            "Epoch 1/1\n",
            "59240/59240 [==============================] - 100s 2ms/step - loss: 0.2330 - acc: 0.9120\n",
            "Epoca 5 - ano 2016\n",
            "Treinando dados da elevatoria 1...\n",
            "Epoch 1/1\n",
            "105313/105313 [==============================] - 170s 2ms/step - loss: 0.0963 - acc: 0.9723\n",
            "Treinando dados da elevatoria 22...\n",
            "Epoch 1/1\n",
            "105313/105313 [==============================] - 171s 2ms/step - loss: 0.1616 - acc: 0.9476\n",
            "Treinando dados da elevatoria 25...\n",
            "Epoch 1/1\n",
            "105313/105313 [==============================] - 173s 2ms/step - loss: 0.1435 - acc: 0.9543\n",
            "Epoca 5 - ano 2017\n",
            "Treinando dados da elevatoria 1...\n",
            "Epoch 1/1\n",
            "105025/105025 [==============================] - 173s 2ms/step - loss: 0.1049 - acc: 0.9729\n",
            "Treinando dados da elevatoria 22...\n",
            "Epoch 1/1\n",
            "105025/105025 [==============================] - 172s 2ms/step - loss: 0.1157 - acc: 0.9656\n",
            "Treinando dados da elevatoria 25...\n",
            "Epoch 1/1\n",
            "105025/105025 [==============================] - 172s 2ms/step - loss: 0.1552 - acc: 0.9473\n",
            "Epoca 5 - ano 2018\n",
            "Treinando dados da elevatoria 1...\n",
            "Epoch 1/1\n",
            "8800/8800 [==============================] - 15s 2ms/step - loss: 0.0840 - acc: 0.9797\n",
            "Treinando dados da elevatoria 22...\n",
            "Epoch 1/1\n",
            "59238/59238 [==============================] - 101s 2ms/step - loss: 0.1200 - acc: 0.9652\n",
            "Treinando dados da elevatoria 25...\n",
            "Epoch 1/1\n",
            "59240/59240 [==============================] - 101s 2ms/step - loss: 0.2263 - acc: 0.9146\n",
            "Epoca 6 - ano 2016\n",
            "Treinando dados da elevatoria 1...\n",
            "Epoch 1/1\n",
            "105313/105313 [==============================] - 173s 2ms/step - loss: 0.0902 - acc: 0.9742\n",
            "Treinando dados da elevatoria 22...\n",
            "Epoch 1/1\n",
            "105313/105313 [==============================] - 173s 2ms/step - loss: 0.1520 - acc: 0.9501\n",
            "Treinando dados da elevatoria 25...\n",
            "Epoch 1/1\n",
            "105313/105313 [==============================] - 173s 2ms/step - loss: 0.1363 - acc: 0.9560\n",
            "Epoca 6 - ano 2017\n",
            "Treinando dados da elevatoria 1...\n",
            "Epoch 1/1\n",
            "105025/105025 [==============================] - 173s 2ms/step - loss: 0.1019 - acc: 0.9725\n",
            "Treinando dados da elevatoria 22...\n",
            "Epoch 1/1\n",
            "105025/105025 [==============================] - 173s 2ms/step - loss: 0.1172 - acc: 0.9656\n",
            "Treinando dados da elevatoria 25...\n",
            "Epoch 1/1\n",
            "105025/105025 [==============================] - 173s 2ms/step - loss: 0.1515 - acc: 0.9478\n",
            "Epoca 6 - ano 2018\n",
            "Treinando dados da elevatoria 1...\n",
            "Epoch 1/1\n",
            "8800/8800 [==============================] - 14s 2ms/step - loss: 0.0847 - acc: 0.9799\n",
            "Treinando dados da elevatoria 22...\n",
            "Epoch 1/1\n",
            "59238/59238 [==============================] - 100s 2ms/step - loss: 0.1117 - acc: 0.9666\n",
            "Treinando dados da elevatoria 25...\n",
            "Epoch 1/1\n",
            "59240/59240 [==============================] - 102s 2ms/step - loss: 0.2205 - acc: 0.9176\n",
            "Epoca 7 - ano 2016\n",
            "Treinando dados da elevatoria 1...\n",
            "Epoch 1/1\n",
            "105313/105313 [==============================] - 173s 2ms/step - loss: 0.0860 - acc: 0.9756\n",
            "Treinando dados da elevatoria 22...\n",
            "Epoch 1/1\n",
            "105313/105313 [==============================] - 175s 2ms/step - loss: 0.1423 - acc: 0.9516\n",
            "Treinando dados da elevatoria 25...\n",
            "Epoch 1/1\n",
            "105313/105313 [==============================] - 179s 2ms/step - loss: 0.1370 - acc: 0.9563\n",
            "Epoca 7 - ano 2017\n",
            "Treinando dados da elevatoria 1...\n",
            "Epoch 1/1\n",
            "105025/105025 [==============================] - 174s 2ms/step - loss: 0.1038 - acc: 0.9736\n",
            "Treinando dados da elevatoria 22...\n",
            "Epoch 1/1\n",
            "105025/105025 [==============================] - 174s 2ms/step - loss: 0.1136 - acc: 0.9655\n",
            "Treinando dados da elevatoria 25...\n",
            "Epoch 1/1\n",
            "105025/105025 [==============================] - 172s 2ms/step - loss: 0.1482 - acc: 0.9492\n",
            "Epoca 7 - ano 2018\n",
            "Treinando dados da elevatoria 1...\n",
            "Epoch 1/1\n",
            "8800/8800 [==============================] - 14s 2ms/step - loss: 0.0763 - acc: 0.9795\n",
            "Treinando dados da elevatoria 22...\n",
            "Epoch 1/1\n",
            "59238/59238 [==============================] - 99s 2ms/step - loss: 0.1103 - acc: 0.9670\n",
            "Treinando dados da elevatoria 25...\n",
            "Epoch 1/1\n",
            "59240/59240 [==============================] - 99s 2ms/step - loss: 0.2133 - acc: 0.9168\n",
            "Epoca 8 - ano 2016\n",
            "Treinando dados da elevatoria 1...\n",
            "Epoch 1/1\n",
            "105313/105313 [==============================] - 171s 2ms/step - loss: 0.0791 - acc: 0.9768\n",
            "Treinando dados da elevatoria 22...\n",
            "Epoch 1/1\n",
            "105313/105313 [==============================] - 172s 2ms/step - loss: 0.1422 - acc: 0.9523\n",
            "Treinando dados da elevatoria 25...\n",
            "Epoch 1/1\n",
            "105313/105313 [==============================] - 170s 2ms/step - loss: 0.1339 - acc: 0.9569\n",
            "Epoca 8 - ano 2017\n",
            "Treinando dados da elevatoria 1...\n",
            "Epoch 1/1\n",
            "105025/105025 [==============================] - 170s 2ms/step - loss: 0.0962 - acc: 0.9747\n",
            "Treinando dados da elevatoria 22...\n",
            "Epoch 1/1\n",
            "105025/105025 [==============================] - 170s 2ms/step - loss: 0.1089 - acc: 0.9665\n",
            "Treinando dados da elevatoria 25...\n",
            "Epoch 1/1\n",
            "105025/105025 [==============================] - 170s 2ms/step - loss: 0.1458 - acc: 0.9492\n",
            "Epoca 8 - ano 2018\n",
            "Treinando dados da elevatoria 1...\n",
            "Epoch 1/1\n",
            "8800/8800 [==============================] - 14s 2ms/step - loss: 0.0745 - acc: 0.9795\n",
            "Treinando dados da elevatoria 22...\n",
            "Epoch 1/1\n",
            "59238/59238 [==============================] - 98s 2ms/step - loss: 0.0999 - acc: 0.9688\n",
            "Treinando dados da elevatoria 25...\n",
            "Epoch 1/1\n",
            "59240/59240 [==============================] - 100s 2ms/step - loss: 0.2025 - acc: 0.9205\n",
            "Epoca 9 - ano 2016\n",
            "Treinando dados da elevatoria 1...\n",
            "Epoch 1/1\n",
            "105313/105313 [==============================] - 170s 2ms/step - loss: 0.0776 - acc: 0.9774\n",
            "Treinando dados da elevatoria 22...\n",
            "Epoch 1/1\n",
            "105313/105313 [==============================] - 170s 2ms/step - loss: 0.1310 - acc: 0.9548\n",
            "Treinando dados da elevatoria 25...\n",
            "Epoch 1/1\n",
            "105313/105313 [==============================] - 171s 2ms/step - loss: 0.1266 - acc: 0.9583\n",
            "Epoca 9 - ano 2017\n",
            "Treinando dados da elevatoria 1...\n",
            "Epoch 1/1\n",
            "105025/105025 [==============================] - 171s 2ms/step - loss: 0.0960 - acc: 0.9753\n",
            "Treinando dados da elevatoria 22...\n",
            "Epoch 1/1\n",
            "105025/105025 [==============================] - 171s 2ms/step - loss: 0.1064 - acc: 0.9668\n",
            "Treinando dados da elevatoria 25...\n",
            "Epoch 1/1\n",
            "105025/105025 [==============================] - 172s 2ms/step - loss: 0.1388 - acc: 0.9504\n",
            "Epoca 9 - ano 2018\n",
            "Treinando dados da elevatoria 1...\n",
            "Epoch 1/1\n",
            "8800/8800 [==============================] - 14s 2ms/step - loss: 0.0672 - acc: 0.9811\n",
            "Treinando dados da elevatoria 22...\n",
            "Epoch 1/1\n",
            "59238/59238 [==============================] - 101s 2ms/step - loss: 0.0981 - acc: 0.9701\n",
            "Treinando dados da elevatoria 25...\n",
            "Epoch 1/1\n",
            "59240/59240 [==============================] - 100s 2ms/step - loss: 0.1960 - acc: 0.9226\n",
            "Epoca 10 - ano 2016\n",
            "Treinando dados da elevatoria 1...\n",
            "Epoch 1/1\n",
            "105313/105313 [==============================] - 168s 2ms/step - loss: 0.0720 - acc: 0.9782\n",
            "Treinando dados da elevatoria 22...\n",
            "Epoch 1/1\n",
            "105313/105313 [==============================] - 168s 2ms/step - loss: 0.1265 - acc: 0.9556\n",
            "Treinando dados da elevatoria 25...\n",
            "Epoch 1/1\n",
            "105313/105313 [==============================] - 173s 2ms/step - loss: 0.1221 - acc: 0.9592\n",
            "Epoca 10 - ano 2017\n",
            "Treinando dados da elevatoria 1...\n",
            "Epoch 1/1\n",
            "105025/105025 [==============================] - 170s 2ms/step - loss: 0.0954 - acc: 0.9747\n",
            "Treinando dados da elevatoria 22...\n",
            "Epoch 1/1\n",
            "105025/105025 [==============================] - 171s 2ms/step - loss: 0.1000 - acc: 0.9682\n",
            "Treinando dados da elevatoria 25...\n",
            "Epoch 1/1\n",
            "105025/105025 [==============================] - 173s 2ms/step - loss: 0.1377 - acc: 0.9508\n",
            "Epoca 10 - ano 2018\n",
            "Treinando dados da elevatoria 1...\n",
            "Epoch 1/1\n",
            "8800/8800 [==============================] - 15s 2ms/step - loss: 0.0689 - acc: 0.9798\n",
            "Treinando dados da elevatoria 22...\n",
            "Epoch 1/1\n",
            "59238/59238 [==============================] - 101s 2ms/step - loss: 0.0936 - acc: 0.9703\n",
            "Treinando dados da elevatoria 25...\n",
            "Epoch 1/1\n",
            "59240/59240 [==============================] - 102s 2ms/step - loss: 0.1913 - acc: 0.9253\n"
          ],
          "name": "stdout"
        }
      ]
    },
    {
      "cell_type": "code",
      "metadata": {
        "id": "-2BGRotiJJN0",
        "colab_type": "code",
        "colab": {}
      },
      "source": [
        "year = 2018\n",
        "epoch = 10\n",
        "elevatoria = 25\n",
        "\n",
        "model.load_weights(MODELS_DIR + f\"{model_name}_{elevatoria}_epoch{epoch}_batch{n_batch}_{year}_complete_1htest_autoescorvantes.h5\")"
      ],
      "execution_count": 0,
      "outputs": []
    },
    {
      "cell_type": "code",
      "metadata": {
        "id": "oUFZnV6nlQMV",
        "colab_type": "code",
        "colab": {}
      },
      "source": [
        "import sklearn.metrics as skm\n",
        "def print_accuracy_and_confusion_matrix(model, test_x, test_y, encoded_test_y, n_batch):\n",
        "  loss , accuracy = model.evaluate(test_x, encoded_test_y, batch_size=n_batch, verbose=1)\n",
        "  print('loss: {}   - accuracy: {} '.format(loss,accuracy))\n",
        "\n",
        "  predicted = model.predict(test_x, verbose=0)\n",
        "  y_pred= (predicted>0.5) \n",
        "  cm = skm.multilabel_confusion_matrix(test_y, y_pred)\n",
        "  print(cm)\n",
        "  print(skm.classification_report(test_y,y_pred))\n",
        "\n",
        "\n",
        "test_y = None\n",
        "test_x = None\n",
        "train_x = None\n",
        "train_y = None\n",
        "train = None\n",
        "test = None\n",
        "timeseries = None\n",
        "encoded_Y = None\n",
        "encoded_test_Y = None\n",
        "import gc\n",
        "gc.collect()\n",
        "\n",
        "\n",
        "timeseries = get_timeseries_from_elevatoria(13, [2016,2017,2018])\n",
        "\n",
        "#preparacao e separacao dos dados \n",
        "test_x, test_y = prepare_multivar_timeseries_tofit(timeseries, input_columns, output_columns, n_steps)\n",
        "\n",
        "#encode for classification task\n",
        "train_y, test_y, encoded_Y, encoded_test_Y = encode_output(test_y, test_y)\n",
        "\n",
        "print_accuracy_and_confusion_matrix(model, test_x, test_y, test_y, n_batch)\n",
        "\n",
        "predicted = model.predict(test_x, verbose=0)\n",
        "\n",
        "con = tf.math.confusion_matrix(labels=encoded_Y, predictions=np.argmax(predicted, axis=1) )\n",
        "tf.print(con)\n",
        "\n",
        "from sklearn.metrics import classification_report, confusion_matrix\n",
        "target_names = ['Inválidos', 'Não', 'Sim']\n",
        "print(classification_report(encoded_Y, np.argmax(predicted, axis=1), target_names=target_names))\n",
        "print(confusion_matrix(encoded_Y, np.argmax(predicted, axis=1)))"
      ],
      "execution_count": 0,
      "outputs": []
    },
    {
      "cell_type": "code",
      "metadata": {
        "id": "7M77vW7c5r6E",
        "colab_type": "code",
        "colab": {
          "base_uri": "https://localhost:8080/",
          "height": 428
        },
        "outputId": "d2571afb-5a99-4c5b-ddda-7afafb009015"
      },
      "source": [
        "print_accuracy_and_confusion_matrix(model, test_x, test_y, test_y, n_batch)"
      ],
      "execution_count": 57,
      "outputs": [
        {
          "output_type": "stream",
          "text": [
            "269767/269767 [==============================] - 146s 540us/step\n",
            "loss: 0.14314081496763342   - accuracy: 0.9722908735275269 \n",
            "[[[265777    573]\n",
            "  [  1873   1544]]\n",
            "\n",
            " [[ 32798   4691]\n",
            "  [  2249 230029]]\n",
            "\n",
            " [[233494   2201]\n",
            "  [  3356  30716]]]\n",
            "              precision    recall  f1-score   support\n",
            "\n",
            "           0       0.73      0.45      0.56      3417\n",
            "           1       0.98      0.99      0.99    232278\n",
            "           2       0.93      0.90      0.92     34072\n",
            "\n",
            "   micro avg       0.97      0.97      0.97    269767\n",
            "   macro avg       0.88      0.78      0.82    269767\n",
            "weighted avg       0.97      0.97      0.97    269767\n",
            " samples avg       0.97      0.97      0.97    269767\n",
            "\n"
          ],
          "name": "stdout"
        },
        {
          "output_type": "stream",
          "text": [
            "/usr/local/lib/python3.6/dist-packages/sklearn/metrics/_classification.py:1272: UndefinedMetricWarning: Precision and F-score are ill-defined and being set to 0.0 in samples with no predicted labels. Use `zero_division` parameter to control this behavior.\n",
            "  _warn_prf(average, modifier, msg_start, len(result))\n"
          ],
          "name": "stderr"
        }
      ]
    },
    {
      "cell_type": "code",
      "metadata": {
        "id": "fSXeFgvh5FO4",
        "colab_type": "code",
        "outputId": "c24c6ae1-5b20-4271-aa8c-766d986a7fc7",
        "colab": {
          "base_uri": "https://localhost:8080/",
          "height": 289
        }
      },
      "source": [
        "predicted = model.predict(test_x, verbose=0)\n",
        "\n",
        "con = tf.math.confusion_matrix(labels=encoded_Y, predictions=np.argmax(predicted, axis=1) )\n",
        "tf.print(con)\n",
        "\n",
        "from sklearn.metrics import classification_report, confusion_matrix\n",
        "target_names = ['Inválidos', 'Não', 'Sim']\n",
        "print(classification_report(encoded_Y, np.argmax(predicted, axis=1), target_names=target_names))\n",
        "print(confusion_matrix(encoded_Y, np.argmax(predicted, axis=1)))"
      ],
      "execution_count": 58,
      "outputs": [
        {
          "output_type": "stream",
          "text": [
            "[[1546 1425 446]\n",
            " [491 230030 1757]\n",
            " [84 3272 30716]]\n",
            "              precision    recall  f1-score   support\n",
            "\n",
            "   Inválidos       0.73      0.45      0.56      3417\n",
            "         Não       0.98      0.99      0.99    232278\n",
            "         Sim       0.93      0.90      0.92     34072\n",
            "\n",
            "    accuracy                           0.97    269767\n",
            "   macro avg       0.88      0.78      0.82    269767\n",
            "weighted avg       0.97      0.97      0.97    269767\n",
            "\n",
            "[[  1546   1425    446]\n",
            " [   491 230030   1757]\n",
            " [    84   3272  30716]]\n"
          ],
          "name": "stdout"
        }
      ]
    },
    {
      "cell_type": "code",
      "metadata": {
        "id": "HovBsy68tI_L",
        "colab_type": "code",
        "outputId": "b2c02c14-ba0e-4568-be14-4fa0a0e2f54c",
        "colab": {
          "base_uri": "https://localhost:8080/",
          "height": 700
        }
      },
      "source": [
        "test_y = None\n",
        "test_x = None\n",
        "train_x = None\n",
        "train_y = None\n",
        "train = None\n",
        "test = None\n",
        "timeseries = None\n",
        "encoded_Y = None\n",
        "encoded_test_Y = None\n",
        "import gc\n",
        "gc.collect()\n",
        "\n",
        "\n",
        "timeseries = get_timeseries_from_elevatoria(12, [2016,2017,2018])\n",
        "\n",
        "#preparacao e separacao dos dados \n",
        "test_x, test_y = prepare_multivar_timeseries_tofit(timeseries, input_columns, output_columns, n_steps)\n",
        "\n",
        "#encode for classification task\n",
        "train_y, test_y, encoded_Y, encoded_test_Y = encode_output(test_y, test_y)\n",
        "\n",
        "print_accuracy_and_confusion_matrix(model, test_x, test_y, test_y, n_batch)\n",
        "\n",
        "predicted = model.predict(test_x, verbose=0)\n",
        "\n",
        "con = tf.math.confusion_matrix(labels=encoded_Y, predictions=np.argmax(predicted, axis=1) )\n",
        "tf.print(con)\n",
        "\n",
        "from sklearn.metrics import classification_report, confusion_matrix\n",
        "target_names = ['Inválidos', 'Não', 'Sim']\n",
        "print(classification_report(encoded_Y, np.argmax(predicted, axis=1), target_names=target_names))\n",
        "print(confusion_matrix(encoded_Y, np.argmax(predicted, axis=1)))\n"
      ],
      "execution_count": 60,
      "outputs": [
        {
          "output_type": "stream",
          "text": [
            "269766/269766 [==============================] - 150s 557us/step\n",
            "loss: 0.30854934025063896   - accuracy: 0.9212836027145386 \n",
            "[[[262196   5372]\n",
            "  [  1472    726]]\n",
            "\n",
            " [[ 48855   7692]\n",
            "  [ 13313 199906]]\n",
            "\n",
            " [[207298   8119]\n",
            "  [  6492  47857]]]\n"
          ],
          "name": "stdout"
        },
        {
          "output_type": "stream",
          "text": [
            "/usr/local/lib/python3.6/dist-packages/sklearn/metrics/_classification.py:1272: UndefinedMetricWarning: Precision and F-score are ill-defined and being set to 0.0 in samples with no predicted labels. Use `zero_division` parameter to control this behavior.\n",
            "  _warn_prf(average, modifier, msg_start, len(result))\n"
          ],
          "name": "stderr"
        },
        {
          "output_type": "stream",
          "text": [
            "              precision    recall  f1-score   support\n",
            "\n",
            "           0       0.12      0.33      0.18      2198\n",
            "           1       0.96      0.94      0.95    213219\n",
            "           2       0.85      0.88      0.87     54349\n",
            "\n",
            "   micro avg       0.92      0.92      0.92    269766\n",
            "   macro avg       0.65      0.72      0.66    269766\n",
            "weighted avg       0.93      0.92      0.93    269766\n",
            " samples avg       0.92      0.92      0.92    269766\n",
            "\n",
            "[[729 1397 72]\n",
            " [5226 199940 8053]\n",
            " [186 6301 47862]]\n",
            "              precision    recall  f1-score   support\n",
            "\n",
            "   Inválidos       0.12      0.33      0.17      2198\n",
            "         Não       0.96      0.94      0.95    213219\n",
            "         Sim       0.85      0.88      0.87     54349\n",
            "\n",
            "    accuracy                           0.92    269766\n",
            "   macro avg       0.65      0.72      0.66    269766\n",
            "weighted avg       0.93      0.92      0.93    269766\n",
            "\n",
            "[[   729   1397     72]\n",
            " [  5226 199940   8053]\n",
            " [   186   6301  47862]]\n"
          ],
          "name": "stdout"
        }
      ]
    },
    {
      "cell_type": "code",
      "metadata": {
        "colab_type": "code",
        "id": "AhkZA3V0Kqc5",
        "colab": {}
      },
      "source": [
        ""
      ],
      "execution_count": 0,
      "outputs": []
    }
  ]
}