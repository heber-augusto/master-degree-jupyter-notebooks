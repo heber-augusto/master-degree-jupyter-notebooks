{
  "nbformat": 4,
  "nbformat_minor": 0,
  "metadata": {
    "accelerator": "GPU",
    "colab": {
      "name": "Multivariate_TimeSeries_Forecast_classification_ConvLSTM.ipynb",
      "provenance": [],
      "collapsed_sections": [],
      "machine_shape": "hm"
    },
    "kernelspec": {
      "name": "python3",
      "display_name": "Python 3"
    },
    "language_info": {
      "codemirror_mode": {
        "name": "ipython",
        "version": 3
      },
      "file_extension": ".py",
      "mimetype": "text/x-python",
      "name": "python",
      "nbconvert_exporter": "python",
      "pygments_lexer": "ipython3",
      "version": "3.7.3"
    }
  },
  "cells": [
    {
      "cell_type": "code",
      "metadata": {
        "id": "mmVDcQRfhYck",
        "colab_type": "code",
        "outputId": "8baa537b-4a14-4e0e-da79-867136be1ca0",
        "colab": {
          "base_uri": "https://localhost:8080/",
          "height": 219
        }
      },
      "source": [
        "GOOGLE_COLAB = 1\n",
        "\n",
        "if GOOGLE_COLAB == 1:\n",
        "  !pip install google\n",
        "  from google.colab import drive\n",
        "  drive.mount('/content/gdrive')\n",
        "  DATASETS_DIR = r'/content/gdrive/My Drive/datasets/'\n",
        "else:\n",
        "  DATASETS_DIR = r'/home/heber_augusto/mestrado/datasets/'\n",
        "\n",
        "  \n",
        "#importação de módulos e bibliotecas\n",
        "# To support both python 2 and python 3\n",
        "from __future__ import division, print_function, unicode_literals\n",
        "\n",
        "import pandas as pd\n",
        "import os\n",
        "import datetime\n",
        "import calendar\n",
        "import gc\n",
        "import re\n",
        "import math\n",
        "from math import cos, asin, sqrt\n",
        "\n",
        "\n",
        "import numpy as np\n",
        "from numpy import array, hstack\n",
        "import matplotlib.pyplot as plt\n",
        "\n",
        "from sklearn.metrics import mean_squared_error\n",
        "from sklearn.metrics import classification_report, average_precision_score, average_precision_score, precision_recall_curve, mean_squared_error\n",
        "from sklearn.preprocessing import LabelEncoder, OneHotEncoder, MinMaxScaler, StandardScaler\n",
        "\n",
        "\n",
        "from keras.models import Sequential\n",
        "from keras.layers import Dense, ConvLSTM2D, Activation, Dropout, Flatten, RepeatVector, TimeDistributed, Masking\n",
        "from keras.preprocessing.sequence import TimeseriesGenerator\n",
        "from keras.utils import to_categorical\n",
        "from keras.callbacks import ModelCheckpoint\n",
        "from keras.utils.vis_utils import plot_model\n",
        "\n",
        "import tensorflow as tf  \n"
      ],
      "execution_count": 0,
      "outputs": [
        {
          "output_type": "stream",
          "text": [
            "Requirement already satisfied: google in /usr/local/lib/python3.6/dist-packages (2.0.3)\n",
            "Requirement already satisfied: beautifulsoup4 in /usr/local/lib/python3.6/dist-packages (from google) (4.6.3)\n",
            "Go to this URL in a browser: https://accounts.google.com/o/oauth2/auth?client_id=947318989803-6bn6qk8qdgf4n4g3pfee6491hc0brc4i.apps.googleusercontent.com&redirect_uri=urn%3aietf%3awg%3aoauth%3a2.0%3aoob&response_type=code&scope=email%20https%3a%2f%2fwww.googleapis.com%2fauth%2fdocs.test%20https%3a%2f%2fwww.googleapis.com%2fauth%2fdrive%20https%3a%2f%2fwww.googleapis.com%2fauth%2fdrive.photos.readonly%20https%3a%2f%2fwww.googleapis.com%2fauth%2fpeopleapi.readonly\n",
            "\n",
            "Enter your authorization code:\n",
            "··········\n",
            "Mounted at /content/gdrive\n"
          ],
          "name": "stdout"
        },
        {
          "output_type": "stream",
          "text": [
            "Using TensorFlow backend.\n"
          ],
          "name": "stderr"
        },
        {
          "output_type": "display_data",
          "data": {
            "text/html": [
              "<p style=\"color: red;\">\n",
              "The default version of TensorFlow in Colab will soon switch to TensorFlow 2.x.<br>\n",
              "We recommend you <a href=\"https://www.tensorflow.org/guide/migrate\" target=\"_blank\">upgrade</a> now \n",
              "or ensure your notebook will continue to use TensorFlow 1.x via the <code>%tensorflow_version 1.x</code> magic:\n",
              "<a href=\"https://colab.research.google.com/notebooks/tensorflow_version.ipynb\" target=\"_blank\">more info</a>.</p>\n"
            ],
            "text/plain": [
              "<IPython.core.display.HTML object>"
            ]
          },
          "metadata": {
            "tags": []
          }
        }
      ]
    },
    {
      "cell_type": "code",
      "metadata": {
        "colab_type": "code",
        "id": "Jqhy4QF9vE6n",
        "colab": {}
      },
      "source": [
        "\n",
        "  \n",
        "# Where to save the figures and other files\n",
        "PROJECT_ROOT_DIR = DATASETS_DIR\n",
        "MODEL_FOLDER = 'classification/'\n",
        "MODELS_DIR = DATASETS_DIR + MODEL_FOLDER\n",
        "FOLDER_ID = MODEL_FOLDER\n",
        "IMAGES_PATH = os.path.join(PROJECT_ROOT_DIR, \"images\")\n",
        "EXPORT_TO_FILES = True\n",
        "\n",
        "\n",
        "def save_fig(fig_id, tight_layout=True, fig_extension=\"png\", resolution=300):\n",
        "    path = os.path.join(IMAGES_PATH, fig_id + \".\" + fig_extension)\n",
        "    print(\"Saving figure\", fig_id)\n",
        "    if tight_layout:\n",
        "        plt.tight_layout()\n",
        "    plt.savefig(path, format=fig_extension, dpi=resolution)\n",
        "\n",
        "\n",
        "EXPORT_TO_FILES = True\n",
        "\n"
      ],
      "execution_count": 0,
      "outputs": []
    },
    {
      "cell_type": "code",
      "metadata": {
        "id": "GDwbEjkNBYTg",
        "colab_type": "code",
        "colab": {}
      },
      "source": [
        "def display_lr(lr_schedule, nb_epochs):\n",
        "  x = np.arange(nb_epochs)\n",
        "  y = [lr_schedule(i) for i in x]\n",
        "  plt.figure(figsize=(9,5))\n",
        "  plt.plot(x,y)\n",
        "  plt.title(\"Learning rate schedule\\nmax={:.2e}, min={:.2e}\".format(np.max(y), np.min(y)),\n",
        "            y=0.85)\n",
        "  plt.show()\n",
        "\n",
        "def display_loss(history, full_history, nb_epochs, steps_per_epoch):\n",
        "  plt.figure()\n",
        "  plt.plot(np.arange(0, len(full_history['loss']))/steps_per_epoch, full_history['loss'], label='detailed loss')\n",
        "  plt.plot(np.arange(1, nb_epochs+1), history['loss'], color='red', linewidth=3, label='average loss per epoch')\n",
        "  plt.ylim(0,3*max(history['loss'][1:]))\n",
        "  plt.xlabel('EPOCH')\n",
        "  plt.ylabel('LOSS')\n",
        "  plt.xlim(0, nb_epochs+0.5)\n",
        "  plt.legend()\n",
        "  for epoch in range(nb_epochs//2+1):\n",
        "    plt.gca().axvspan(2*epoch, 2*epoch+1, alpha=0.05, color='grey')\n",
        "  plt.show()\n",
        "\n"
      ],
      "execution_count": 0,
      "outputs": []
    },
    {
      "cell_type": "code",
      "metadata": {
        "colab_type": "code",
        "id": "Vsybl4kzrvOu",
        "colab": {}
      },
      "source": [
        "cadastro_estacoes = pd.read_csv(DATASETS_DIR + r'cadastro_estacoes.csv')\n",
        "dados_estacoes = []\n",
        "for i,row in cadastro_estacoes.iterrows():\n",
        "    dados_estacao = pd.read_csv(DATASETS_DIR + r'estacao_{0}.csv'.format(row['id']),delimiter=';')\n",
        "    dados_estacao['datahora'] = pd.to_datetime(dados_estacao['Data'],format='%d/%m/%Y')\n",
        "    dados_estacao.index = pd.to_datetime(dados_estacao['datahora'])\n",
        "    new_column_name = f\"Precipitacao_{row['id']}\"\n",
        "    dados_estacao = dados_estacao.rename(columns = {'Precipitacao':new_column_name})\n",
        "    dados_estacoes.append(dados_estacao[['datahora',new_column_name]])\n",
        "    \n",
        "dados_estacoes = pd.concat(dados_estacoes, axis=1)\n",
        "dados_estacoes = dados_estacoes.drop(columns=['datahora',])\n",
        "dados_estacoes = dados_estacoes.fillna(0)\n",
        "\n",
        "#dados_estacoes\n",
        "#Precipitacao_83533\tPrecipitacao_83536\tPrecipitacao_83570\tPrecipitacao_83581\tPrecipitacao_83586\tPrecipitacao_83587\tPrecipitacao_83589\tPrecipitacao_83632\tPrecipitacao_83635"
      ],
      "execution_count": 0,
      "outputs": []
    },
    {
      "cell_type": "code",
      "metadata": {
        "id": "ntV1csnrg3f6",
        "colab_type": "code",
        "colab": {}
      },
      "source": [
        "#carrega cadastro de elevatórias\n",
        "\n",
        "cadastro_elevatorias = pd.read_csv(DATASETS_DIR + r'cadastro_elevatorias.csv',decimal=\",\")\n",
        "cadastro_elevatorias['nivel_max'] = cadastro_elevatorias['nivel_max'].astype(float)\n",
        "cadastro_elevatorias['corrente1_max'] = cadastro_elevatorias['corrente1_max'].astype(float)\n",
        "cadastro_elevatorias['corrente2_max'] = cadastro_elevatorias['corrente2_max'].astype(float)\n",
        "cadastro_elevatorias['corrente3_max'] = cadastro_elevatorias['corrente3_max'].astype(float)\n",
        "\n",
        "cadastro_sem_strings = cadastro_elevatorias.copy()\n",
        "\n",
        "tmp = cadastro_sem_strings.select_dtypes(exclude=[np.number])\n",
        "\n",
        "# integer encode\n",
        "label_encoder = LabelEncoder()\n",
        "for column in tmp.columns:\n",
        "    integer_encoded = label_encoder.fit_transform(tmp[column])\n",
        "    cadastro_sem_strings[column] = integer_encoded"
      ],
      "execution_count": 0,
      "outputs": []
    },
    {
      "cell_type": "code",
      "metadata": {
        "id": "QKKZanlfffOe",
        "colab_type": "code",
        "outputId": "a32f70a8-a612-4ec3-8462-86347e631522",
        "colab": {
          "base_uri": "https://localhost:8080/",
          "height": 34
        }
      },
      "source": [
        "#imprime indices das elevatorias com tipo de bomba autoescorvante\n",
        "cadastro_elevatorias[cadastro_elevatorias['Tipo de bomba'] == 'Autoescorvante']['indice'].values"
      ],
      "execution_count": 0,
      "outputs": [
        {
          "output_type": "execute_result",
          "data": {
            "text/plain": [
              "array([ 1,  8, 13, 22, 24, 25])"
            ]
          },
          "metadata": {
            "tags": []
          },
          "execution_count": 6
        }
      ]
    },
    {
      "cell_type": "code",
      "metadata": {
        "colab_type": "code",
        "id": "ewdR5dx6nL6F",
        "colab": {}
      },
      "source": [
        "def create_features(df, label=None):\n",
        "    \"\"\"\n",
        "    Creates time series features from datetime index\n",
        "    \"\"\"\n",
        "    df['date'] = df.index\n",
        "    df['hour'] = df['date'].dt.hour\n",
        "    df['dayofweek'] = df['date'].dt.dayofweek\n",
        "    df['quarter'] = df['date'].dt.quarter\n",
        "    df['month'] = df['date'].dt.month\n",
        "    df['year'] = df['date'].dt.year\n",
        "    df['dayofyear'] = df['date'].dt.dayofyear\n",
        "    df['dayofmonth'] = df['date'].dt.day\n",
        "    df['weekofyear'] = df['date'].dt.weekofyear\n",
        "    \n",
        "    X = df[['hour','dayofweek','quarter','month','year',\n",
        "           'dayofyear','dayofmonth','weekofyear']]\n",
        "    if label:\n",
        "        y = df[label]\n",
        "        return X, y\n",
        "    return X"
      ],
      "execution_count": 0,
      "outputs": []
    },
    {
      "cell_type": "code",
      "metadata": {
        "colab_type": "code",
        "id": "am1JthSj1Lms",
        "colab": {}
      },
      "source": [
        "HOURS_BEFORE = 8\n",
        "HOURS_AFTER  = 1\n",
        "\n",
        "def getTimeseriesFromElevatoria(elevatoria, years=None):\n",
        "  timeseries_file   = DATASETS_DIR + f'timeseries_elevatoria_{elevatoria}.csv'\n",
        "  #realiza leitura de arquivo csv, configura frequencia, renomeia coluna e cria coluna de data para deixar identico ao timeseries original\n",
        "  timeseries   = pd.read_csv(timeseries_file, parse_dates=['TIMESTAMP','TIMESTAMP.1', 'TIMESTAMP_fim'], index_col=0)\n",
        "  timeseries = timeseries.rename(columns={'TIMESTAMP.1': 'TIMESTAMP',}).asfreq('5T')\n",
        "  timeseries['DATA'] = timeseries.index.date\n",
        "  \n",
        "  if years != None:\n",
        "    timeseries = timeseries[timeseries.TIMESTAMP.dt.year.isin(years)]\n",
        "  \n",
        "  #calcula soma do tempo de extravasao para a proxima 1h (12x5 minutos)\n",
        "  timeseries['extravasao_duracao_after'] = timeseries['extravasao_duracao'].rolling(min_periods=1, window=HOURS_AFTER*12).sum().shift(-HOURS_AFTER*12)\n",
        "  timeseries['extravasao_duracao_before'] = timeseries['extravasao_duracao'].rolling(min_periods=1, window=HOURS_BEFORE*12).sum()\n",
        "\n",
        "  #filtra apenas as que não tiveram extravasao nas ultimas 8h para garantir que a predição não é contaminada \n",
        "  #(prever a extravasão sem saber que há uma extravasão ocorrendo tem mais valor)\n",
        "  #timeseries = timeseries[timeseries.extravasao_duracao_before == 0]\n",
        "    \n",
        "  create_features(timeseries)\n",
        "\n",
        "  #cria coluna em dados de estacoes metereologicas e une dados a estacao\n",
        "  dados_estacoes['DATA'] = dados_estacoes.index.date\n",
        "  timeseries = pd.merge(timeseries, dados_estacoes,on='DATA')    \n",
        "    \n",
        "  #varre cada uma das colunas do cadastro criando novas colunas (categorical data) na serie temporal\n",
        "  for column in cadastro_sem_strings.columns:\n",
        "    timeseries[column] = cadastro_sem_strings.iloc[elevatoria - 1][column]\n",
        "\n",
        "  #conta quantidade de valores nulos nas proximas 8h  \n",
        "  timeseries['isnull']          = 0\n",
        "  timeseries.loc[timeseries.nivel.isnull(), 'isnull'] = 1\n",
        "  timeseries['contagem_valores_nulos_prox_8h']          = timeseries['isnull'].rolling(min_periods=1, window=8*12).sum().shift(8*12)    \n",
        "    \n",
        "  #marca valores nan com -1\n",
        "  #timeseries = timeseries.fillna(-1)\n",
        "  \n",
        "  #seta valor de colunas de saida = 0 caso valor seja menor que 0\n",
        "  #timeseries.loc[timeseries['extravasao_duracao_after'] < 0, 'extravasao_duracao_after'] = 0.0\n",
        "  #timeseries.loc[timeseries['extravasao_duracao_before'] < 0, 'extravasao_duracao_before'] = 0.0\n",
        "  \n",
        "  \n",
        "  #converte valor das colunas de duracao para horas\n",
        "  for col in timeseries.columns:\n",
        "    if 'duracao' in col:\n",
        "      #transforma para horas\n",
        "      timeseries[col] = timeseries[col] * 1.0/ 3600\n",
        "  \n",
        "  \n",
        "  #remove linhas em que, ao menos metade das 8h proximas, possuem valor nulo\n",
        "  #timeseries = timeseries[timeseries.contagem_valores_nulos_prox_8h < 48]\n",
        "\n",
        "  return timeseries \n"
      ],
      "execution_count": 0,
      "outputs": []
    },
    {
      "cell_type": "code",
      "metadata": {
        "id": "JtBBZddkg3gU",
        "colab_type": "code",
        "colab": {}
      },
      "source": [
        "\n",
        "# split a dataset into train/test sets\n",
        "def train_test_split(data, n_test):\n",
        "    return data[:-n_test], data[-n_test:]\n",
        "\n"
      ],
      "execution_count": 0,
      "outputs": []
    },
    {
      "cell_type": "code",
      "metadata": {
        "colab_type": "code",
        "id": "MPC6do2plW3f",
        "colab": {}
      },
      "source": [
        "# multivariate output data prep\n",
        "\n",
        "\n",
        "# split a multivariate sequence into samples\n",
        "def split_sequences(sequences, n_steps):\n",
        "    X, y = list(), list()\n",
        "    for i in range(len(sequences)):\n",
        "        # find the end of this pattern\n",
        "        end_ix = i + n_steps\n",
        "        # check if we are beyond the dataset\n",
        "        if end_ix > len(sequences):\n",
        "            break\n",
        "        # gather input and output parts of the pattern\n",
        "        seq_x, seq_y = sequences[i:end_ix, :-1], sequences[end_ix-1, -1]\n",
        "        X.append(seq_x)\n",
        "        y.append(seq_y)\n",
        "    return array(X), array(y)\n",
        "\n",
        " \n",
        "\n",
        "def prepare_multivar_timeseries_tofit(timeseries, input_columns, output_columns, n_steps = 96):\n",
        "    \"\"\"\n",
        "    prepara serie temporal para fit do modelo\n",
        "    n_steps com valor defaul de 96 considerando 8 horas (12 registros de 5min/hora => 12*8)\n",
        "    \"\"\"\n",
        "    #tamanho dos vetores\n",
        "    size_of_arrays = len(timeseries.index)\n",
        "\n",
        "    #sequencias de entradas e saídas convertidas em estruturas de [linhas, colunas]\n",
        "    in_seqs  = [timeseries[col].values.reshape((size_of_arrays, 1)) for col in input_columns]\n",
        "    out_seqs = [timeseries[col].values.reshape((size_of_arrays, 1)) for col in output_columns]\n",
        "\n",
        "    # horizontally stack columns\n",
        "    dataset = hstack(tuple(in_seqs + out_seqs))\n",
        "\n",
        "\n",
        "    # convert into input/output\n",
        "    X, y = split_sequences(dataset, n_steps)\n",
        "\n",
        "    return X, y\n",
        "\n",
        "#cria lista de nomes de colunas sem saida\n",
        "output_columns    = ['tipo_extravasao',]\n",
        "columns_to_remove = ['DATA','TIMESTAMP','TIMESTAMP_fim','date', 'nivel_inv_max', 'corrente1_inv_max', \n",
        "                     'corrente2_inv_max', 'corrente3_inv_max', 'extravasao_ocorreu', 'extravasao_ocorrendo', \n",
        "                    'acc_bomba1_ocorreu', 'acc_bomba1_ocorrendo', 'acc_bomba2_ocorreu', 'acc_bomba2_ocorrendo',\n",
        "                    'acc_bomba3_ocorreu', 'acc_bomba3_ocorrendo','mnt_bomba1_ocorreu', 'mnt_bomba1_ocorrendo',\n",
        "                    'mnt_bomba2_ocorreu', 'mnt_bomba2_ocorrendo', 'mnt_bomba3_ocorreu', 'mnt_bomba3_ocorrendo',\n",
        "                     'extravasao_duracao_before','contagem_valores_nulos_prox_8h', 'isnull', 'extravasao_duracao_after',]\n",
        "#input_columns     = [k for k in timeseries.columns if k not in output_columns + columns_to_remove]\n",
        "input_columns = [\n",
        "  'nivel', 'corrente1', 'corrente2', 'corrente3', 'extravasao_contagem', \n",
        " 'extravasao_duracao', 'extravasao_contagem_cum', 'extravasao_duracao_cum',\n",
        " 'extravasao_ocorreu_cum', 'extravasao_ocorrendo_cum', 'acc_bomba1_contagem',\n",
        " 'acc_bomba1_duracao', 'acc_bomba1_contagem_cum', 'acc_bomba1_duracao_cum',\n",
        " 'acc_bomba1_ocorreu_cum', 'acc_bomba1_ocorrendo_cum', 'mnt_bomba1_contagem',\n",
        " 'mnt_bomba1_duracao', 'mnt_bomba1_contagem_cum', 'mnt_bomba1_duracao_cum',\n",
        " 'mnt_bomba1_ocorreu_cum', 'mnt_bomba1_ocorrendo_cum', 'acc_bomba2_contagem',\n",
        " 'acc_bomba2_duracao', 'acc_bomba2_contagem_cum', 'acc_bomba2_duracao_cum',\n",
        " 'acc_bomba2_ocorreu_cum', 'acc_bomba2_ocorrendo_cum', 'mnt_bomba2_contagem',\n",
        " 'mnt_bomba2_duracao', 'mnt_bomba2_contagem_cum', 'mnt_bomba2_duracao_cum',\n",
        " 'mnt_bomba2_ocorreu_cum', 'mnt_bomba2_ocorrendo_cum', 'acc_bomba3_contagem',\n",
        " 'acc_bomba3_duracao', 'acc_bomba3_contagem_cum', 'acc_bomba3_duracao_cum',\n",
        " 'acc_bomba3_ocorreu_cum', 'acc_bomba3_ocorrendo_cum', 'mnt_bomba3_contagem',\n",
        " 'mnt_bomba3_duracao', 'mnt_bomba3_contagem_cum', 'mnt_bomba3_duracao_cum',\n",
        " 'mnt_bomba3_ocorreu_cum', 'mnt_bomba3_ocorrendo_cum',\n",
        " 'hour', 'dayofweek', 'quarter', 'month', 'year', 'dayofyear', 'dayofmonth',\n",
        " 'weekofyear', 'Precipitacao_83581', 'Precipitacao_83570', 'Precipitacao_83536', \n",
        " 'Precipitacao_83533', 'Precipitacao_83635', 'Precipitacao_83632',\n",
        " 'Precipitacao_83586', 'Precipitacao_83589', 'Precipitacao_83587',\n",
        " 'indice', 'nome', 'utmx', 'utmy', 'Tipo de bomba', 'Quantidade de bombas', \n",
        " 'Vazão de recalque (l/s)', 'Altura manométrica (mca)', \n",
        " 'Diâmetro tubulação   recalque (mm)',  'Material  tubulação  recalque', \n",
        " 'Extensão  tubulação  recalque(m)', 'Retenção  resíduos', \n",
        " 'Sistema Içamento  bombas ', 'Urbanização', 'Potência instalada (cv)', \n",
        " 'Combate a odores', 'Sistema de partida das bombas',\n",
        " 'Tipo de sensor de nível utilizado no controle', 'nivel_max', \n",
        " 'corrente1_max', 'corrente2_max', 'corrente3_max', 'bomba1', 'bomba2', 'bomba3']\n",
        "\n",
        "valid_columns = input_columns + output_columns\n",
        "\n",
        "#8 horas de dados\n",
        "n_steps = 96\n",
        "n_features = len(input_columns) # a quantidade de features está presente nas entradas\n",
        "n_outputs  = 3 #opcoes de classificacao (sim, não e invalido)\n",
        "n_batch    = n_steps #1 período de 8 horas\n",
        "\n"
      ],
      "execution_count": 0,
      "outputs": []
    },
    {
      "cell_type": "code",
      "metadata": {
        "id": "-KDiV9iRg3gg",
        "colab_type": "code",
        "colab": {}
      },
      "source": [
        "\n",
        "def get_timeseries_from_elevatoria(elevatoria, years):\n",
        "  timeseries        = getTimeseriesFromElevatoria(elevatoria,years=years)\n",
        "  timeseries['tipo_extravasao'] = 'nao'\n",
        "  timeseries.loc[timeseries['extravasao_duracao_after'] > 0, 'tipo_extravasao'] = 'sim'\n",
        "  timeseries.loc[timeseries.contagem_valores_nulos_prox_8h >= 48, 'tipo_extravasao'] = 'invalido'\n",
        "\n",
        "\n",
        "  scaler_dict = {}\n",
        "\n",
        "  #normaliza todas as colunas validas entre 0 e 1\n",
        "  for column in input_columns:\n",
        "    #values = timeseries[[column]].values\n",
        "    min_max_scaler = MinMaxScaler()\n",
        "    null_index = timeseries[column].isnull()\n",
        "    timeseries.loc[~null_index, column] = min_max_scaler.fit_transform(timeseries.loc[~null_index, [column]])\n",
        "    #timeseries[column] = min_max_scaler.fit_transform(values)\n",
        "    scaler_dict[column] = min_max_scaler\n",
        "\n",
        "  #marca valores nan com -1\n",
        "  timeseries = timeseries.fillna(-1) \n",
        "\n",
        "  return timeseries \n",
        "  "
      ],
      "execution_count": 0,
      "outputs": []
    },
    {
      "cell_type": "code",
      "metadata": {
        "id": "20zChidyncIZ",
        "colab_type": "code",
        "colab": {}
      },
      "source": [
        "def encode_output(train_y, test_y):\n",
        "  # encode class values as integers\n",
        "  encoder = LabelEncoder()\n",
        "  encoder.fit(np.array(['nao', 'sim', 'invalido']))\n",
        "  encoded_Y = encoder.transform(train_y)\n",
        "  encoded_test_Y = encoder.transform(test_y)\n",
        "  return to_categorical(encoder.transform(train_y)), \\\n",
        "          to_categorical(encoder.transform(test_y)),\\\n",
        "          encoded_Y,\\\n",
        "          encoded_test_Y"
      ],
      "execution_count": 0,
      "outputs": []
    },
    {
      "cell_type": "code",
      "metadata": {
        "id": "qoGojKz4W5k2",
        "colab_type": "code",
        "colab": {}
      },
      "source": [
        "# reshape into subsequences (samples, time steps, rows, cols, channels)\n",
        "sub_n_steps, sub_n_length = 4, int(n_steps/4)\n",
        "\n",
        "def convlstm100_prepare_input(input):\n",
        "  \"\"\"\n",
        "  função dummy que não altera entrada\n",
        "  \"\"\"\n",
        "  return input.reshape((input.shape[0], sub_n_steps, 1, sub_n_length, n_features))\n",
        "\n",
        "\n",
        "prepare_function_by_model = {}\n",
        "prepare_function_by_model['convlstm-100'] = convlstm100_prepare_input\n"
      ],
      "execution_count": 0,
      "outputs": []
    },
    {
      "cell_type": "code",
      "metadata": {
        "id": "pnPfhnqrwvOg",
        "colab_type": "code",
        "outputId": "8643be6d-ecd3-4c68-9fc2-da46183f33e5",
        "colab": {
          "base_uri": "https://localhost:8080/",
          "height": 292
        }
      },
      "source": [
        "#dicionario de modelos\n",
        "models = {}\n",
        "\n",
        "\n",
        "\n",
        "# define model\n",
        "model = Sequential()\n",
        "model.add(ConvLSTM2D(64, (1,3), activation='relu', input_shape=(sub_n_steps, 1, sub_n_length, n_features)))\n",
        "model.add(Dropout(0.5))\n",
        "model.add(Flatten())\n",
        "model.add(Dense(100, activation='relu'))\n",
        "model.add(Dense(n_outputs, activation='softmax'))\n",
        "model.compile(loss='categorical_crossentropy', optimizer='adam', metrics=['accuracy'])\n",
        "models['convlstm-100'] = model\n",
        "\n",
        "model_name = 'convlstm-100'\n",
        "model = models[model_name]"
      ],
      "execution_count": 0,
      "outputs": [
        {
          "output_type": "stream",
          "text": [
            "WARNING:tensorflow:From /usr/local/lib/python3.6/dist-packages/keras/backend/tensorflow_backend.py:66: The name tf.get_default_graph is deprecated. Please use tf.compat.v1.get_default_graph instead.\n",
            "\n",
            "WARNING:tensorflow:From /usr/local/lib/python3.6/dist-packages/keras/backend/tensorflow_backend.py:541: The name tf.placeholder is deprecated. Please use tf.compat.v1.placeholder instead.\n",
            "\n",
            "WARNING:tensorflow:From /usr/local/lib/python3.6/dist-packages/keras/backend/tensorflow_backend.py:4432: The name tf.random_uniform is deprecated. Please use tf.random.uniform instead.\n",
            "\n",
            "WARNING:tensorflow:From /usr/local/lib/python3.6/dist-packages/keras/backend/tensorflow_backend.py:148: The name tf.placeholder_with_default is deprecated. Please use tf.compat.v1.placeholder_with_default instead.\n",
            "\n",
            "WARNING:tensorflow:From /usr/local/lib/python3.6/dist-packages/keras/backend/tensorflow_backend.py:3733: calling dropout (from tensorflow.python.ops.nn_ops) with keep_prob is deprecated and will be removed in a future version.\n",
            "Instructions for updating:\n",
            "Please use `rate` instead of `keep_prob`. Rate should be set to `rate = 1 - keep_prob`.\n",
            "WARNING:tensorflow:From /usr/local/lib/python3.6/dist-packages/keras/optimizers.py:793: The name tf.train.Optimizer is deprecated. Please use tf.compat.v1.train.Optimizer instead.\n",
            "\n",
            "WARNING:tensorflow:From /usr/local/lib/python3.6/dist-packages/keras/backend/tensorflow_backend.py:3576: The name tf.log is deprecated. Please use tf.math.log instead.\n",
            "\n"
          ],
          "name": "stdout"
        }
      ]
    },
    {
      "cell_type": "code",
      "metadata": {
        "id": "6CE83ps-LH5_",
        "colab_type": "code",
        "outputId": "e020a605-c807-4453-dbc8-eef371d0e3ba",
        "colab": {
          "base_uri": "https://localhost:8080/",
          "height": 644
        }
      },
      "source": [
        "#imagem detalhando o modelo convlstm-100\n",
        "plot_model(model, to_file='model_convlstm-100.png', show_shapes=True, show_layer_names=True)"
      ],
      "execution_count": 0,
      "outputs": [
        {
          "output_type": "execute_result",
          "data": {
            "image/png": "[encoded data removed]",
            "text/plain": [
              "<IPython.core.display.Image object>"
            ]
          },
          "metadata": {
            "tags": []
          },
          "execution_count": 15
        }
      ]
    },
    {
      "cell_type": "code",
      "metadata": {
        "id": "O_ZBn65LlH1B",
        "colab_type": "code",
        "colab": {}
      },
      "source": [
        "# Keras model callbacks\n",
        "\n",
        "# This callback records a per-step loss history instead of the average loss per\n",
        "# epoch that Keras normally reports. It allows you to see more problems.\n",
        "class LossHistory(tf.keras.callbacks.Callback):\n",
        "  def on_train_begin(self, logs={}):\n",
        "      self.history = {'loss': []}\n",
        "  def on_batch_end(self, batch, logs={}):\n",
        "      self.history['loss'].append(logs.get('loss'))\n",
        "      \n",
        "# This callback resets the RNN state at each epoch\n",
        "class ResetStateCallback(tf.keras.callbacks.Callback):\n",
        "  def on_epoch_begin(self, batch, logs={}):\n",
        "      self.model.reset_states()\n",
        "      print('reset state')\n",
        "\n",
        "reset_state = ResetStateCallback()\n",
        "      \n",
        "# learning rate decay callback\n",
        "#def lr_schedule(epoch): return 0.01\n",
        "def lr_schedule(epoch): return 0.0001 + 0.01 * math.pow(0.65, epoch)\n",
        "lr_decay = tf.keras.callbacks.LearningRateScheduler(lr_schedule, verbose=True)\n",
        "\n",
        "\n",
        "full_history = LossHistory()\n",
        "'''\n",
        "saves the model weights after each epoch if the validation loss decreased\n",
        "'''\n",
        "best_file_path = MODELS_DIR + f\"best_{model_name}\" +\"_weights.{epoch:02d}-{val_loss:.hdf5}.h5\"\n",
        "checkpointer = ModelCheckpoint(filepath=best_file_path, verbose=1, save_best_only=True)\n"
      ],
      "execution_count": 0,
      "outputs": []
    },
    {
      "cell_type": "code",
      "metadata": {
        "id": "7ZPIUJhVsUyn",
        "colab_type": "code",
        "outputId": "7f192f54-c40b-4d75-d43d-ff22334d9660",
        "colab": {
          "base_uri": "https://localhost:8080/",
          "height": 626
        }
      },
      "source": [
        "epoch = 1\n",
        "NB_EPOCHS = 10\n",
        "if epoch > 1:\n",
        "  year = 2018\n",
        "  elevatoria = 25\n",
        "\n",
        "  model.load_weights(MODELS_DIR + f\"{model_name}_{elevatoria}_epoch{epoch}_batch{n_batch}_{year}_complete_1htest_autoescorvantes.h5\")\n",
        "\n",
        "# this prints a description of the model\n",
        "model.summary()\n",
        "\n",
        "display_lr(lr_schedule, NB_EPOCHS)\n",
        "\n"
      ],
      "execution_count": 0,
      "outputs": [
        {
          "output_type": "stream",
          "text": [
            "Model: \"sequential_1\"\n",
            "_________________________________________________________________\n",
            "Layer (type)                 Output Shape              Param #   \n",
            "=================================================================\n",
            "conv_lst_m2d_1 (ConvLSTM2D)  (None, 1, 22, 64)         116992    \n",
            "_________________________________________________________________\n",
            "dropout_1 (Dropout)          (None, 1, 22, 64)         0         \n",
            "_________________________________________________________________\n",
            "flatten_1 (Flatten)          (None, 1408)              0         \n",
            "_________________________________________________________________\n",
            "dense_1 (Dense)              (None, 100)               140900    \n",
            "_________________________________________________________________\n",
            "dense_2 (Dense)              (None, 3)                 303       \n",
            "=================================================================\n",
            "Total params: 258,195\n",
            "Trainable params: 258,195\n",
            "Non-trainable params: 0\n",
            "_________________________________________________________________\n"
          ],
          "name": "stdout"
        },
        {
          "output_type": "display_data",
          "data": {
            "image/png": "[encoded data removed]",
            "text/plain": [
              "<Figure size 648x360 with 1 Axes>"
            ]
          },
          "metadata": {
            "tags": []
          }
        }
      ]
    },
    {
      "cell_type": "code",
      "metadata": {
        "id": "QLrDKEaQ9VnE",
        "colab_type": "code",
        "colab": {}
      },
      "source": [
        "history_elevatorias = {}\n",
        "#epoch = 1"
      ],
      "execution_count": 0,
      "outputs": []
    },
    {
      "cell_type": "code",
      "metadata": {
        "id": "_YdMU8SZqO_B",
        "colab_type": "code",
        "outputId": "3e23b30d-3894-4287-e00a-5e09a3607d3b",
        "colab": {
          "base_uri": "https://localhost:8080/",
          "height": 153
        }
      },
      "source": [
        "timeseries = get_timeseries_from_elevatoria(1, [2018,])\n",
        "print(timeseries.shape)\n",
        "#preparacao dos dados de treinamento e teste\n",
        "train_x, train_y = prepare_multivar_timeseries_tofit(timeseries, input_columns, output_columns, n_steps)\n",
        "print(train_x.shape)\n",
        "print(train_y.shape)\n",
        "\n",
        "#encode for classification task\n",
        "train_y, test_y, encoded_Y, encoded_test_Y = encode_output(train_y, train_y)\n",
        "print(train_y.shape)\n",
        "print(test_y.shape)\n",
        "print(encoded_Y.shape)\n",
        "print(encoded_test_Y.shape)\n",
        "\n",
        "# fit network\n",
        "prepare_input_function = prepare_function_by_model[model_name]\n",
        "print(prepare_input_function(train_x).shape)\n"
      ],
      "execution_count": 0,
      "outputs": [
        {
          "output_type": "stream",
          "text": [
            "(8895, 115)\n",
            "(8800, 96, 88)\n",
            "(8800,)\n",
            "(8800, 3)\n",
            "(8800, 3)\n",
            "(8800,)\n",
            "(8800,)\n",
            "(8800, 4, 1, 24, 88)\n"
          ],
          "name": "stdout"
        }
      ]
    },
    {
      "cell_type": "code",
      "metadata": {
        "id": "ppuwMfUpg3gn",
        "colab_type": "code",
        "outputId": "43e12395-7e0c-4052-fe8e-a5d6821350ad",
        "colab": {
          "base_uri": "https://localhost:8080/",
          "height": 1000
        }
      },
      "source": [
        "elevatorias_escolhidas = [1, 22, 25] #apenas autoescorvantes\n",
        "#elevatorias_escolhidas = [1,10,11,12,25] #vários tipos de bombas\n",
        "epoch = 3\n",
        "total_epochs = NB_EPOCHS - epoch\n",
        "for nepoch in range(total_epochs):\n",
        "  epoch +=1\n",
        "  for year in [2016,2017,2018]:\n",
        "    print(f'Epoca {epoch} - ano {year}')      \n",
        "    for elevatoria in elevatorias_escolhidas:\n",
        "      print(f'Treinando dados da elevatoria {elevatoria}...')\n",
        "      timeseries = get_timeseries_from_elevatoria(elevatoria, [year,])\n",
        "\n",
        "      #preparacao dos dados de treinamento e teste\n",
        "      train_x, train_y = prepare_multivar_timeseries_tofit(timeseries, input_columns, output_columns, n_steps)\n",
        "\n",
        "      #encode for classification task\n",
        "      train_y, test_y, encoded_Y, encoded_test_Y = encode_output(train_y, train_y)\n",
        "      \n",
        "      full_history = LossHistory()\n",
        "      \n",
        "      # fit network\n",
        "      number_of_epochs = NB_EPOCHS\n",
        "      prepare_input_function = prepare_function_by_model[model_name]\n",
        "      history  = model.fit(prepare_input_function(train_x), \n",
        "                          train_y, \n",
        "                          batch_size=n_batch, \n",
        "                          epochs=1, \n",
        "                          #validation_data=(prepare_input_function(test_x), encoded_test_Y), \n",
        "                          verbose=1,\n",
        "                          callbacks=[full_history,])\n",
        "      model.save(MODELS_DIR + f\"{model_name}_{elevatoria}_epoch{epoch}_batch{n_batch}_{year}_complete_1htest_autoescorvantes.h5\")\n",
        "      try:\n",
        "        history_elevatorias[elevatoria]['history'].append(history)\n",
        "        history_elevatorias[elevatoria]['full_history'].append(full_history)\n",
        "      except:\n",
        "        history_elevatorias[elevatoria] = {}\n",
        "        history_elevatorias[elevatoria]['history'] =[]\n",
        "        history_elevatorias[elevatoria]['history'] = [history,]\n",
        "        history_elevatorias[elevatoria]['full_history'] =[]\n",
        "        history_elevatorias[elevatoria]['full_history'] = [full_history,]\n",
        "        pass\n",
        "      test_y = None\n",
        "      test_x = None\n",
        "      train_x = None\n",
        "      train_y = None\n",
        "      train = None\n",
        "      test = None\n",
        "      timeseries = None\n",
        "      encoded_Y = None\n",
        "      encoded_test_Y = None\n",
        "      import gc\n",
        "      gc.collect()\n"
      ],
      "execution_count": 0,
      "outputs": [
        {
          "output_type": "stream",
          "text": [
            "Epoca 4 - ano 2016\n",
            "Treinando dados da elevatoria 1...\n",
            "WARNING:tensorflow:From /usr/local/lib/python3.6/dist-packages/tensorflow_core/python/ops/math_grad.py:1424: where (from tensorflow.python.ops.array_ops) is deprecated and will be removed in a future version.\n",
            "Instructions for updating:\n",
            "Use tf.where in 2.0, which has the same broadcast rule as np.where\n",
            "WARNING:tensorflow:From /usr/local/lib/python3.6/dist-packages/keras/backend/tensorflow_backend.py:1033: The name tf.assign_add is deprecated. Please use tf.compat.v1.assign_add instead.\n",
            "\n",
            "WARNING:tensorflow:From /usr/local/lib/python3.6/dist-packages/keras/backend/tensorflow_backend.py:1020: The name tf.assign is deprecated. Please use tf.compat.v1.assign instead.\n",
            "\n",
            "Epoch 1/1\n",
            "105313/105313 [==============================] - 72s 680us/step - loss: 0.0799 - acc: 0.9756\n",
            "Treinando dados da elevatoria 22...\n",
            "Epoch 1/1\n",
            "105313/105313 [==============================] - 58s 549us/step - loss: 0.1358 - acc: 0.9542\n",
            "Treinando dados da elevatoria 25...\n",
            "Epoch 1/1\n",
            "105313/105313 [==============================] - 64s 611us/step - loss: 0.1310 - acc: 0.9578\n",
            "Epoca 4 - ano 2017\n",
            "Treinando dados da elevatoria 1...\n",
            "Epoch 1/1\n",
            "105025/105025 [==============================] - 57s 543us/step - loss: 0.0812 - acc: 0.9759\n",
            "Treinando dados da elevatoria 22...\n",
            "Epoch 1/1\n",
            "105025/105025 [==============================] - 57s 539us/step - loss: 0.1045 - acc: 0.9688\n",
            "Treinando dados da elevatoria 25...\n",
            "Epoch 1/1\n",
            "105025/105025 [==============================] - 57s 538us/step - loss: 0.1481 - acc: 0.9500\n",
            "Epoca 4 - ano 2018\n",
            "Treinando dados da elevatoria 1...\n",
            "Epoch 1/1\n",
            "8800/8800 [==============================] - 4s 466us/step - loss: 0.0745 - acc: 0.9798\n",
            "Treinando dados da elevatoria 22...\n",
            "Epoch 1/1\n",
            "59238/59238 [==============================] - 35s 586us/step - loss: 0.1102 - acc: 0.9662\n",
            "Treinando dados da elevatoria 25...\n",
            "Epoch 1/1\n",
            "59240/59240 [==============================] - 35s 596us/step - loss: 0.2302 - acc: 0.9124\n",
            "Epoca 5 - ano 2016\n",
            "Treinando dados da elevatoria 1...\n",
            "Epoch 1/1\n",
            "105313/105313 [==============================] - 60s 568us/step - loss: 0.0809 - acc: 0.9755\n",
            "Treinando dados da elevatoria 22...\n",
            "Epoch 1/1\n",
            "105313/105313 [==============================] - 61s 580us/step - loss: 0.1301 - acc: 0.9556\n",
            "Treinando dados da elevatoria 25...\n",
            "Epoch 1/1\n",
            "105313/105313 [==============================] - 63s 598us/step - loss: 0.1276 - acc: 0.9584\n",
            "Epoca 5 - ano 2017\n",
            "Treinando dados da elevatoria 1...\n",
            "Epoch 1/1\n",
            "105025/105025 [==============================] - 55s 527us/step - loss: 0.0783 - acc: 0.9768\n",
            "Treinando dados da elevatoria 22...\n",
            "Epoch 1/1\n",
            "105025/105025 [==============================] - 56s 532us/step - loss: 0.0993 - acc: 0.9695\n",
            "Treinando dados da elevatoria 25...\n",
            "Epoch 1/1\n",
            "105025/105025 [==============================] - 55s 528us/step - loss: 0.1452 - acc: 0.9513\n",
            "Epoca 5 - ano 2018\n",
            "Treinando dados da elevatoria 1...\n",
            "Epoch 1/1\n",
            "8800/8800 [==============================] - 4s 475us/step - loss: 0.0682 - acc: 0.9793\n",
            "Treinando dados da elevatoria 22...\n",
            "Epoch 1/1\n",
            "59238/59238 [==============================] - 35s 588us/step - loss: 0.1040 - acc: 0.9664\n",
            "Treinando dados da elevatoria 25...\n",
            "Epoch 1/1\n",
            "59240/59240 [==============================] - 35s 590us/step - loss: 0.2245 - acc: 0.9153\n",
            "Epoca 6 - ano 2016\n",
            "Treinando dados da elevatoria 1...\n",
            "Epoch 1/1\n",
            "105313/105313 [==============================] - 62s 587us/step - loss: 0.0723 - acc: 0.9774\n",
            "Treinando dados da elevatoria 22...\n",
            "Epoch 1/1\n",
            "105313/105313 [==============================] - 61s 581us/step - loss: 0.1210 - acc: 0.9576\n",
            "Treinando dados da elevatoria 25...\n",
            "Epoch 1/1\n",
            "105313/105313 [==============================] - 61s 582us/step - loss: 0.1298 - acc: 0.9595\n",
            "Epoca 6 - ano 2017\n",
            "Treinando dados da elevatoria 1...\n",
            "Epoch 1/1\n",
            "105025/105025 [==============================] - 56s 533us/step - loss: 0.0750 - acc: 0.9775\n",
            "Treinando dados da elevatoria 22...\n",
            "Epoch 1/1\n",
            "105025/105025 [==============================] - 56s 534us/step - loss: 0.0945 - acc: 0.9711\n",
            "Treinando dados da elevatoria 25...\n",
            "Epoch 1/1\n",
            "105025/105025 [==============================] - 56s 529us/step - loss: 0.1354 - acc: 0.9527\n",
            "Epoca 6 - ano 2018\n",
            "Treinando dados da elevatoria 1...\n",
            "Epoch 1/1\n",
            "8800/8800 [==============================] - 4s 459us/step - loss: 0.0684 - acc: 0.9802\n",
            "Treinando dados da elevatoria 22...\n",
            "Epoch 1/1\n",
            "59238/59238 [==============================] - 35s 588us/step - loss: 0.0980 - acc: 0.9689\n",
            "Treinando dados da elevatoria 25...\n",
            "Epoch 1/1\n",
            "59240/59240 [==============================] - 35s 588us/step - loss: 0.2145 - acc: 0.9167\n",
            "Epoca 7 - ano 2016\n",
            "Treinando dados da elevatoria 1...\n",
            "Epoch 1/1\n",
            "105313/105313 [==============================] - 61s 580us/step - loss: 0.0693 - acc: 0.9788\n",
            "Treinando dados da elevatoria 22...\n",
            "Epoch 1/1\n",
            "105313/105313 [==============================] - 60s 574us/step - loss: 0.1177 - acc: 0.9593\n",
            "Treinando dados da elevatoria 25...\n",
            "Epoch 1/1\n",
            "105313/105313 [==============================] - 57s 541us/step - loss: 0.1257 - acc: 0.9600\n",
            "Epoca 7 - ano 2017\n",
            "Treinando dados da elevatoria 1...\n",
            "Epoch 1/1\n",
            "105025/105025 [==============================] - 56s 529us/step - loss: 0.0743 - acc: 0.9779\n",
            "Treinando dados da elevatoria 22...\n",
            "Epoch 1/1\n",
            "105025/105025 [==============================] - 56s 534us/step - loss: 0.0898 - acc: 0.9721\n",
            "Treinando dados da elevatoria 25...\n",
            "Epoch 1/1\n",
            "105025/105025 [==============================] - 56s 532us/step - loss: 0.1331 - acc: 0.9537\n",
            "Epoca 7 - ano 2018\n",
            "Treinando dados da elevatoria 1...\n",
            "Epoch 1/1\n",
            "8800/8800 [==============================] - 4s 459us/step - loss: 0.0772 - acc: 0.9792\n",
            "Treinando dados da elevatoria 22...\n",
            "Epoch 1/1\n",
            "59238/59238 [==============================] - 35s 591us/step - loss: 0.0966 - acc: 0.9698\n",
            "Treinando dados da elevatoria 25...\n",
            "Epoch 1/1\n",
            "59240/59240 [==============================] - 35s 589us/step - loss: 0.2102 - acc: 0.9179\n",
            "Epoca 8 - ano 2016\n",
            "Treinando dados da elevatoria 1...\n",
            "Epoch 1/1\n",
            "105313/105313 [==============================] - 56s 531us/step - loss: 0.0660 - acc: 0.9794\n",
            "Treinando dados da elevatoria 22...\n",
            "Epoch 1/1\n",
            "105313/105313 [==============================] - 59s 562us/step - loss: 0.1090 - acc: 0.9611\n",
            "Treinando dados da elevatoria 25...\n",
            "Epoch 1/1\n",
            "105313/105313 [==============================] - 56s 534us/step - loss: 0.1219 - acc: 0.9610\n",
            "Epoca 8 - ano 2017\n",
            "Treinando dados da elevatoria 1...\n",
            "Epoch 1/1\n",
            "105025/105025 [==============================] - 56s 532us/step - loss: 0.0651 - acc: 0.9793\n",
            "Treinando dados da elevatoria 22...\n",
            "Epoch 1/1\n",
            "105025/105025 [==============================] - 56s 532us/step - loss: 0.0844 - acc: 0.9733\n",
            "Treinando dados da elevatoria 25...\n",
            "Epoch 1/1\n",
            "105025/105025 [==============================] - 55s 526us/step - loss: 0.1265 - acc: 0.9545\n",
            "Epoca 8 - ano 2018\n",
            "Treinando dados da elevatoria 1...\n",
            "Epoch 1/1\n",
            "8800/8800 [==============================] - 4s 449us/step - loss: 0.0618 - acc: 0.9797\n",
            "Treinando dados da elevatoria 22...\n",
            "Epoch 1/1\n",
            "59238/59238 [==============================] - 34s 580us/step - loss: 0.0900 - acc: 0.9710\n",
            "Treinando dados da elevatoria 25...\n",
            "Epoch 1/1\n",
            "59240/59240 [==============================] - 35s 591us/step - loss: 0.2039 - acc: 0.9207\n",
            "Epoca 9 - ano 2016\n",
            "Treinando dados da elevatoria 1...\n",
            "Epoch 1/1\n",
            "105313/105313 [==============================] - 59s 562us/step - loss: 0.0661 - acc: 0.9790\n",
            "Treinando dados da elevatoria 22...\n",
            "Epoch 1/1\n",
            "105313/105313 [==============================] - 57s 542us/step - loss: 0.1111 - acc: 0.9613\n",
            "Treinando dados da elevatoria 25...\n",
            "Epoch 1/1\n",
            "105313/105313 [==============================] - 59s 556us/step - loss: 0.1181 - acc: 0.9613\n",
            "Epoca 9 - ano 2017\n",
            "Treinando dados da elevatoria 1...\n",
            "Epoch 1/1\n",
            "105025/105025 [==============================] - 55s 526us/step - loss: 0.0619 - acc: 0.9799\n",
            "Treinando dados da elevatoria 22...\n",
            "Epoch 1/1\n",
            "105025/105025 [==============================] - 55s 528us/step - loss: 0.0830 - acc: 0.9737\n",
            "Treinando dados da elevatoria 25...\n",
            "Epoch 1/1\n",
            "105025/105025 [==============================] - 57s 545us/step - loss: 0.1239 - acc: 0.9557\n",
            "Epoca 9 - ano 2018\n",
            "Treinando dados da elevatoria 1...\n",
            "Epoch 1/1\n",
            "8800/8800 [==============================] - 4s 476us/step - loss: 0.0598 - acc: 0.9824\n",
            "Treinando dados da elevatoria 22...\n",
            "Epoch 1/1\n",
            "59238/59238 [==============================] - 35s 592us/step - loss: 0.0889 - acc: 0.9720\n",
            "Treinando dados da elevatoria 25...\n",
            "Epoch 1/1\n",
            "59240/59240 [==============================] - 35s 596us/step - loss: 0.1999 - acc: 0.9211\n",
            "Epoca 10 - ano 2016\n",
            "Treinando dados da elevatoria 1...\n",
            "Epoch 1/1\n",
            "105313/105313 [==============================] - 57s 539us/step - loss: 0.0609 - acc: 0.9803\n",
            "Treinando dados da elevatoria 22...\n",
            "Epoch 1/1\n",
            "105313/105313 [==============================] - 57s 541us/step - loss: 0.1027 - acc: 0.9631\n",
            "Treinando dados da elevatoria 25...\n",
            "Epoch 1/1\n",
            "105313/105313 [==============================] - 59s 562us/step - loss: 0.1119 - acc: 0.9614\n",
            "Epoca 10 - ano 2017\n",
            "Treinando dados da elevatoria 1...\n",
            "Epoch 1/1\n",
            "105025/105025 [==============================] - 56s 537us/step - loss: 0.0614 - acc: 0.9806\n",
            "Treinando dados da elevatoria 22...\n",
            "Epoch 1/1\n",
            "105025/105025 [==============================] - 56s 536us/step - loss: 0.0774 - acc: 0.9753\n",
            "Treinando dados da elevatoria 25...\n",
            "Epoch 1/1\n",
            "105025/105025 [==============================] - 56s 532us/step - loss: 0.1220 - acc: 0.9561\n",
            "Epoca 10 - ano 2018\n",
            "Treinando dados da elevatoria 1...\n",
            "Epoch 1/1\n",
            "8800/8800 [==============================] - 4s 455us/step - loss: 0.0604 - acc: 0.9807\n",
            "Treinando dados da elevatoria 22...\n",
            "Epoch 1/1\n",
            "59238/59238 [==============================] - 35s 594us/step - loss: 0.0827 - acc: 0.9729\n",
            "Treinando dados da elevatoria 25...\n",
            "Epoch 1/1\n",
            "59240/59240 [==============================] - 36s 604us/step - loss: 0.1968 - acc: 0.9223\n"
          ],
          "name": "stdout"
        }
      ]
    },
    {
      "cell_type": "code",
      "metadata": {
        "id": "CkOpOLjEO0oJ",
        "colab_type": "code",
        "outputId": "9f1f35e8-9d88-435c-ed91-d8434a451ee1",
        "colab": {
          "base_uri": "https://localhost:8080/",
          "height": 34
        }
      },
      "source": [
        "test_y = None\n",
        "test_x = None\n",
        "train_x = None\n",
        "train_y = None\n",
        "train = None\n",
        "test = None\n",
        "timeseries = None\n",
        "encoded_Y = None\n",
        "encoded_test_Y = None\n",
        "import gc\n",
        "gc.collect()"
      ],
      "execution_count": 0,
      "outputs": [
        {
          "output_type": "execute_result",
          "data": {
            "text/plain": [
              "230"
            ]
          },
          "metadata": {
            "tags": []
          },
          "execution_count": 18
        }
      ]
    },
    {
      "cell_type": "code",
      "metadata": {
        "id": "oUFZnV6nlQMV",
        "colab_type": "code",
        "outputId": "44558ad0-0122-4f69-d3e4-a5f26f0b153d",
        "colab": {
          "base_uri": "https://localhost:8080/",
          "height": 241
        }
      },
      "source": [
        "year = 2018\n",
        "epoch = 10\n",
        "elevatoria = 25\n",
        "\n",
        "model.load_weights(MODELS_DIR + f\"{model_name}_{elevatoria}_epoch{epoch}_batch{n_batch}_{year}_complete_1htest_autoescorvantes.h5\")\n",
        "\n",
        "import sklearn.metrics as skm\n",
        "def print_accuracy_and_confusion_matrix(model, test_x, test_y, encoded_test_y, n_batch):\n",
        "  loss , accuracy = model.evaluate(test_x, encoded_test_y, batch_size=n_batch, verbose=1)\n",
        "  print('loss: {}   - accuracy: {} '.format(loss,accuracy))\n",
        "\n",
        "  predicted = model.predict(test_x, verbose=0)\n",
        "  y_pred= (predicted>0.5) \n",
        "  cm = skm.multilabel_confusion_matrix(test_y, y_pred)\n",
        "  print(cm)\n",
        "  print(skm.classification_report(test_y,y_pred))\n",
        "\n",
        "\n",
        "test_y = None\n",
        "test_x = None\n",
        "train_x = None\n",
        "train_y = None\n",
        "train = None\n",
        "test = None\n",
        "timeseries = None\n",
        "encoded_Y = None\n",
        "encoded_test_Y = None\n",
        "import gc\n",
        "gc.collect()\n",
        "\n",
        "\n",
        "timeseries = get_timeseries_from_elevatoria(13, [2016,2017,2018])\n",
        "\n",
        "#preparacao e separacao dos dados \n",
        "test_x, test_y = prepare_multivar_timeseries_tofit(timeseries, input_columns, output_columns, n_steps)\n",
        "\n",
        "#encode for classification task\n",
        "train_y, test_y, encoded_Y, encoded_test_Y = encode_output(test_y, test_y)\n",
        "prepare_input_function = prepare_function_by_model[model_name]\n",
        "test_x = prepare_input_function(test_x)\n",
        "\n",
        "#print_accuracy_and_confusion_matrix(model, test_x, test_y, test_y, n_batch)\n",
        "predicted = model.predict(test_x, verbose=0)\n"
      ],
      "execution_count": 0,
      "outputs": [
        {
          "output_type": "stream",
          "text": [
            "WARNING:tensorflow:From /usr/local/lib/python3.6/dist-packages/keras/backend/tensorflow_backend.py:190: The name tf.get_default_session is deprecated. Please use tf.compat.v1.get_default_session instead.\n",
            "\n",
            "WARNING:tensorflow:From /usr/local/lib/python3.6/dist-packages/keras/backend/tensorflow_backend.py:197: The name tf.ConfigProto is deprecated. Please use tf.compat.v1.ConfigProto instead.\n",
            "\n",
            "WARNING:tensorflow:From /usr/local/lib/python3.6/dist-packages/keras/backend/tensorflow_backend.py:203: The name tf.Session is deprecated. Please use tf.compat.v1.Session instead.\n",
            "\n",
            "WARNING:tensorflow:From /usr/local/lib/python3.6/dist-packages/keras/backend/tensorflow_backend.py:207: The name tf.global_variables is deprecated. Please use tf.compat.v1.global_variables instead.\n",
            "\n",
            "WARNING:tensorflow:From /usr/local/lib/python3.6/dist-packages/keras/backend/tensorflow_backend.py:216: The name tf.is_variable_initialized is deprecated. Please use tf.compat.v1.is_variable_initialized instead.\n",
            "\n",
            "WARNING:tensorflow:From /usr/local/lib/python3.6/dist-packages/keras/backend/tensorflow_backend.py:223: The name tf.variables_initializer is deprecated. Please use tf.compat.v1.variables_initializer instead.\n",
            "\n"
          ],
          "name": "stdout"
        }
      ]
    },
    {
      "cell_type": "code",
      "metadata": {
        "id": "MFH1ztKtK1q5",
        "colab_type": "code",
        "outputId": "feb60657-5548-470a-d6ae-1152c8c0cfed",
        "colab": {
          "base_uri": "https://localhost:8080/",
          "height": 289
        }
      },
      "source": [
        "\n",
        "con = tf.confusion_matrix(labels=encoded_Y, predictions=np.argmax(predicted, axis=1) )\n",
        "sess = tf.Session()\n",
        "with sess.as_default():\n",
        "        print(sess.run(con))\n",
        "\n",
        "from sklearn.metrics import classification_report, confusion_matrix\n",
        "target_names = ['Inválidos', 'Não', 'Sim']\n",
        "print(classification_report(encoded_Y, np.argmax(predicted, axis=1), target_names=target_names))\n",
        "print(confusion_matrix(encoded_Y, np.argmax(predicted, axis=1)))"
      ],
      "execution_count": 0,
      "outputs": [
        {
          "output_type": "stream",
          "text": [
            "[[  1088   1852    477]\n",
            " [   980 228911   2387]\n",
            " [   244   7578  26250]]\n",
            "              precision    recall  f1-score   support\n",
            "\n",
            "   Inválidos       0.47      0.32      0.38      3417\n",
            "         Não       0.96      0.99      0.97    232278\n",
            "         Sim       0.90      0.77      0.83     34072\n",
            "\n",
            "    accuracy                           0.95    269767\n",
            "   macro avg       0.78      0.69      0.73    269767\n",
            "weighted avg       0.95      0.95      0.95    269767\n",
            "\n",
            "[[  1088   1852    477]\n",
            " [   980 228911   2387]\n",
            " [   244   7578  26250]]\n"
          ],
          "name": "stdout"
        }
      ]
    },
    {
      "cell_type": "code",
      "metadata": {
        "colab_type": "code",
        "id": "AhkZA3V0Kqc5",
        "colab": {}
      },
      "source": [
        ""
      ],
      "execution_count": 0,
      "outputs": []
    }
  ]
}