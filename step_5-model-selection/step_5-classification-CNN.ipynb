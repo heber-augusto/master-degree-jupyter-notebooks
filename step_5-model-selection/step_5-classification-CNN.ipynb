{
  "nbformat": 4,
  "nbformat_minor": 0,
  "metadata": {
    "accelerator": "GPU",
    "colab": {
      "name": "classification_CNN.ipynb",
      "provenance": [],
      "collapsed_sections": [],
      "machine_shape": "hm"
    },
    "kernelspec": {
      "name": "python3",
      "display_name": "Python 3"
    },
    "language_info": {
      "codemirror_mode": {
        "name": "ipython",
        "version": 3
      },
      "file_extension": ".py",
      "mimetype": "text/x-python",
      "name": "python",
      "nbconvert_exporter": "python",
      "pygments_lexer": "ipython3",
      "version": "3.7.3"
    }
  },
  "cells": [
    {
      "cell_type": "code",
      "metadata": {
        "id": "mmVDcQRfhYck",
        "colab_type": "code",
        "outputId": "0af12c3c-8000-4054-be42-40aed59fb5d2",
        "colab": {
          "base_uri": "https://localhost:8080/",
          "height": 882
        }
      },
      "source": [
        "GOOGLE_COLAB = 1\n",
        "\n",
        "if GOOGLE_COLAB == 1:\n",
        "  !pip install google\n",
        "  from google.colab import drive\n",
        "  drive.mount('/content/gdrive')\n",
        "  !pip install utm\n",
        "  !pip install --upgrade numpy\n",
        "  !pip install --upgrade matplotlib\n",
        "  !pip install numba\n",
        "  !pip install joblib\n",
        "  !pip install pystan\n",
        "  DATASETS_DIR = r'/content/gdrive/My Drive/datasets/'\n",
        "else:\n",
        "  DATASETS_DIR = r'/home/heber_augusto/mestrado/datasets/'\n",
        "\n",
        "  \n",
        "#importação de módulos e bibliotecas\n",
        "# To support both python 2 and python 3\n",
        "from __future__ import division, print_function, unicode_literals\n",
        "\n",
        "import seaborn as sns\n",
        "import numpy as np\n",
        "import math\n",
        "import matplotlib.pyplot as plt\n",
        "import matplotlib.transforms as transforms\n",
        "# Classic ACF and PACF Plots for Autocorrelation\n",
        "from statsmodels.graphics.tsaplots import plot_acf, plot_pacf\n",
        "from statsmodels.tsa.stattools import adfuller\n",
        "from statsmodels.tsa.seasonal import seasonal_decompose\n",
        "from statsmodels.tsa.vector_ar.var_model import VAR\n",
        "\n",
        "import statsmodels as sm\n",
        "import pandas as pd\n",
        "import os\n",
        "import datetime\n",
        "import utm\n",
        "from math import cos, asin, sqrt\n",
        "import gc\n",
        "import re\n",
        "import calendar\n",
        "from math import sqrt\n",
        "from numpy import array\n",
        "from numpy import hstack\n",
        "import pprint\n",
        "\n",
        "import functools\n",
        "\n",
        "from warnings import catch_warnings\n",
        "from warnings import filterwarnings\n",
        "from multiprocessing import cpu_count\n",
        "from joblib import Parallel\n",
        "from joblib import delayed\n",
        "from statsmodels.tsa.statespace.sarimax import SARIMAX\n",
        "from statsmodels.tsa.arima_model import ARIMA\n",
        "from sklearn.metrics import mean_squared_error, mean_absolute_error\n",
        "from sklearn.model_selection import TimeSeriesSplit\n",
        "\n",
        "import sqlite3\n",
        "\n",
        "from sklearn.model_selection import train_test_split\n",
        "from sklearn.ensemble import RandomForestClassifier,AdaBoostClassifier\n",
        "from sklearn.metrics import accuracy_score, classification_report, average_precision_score, average_precision_score, precision_recall_curve, mean_squared_error\n",
        "from sklearn.utils import resample\n",
        "from sklearn.preprocessing import LabelEncoder, OneHotEncoder, MinMaxScaler, StandardScaler\n",
        "\n",
        "\n",
        "from keras.models import Sequential\n",
        "from keras.layers import Dense, LSTM, Activation, Dropout, Flatten, RepeatVector, TimeDistributed, Masking\n",
        "from keras.preprocessing.sequence import TimeseriesGenerator\n",
        "from keras.backend import set_session\n",
        "from keras.layers.convolutional import Conv1D\n",
        "from keras.layers.convolutional import MaxPooling1D\n",
        "from keras.utils import to_categorical\n",
        "from keras.callbacks import ModelCheckpoint\n",
        "from keras.utils.vis_utils import plot_model\n",
        "\n",
        "import tensorflow as tf\n",
        "\n",
        "  \n",
        "\n",
        "  \n"
      ],
      "execution_count": 0,
      "outputs": [
        {
          "output_type": "stream",
          "text": [
            "Requirement already satisfied: google in /usr/local/lib/python3.6/dist-packages (2.0.3)\n",
            "Requirement already satisfied: beautifulsoup4 in /usr/local/lib/python3.6/dist-packages (from google) (4.6.3)\n",
            "Go to this URL in a browser: https://accounts.google.com/o/oauth2/auth?client_id=947318989803-6bn6qk8qdgf4n4g3pfee6491hc0brc4i.apps.googleusercontent.com&redirect_uri=urn%3aietf%3awg%3aoauth%3a2.0%3aoob&response_type=code&scope=email%20https%3a%2f%2fwww.googleapis.com%2fauth%2fdocs.test%20https%3a%2f%2fwww.googleapis.com%2fauth%2fdrive%20https%3a%2f%2fwww.googleapis.com%2fauth%2fdrive.photos.readonly%20https%3a%2f%2fwww.googleapis.com%2fauth%2fpeopleapi.readonly\n",
            "\n",
            "Enter your authorization code:\n",
            "··········\n",
            "Mounted at /content/gdrive\n",
            "Collecting utm\n",
            "  Downloading https://files.pythonhosted.org/packages/b6/77/180f06153f2c1a8caf8409ff6365abc9423ec4ebc3991dfe4a3228bc09d4/utm-0.5.0.tar.gz\n",
            "Building wheels for collected packages: utm\n",
            "  Building wheel for utm (setup.py) ... \u001b[?25l\u001b[?25hdone\n",
            "  Created wheel for utm: filename=utm-0.5.0-cp36-none-any.whl size=5903 sha256=f3c7956857695b2f7144707b40f51e02085fddb7d727f26172a2ef0ed512c468\n",
            "  Stored in directory: /root/.cache/pip/wheels/22/85/c2/314ffed39b8e02ca623e9b7d2ad7fcf3f8544a0e77c096be76\n",
            "Successfully built utm\n",
            "Installing collected packages: utm\n",
            "Successfully installed utm-0.5.0\n",
            "Collecting numpy\n",
            "\u001b[?25l  Downloading https://files.pythonhosted.org/packages/92/e6/45f71bd24f4e37629e9db5fb75caab919507deae6a5a257f9e4685a5f931/numpy-1.18.0-cp36-cp36m-manylinux1_x86_64.whl (20.1MB)\n",
            "\u001b[K     |████████████████████████████████| 20.1MB 151kB/s \n",
            "\u001b[31mERROR: datascience 0.10.6 has requirement folium==0.2.1, but you'll have folium 0.8.3 which is incompatible.\u001b[0m\n",
            "\u001b[31mERROR: albumentations 0.1.12 has requirement imgaug<0.2.7,>=0.2.5, but you'll have imgaug 0.2.9 which is incompatible.\u001b[0m\n",
            "\u001b[?25hInstalling collected packages: numpy\n",
            "  Found existing installation: numpy 1.17.4\n",
            "    Uninstalling numpy-1.17.4:\n",
            "      Successfully uninstalled numpy-1.17.4\n",
            "Successfully installed numpy-1.18.0\n"
          ],
          "name": "stdout"
        },
        {
          "output_type": "display_data",
          "data": {
            "application/vnd.colab-display-data+json": {
              "pip_warning": {
                "packages": [
                  "numpy"
                ]
              }
            }
          },
          "metadata": {
            "tags": []
          }
        },
        {
          "output_type": "stream",
          "text": [
            "Requirement already up-to-date: matplotlib in /usr/local/lib/python3.6/dist-packages (3.1.2)\n",
            "Requirement already satisfied, skipping upgrade: kiwisolver>=1.0.1 in /usr/local/lib/python3.6/dist-packages (from matplotlib) (1.1.0)\n",
            "Requirement already satisfied, skipping upgrade: numpy>=1.11 in /usr/local/lib/python3.6/dist-packages (from matplotlib) (1.18.0)\n",
            "Requirement already satisfied, skipping upgrade: pyparsing!=2.0.4,!=2.1.2,!=2.1.6,>=2.0.1 in /usr/local/lib/python3.6/dist-packages (from matplotlib) (2.4.5)\n",
            "Requirement already satisfied, skipping upgrade: python-dateutil>=2.1 in /usr/local/lib/python3.6/dist-packages (from matplotlib) (2.6.1)\n",
            "Requirement already satisfied, skipping upgrade: cycler>=0.10 in /usr/local/lib/python3.6/dist-packages (from matplotlib) (0.10.0)\n",
            "Requirement already satisfied, skipping upgrade: setuptools in /usr/local/lib/python3.6/dist-packages (from kiwisolver>=1.0.1->matplotlib) (42.0.2)\n",
            "Requirement already satisfied, skipping upgrade: six>=1.5 in /usr/local/lib/python3.6/dist-packages (from python-dateutil>=2.1->matplotlib) (1.12.0)\n",
            "Requirement already satisfied: numba in /usr/local/lib/python3.6/dist-packages (0.40.1)\n",
            "Requirement already satisfied: numpy in /usr/local/lib/python3.6/dist-packages (from numba) (1.18.0)\n",
            "Requirement already satisfied: llvmlite>=0.25.0dev0 in /usr/local/lib/python3.6/dist-packages (from numba) (0.30.0)\n",
            "Requirement already satisfied: joblib in /usr/local/lib/python3.6/dist-packages (0.14.1)\n",
            "Requirement already satisfied: pystan in /usr/local/lib/python3.6/dist-packages (2.19.1.1)\n",
            "Requirement already satisfied: numpy>=1.7 in /usr/local/lib/python3.6/dist-packages (from pystan) (1.18.0)\n",
            "Requirement already satisfied: Cython!=0.25.1,>=0.22 in /usr/local/lib/python3.6/dist-packages (from pystan) (0.29.14)\n"
          ],
          "name": "stdout"
        },
        {
          "output_type": "stream",
          "text": [
            "Using TensorFlow backend.\n"
          ],
          "name": "stderr"
        },
        {
          "output_type": "display_data",
          "data": {
            "text/html": [
              "<p style=\"color: red;\">\n",
              "The default version of TensorFlow in Colab will soon switch to TensorFlow 2.x.<br>\n",
              "We recommend you <a href=\"https://www.tensorflow.org/guide/migrate\" target=\"_blank\">upgrade</a> now \n",
              "or ensure your notebook will continue to use TensorFlow 1.x via the <code>%tensorflow_version 1.x</code> magic:\n",
              "<a href=\"https://colab.research.google.com/notebooks/tensorflow_version.ipynb\" target=\"_blank\">more info</a>.</p>\n"
            ],
            "text/plain": [
              "<IPython.core.display.HTML object>"
            ]
          },
          "metadata": {
            "tags": []
          }
        }
      ]
    },
    {
      "cell_type": "code",
      "metadata": {
        "colab_type": "code",
        "id": "Jqhy4QF9vE6n",
        "colab": {}
      },
      "source": [
        "\n",
        "  \n",
        "# Where to save the figures and other files\n",
        "PROJECT_ROOT_DIR = DATASETS_DIR\n",
        "MODEL_FOLDER = 'classification/'\n",
        "MODELS_DIR = DATASETS_DIR + MODEL_FOLDER\n",
        "FOLDER_ID = MODEL_FOLDER\n",
        "IMAGES_PATH = os.path.join(PROJECT_ROOT_DIR, \"images\")\n",
        "EXPORT_TO_FILES = True\n",
        "\n",
        "\n",
        "def save_fig(fig_id, tight_layout=True, fig_extension=\"png\", resolution=300):\n",
        "    path = os.path.join(IMAGES_PATH, fig_id + \".\" + fig_extension)\n",
        "    print(\"Saving figure\", fig_id)\n",
        "    if tight_layout:\n",
        "        plt.tight_layout()\n",
        "    plt.savefig(path, format=fig_extension, dpi=resolution)\n",
        "\n",
        "\n",
        "EXPORT_TO_FILES = True\n",
        "\n"
      ],
      "execution_count": 0,
      "outputs": []
    },
    {
      "cell_type": "code",
      "metadata": {
        "id": "GDwbEjkNBYTg",
        "colab_type": "code",
        "colab": {}
      },
      "source": [
        "def display_lr(lr_schedule, nb_epochs):\n",
        "  x = np.arange(nb_epochs)\n",
        "  y = [lr_schedule(i) for i in x]\n",
        "  plt.figure(figsize=(9,5))\n",
        "  plt.plot(x,y)\n",
        "  plt.title(\"Learning rate schedule\\nmax={:.2e}, min={:.2e}\".format(np.max(y), np.min(y)),\n",
        "            y=0.85)\n",
        "  plt.show()\n",
        "\n",
        "def display_loss(history, full_history, nb_epochs, steps_per_epoch):\n",
        "  plt.figure()\n",
        "  plt.plot(np.arange(0, len(full_history['loss']))/steps_per_epoch, full_history['loss'], label='detailed loss')\n",
        "  plt.plot(np.arange(1, nb_epochs+1), history['loss'], color='red', linewidth=3, label='average loss per epoch')\n",
        "  plt.ylim(0,3*max(history['loss'][1:]))\n",
        "  plt.xlabel('EPOCH')\n",
        "  plt.ylabel('LOSS')\n",
        "  plt.xlim(0, nb_epochs+0.5)\n",
        "  plt.legend()\n",
        "  for epoch in range(nb_epochs//2+1):\n",
        "    plt.gca().axvspan(2*epoch, 2*epoch+1, alpha=0.05, color='grey')\n",
        "  plt.show()\n",
        "\n"
      ],
      "execution_count": 0,
      "outputs": []
    },
    {
      "cell_type": "code",
      "metadata": {
        "colab_type": "code",
        "id": "Vsybl4kzrvOu",
        "colab": {}
      },
      "source": [
        "cadastro_estacoes = pd.read_csv(DATASETS_DIR + r'cadastro_estacoes.csv')\n",
        "dados_estacoes = []\n",
        "for i,row in cadastro_estacoes.iterrows():\n",
        "    dados_estacao = pd.read_csv(DATASETS_DIR + r'estacao_{0}.csv'.format(row['id']),delimiter=';')\n",
        "    dados_estacao['datahora'] = pd.to_datetime(dados_estacao['Data'],format='%d/%m/%Y')\n",
        "    dados_estacao.index = pd.to_datetime(dados_estacao['datahora'])\n",
        "    new_column_name = f\"Precipitacao_{row['id']}\"\n",
        "    dados_estacao = dados_estacao.rename(columns = {'Precipitacao':new_column_name})\n",
        "    dados_estacoes.append(dados_estacao[['datahora',new_column_name]])\n",
        "    \n",
        "dados_estacoes = pd.concat(dados_estacoes, axis=1)\n",
        "dados_estacoes = dados_estacoes.drop(columns=['datahora',])\n",
        "dados_estacoes = dados_estacoes.fillna(0)\n",
        "\n",
        "#dados_estacoes\n",
        "#Precipitacao_83533\tPrecipitacao_83536\tPrecipitacao_83570\tPrecipitacao_83581\tPrecipitacao_83586\tPrecipitacao_83587\tPrecipitacao_83589\tPrecipitacao_83632\tPrecipitacao_83635"
      ],
      "execution_count": 0,
      "outputs": []
    },
    {
      "cell_type": "code",
      "metadata": {
        "id": "ntV1csnrg3f6",
        "colab_type": "code",
        "colab": {}
      },
      "source": [
        "#carrega cadastro de elevatórias\n",
        "\n",
        "cadastro_elevatorias = pd.read_csv(DATASETS_DIR + r'cadastro_elevatorias.csv',decimal=\",\")\n",
        "cadastro_elevatorias['nivel_max'] = cadastro_elevatorias['nivel_max'].astype(float)\n",
        "cadastro_elevatorias['corrente1_max'] = cadastro_elevatorias['corrente1_max'].astype(float)\n",
        "cadastro_elevatorias['corrente2_max'] = cadastro_elevatorias['corrente2_max'].astype(float)\n",
        "cadastro_elevatorias['corrente3_max'] = cadastro_elevatorias['corrente3_max'].astype(float)\n",
        "\n",
        "cadastro_sem_strings = cadastro_elevatorias.copy()\n",
        "\n",
        "tmp = cadastro_sem_strings.select_dtypes(exclude=[np.number])\n",
        "\n",
        "# integer encode\n",
        "label_encoder = LabelEncoder()\n",
        "for column in tmp.columns:\n",
        "    integer_encoded = label_encoder.fit_transform(tmp[column])\n",
        "    cadastro_sem_strings[column] = integer_encoded"
      ],
      "execution_count": 0,
      "outputs": []
    },
    {
      "cell_type": "code",
      "metadata": {
        "id": "QKKZanlfffOe",
        "colab_type": "code",
        "outputId": "e8f5c9aa-fc3f-4f75-b888-15fabd8d9643",
        "colab": {
          "base_uri": "https://localhost:8080/",
          "height": 34
        }
      },
      "source": [
        "cadastro_elevatorias[cadastro_elevatorias['Tipo de bomba'] == 'Autoescorvante']['indice'].values"
      ],
      "execution_count": 0,
      "outputs": [
        {
          "output_type": "execute_result",
          "data": {
            "text/plain": [
              "array([ 1,  8, 13, 22, 24, 25])"
            ]
          },
          "metadata": {
            "tags": []
          },
          "execution_count": 6
        }
      ]
    },
    {
      "cell_type": "code",
      "metadata": {
        "colab_type": "code",
        "id": "ewdR5dx6nL6F",
        "colab": {}
      },
      "source": [
        "def create_features(df, label=None):\n",
        "    \"\"\"\n",
        "    Creates time series features from datetime index\n",
        "    \"\"\"\n",
        "    df['date'] = df.index\n",
        "    df['hour'] = df['date'].dt.hour\n",
        "    df['dayofweek'] = df['date'].dt.dayofweek\n",
        "    df['quarter'] = df['date'].dt.quarter\n",
        "    df['month'] = df['date'].dt.month\n",
        "    df['year'] = df['date'].dt.year\n",
        "    df['dayofyear'] = df['date'].dt.dayofyear\n",
        "    df['dayofmonth'] = df['date'].dt.day\n",
        "    df['weekofyear'] = df['date'].dt.weekofyear\n",
        "    \n",
        "    X = df[['hour','dayofweek','quarter','month','year',\n",
        "           'dayofyear','dayofmonth','weekofyear']]\n",
        "    if label:\n",
        "        y = df[label]\n",
        "        return X, y\n",
        "    return X"
      ],
      "execution_count": 0,
      "outputs": []
    },
    {
      "cell_type": "code",
      "metadata": {
        "colab_type": "code",
        "id": "am1JthSj1Lms",
        "colab": {}
      },
      "source": [
        "HOURS_BEFORE = 8\n",
        "HOURS_AFTER  = 1\n",
        "\n",
        "def getTimeseriesFromElevatoria(elevatoria, years=None):\n",
        "  timeseries_file   = DATASETS_DIR + f'timeseries_elevatoria_{elevatoria}.csv'\n",
        "  #realiza leitura de arquivo csv, configura frequencia, renomeia coluna e cria coluna de data para deixar identico ao timeseries original\n",
        "  timeseries   = pd.read_csv(timeseries_file, parse_dates=['TIMESTAMP','TIMESTAMP.1', 'TIMESTAMP_fim'], index_col=0)\n",
        "  timeseries = timeseries.rename(columns={'TIMESTAMP.1': 'TIMESTAMP',}).asfreq('5T')\n",
        "  timeseries['DATA'] = timeseries.index.date\n",
        "  \n",
        "  if years != None:\n",
        "    timeseries = timeseries[timeseries.TIMESTAMP.dt.year.isin(years)]\n",
        "  \n",
        "  #calcula soma do tempo de extravasao para a proxima 1h (12x5 minutos)\n",
        "  timeseries['extravasao_duracao_after'] = timeseries['extravasao_duracao'].rolling(min_periods=1, window=HOURS_AFTER*12).sum().shift(-HOURS_AFTER*12)\n",
        "  timeseries['extravasao_duracao_before'] = timeseries['extravasao_duracao'].rolling(min_periods=1, window=HOURS_BEFORE*12).sum()\n",
        "\n",
        "  #filtra apenas as que não tiveram extravasao nas ultimas 8h para garantir que a predição não é contaminada \n",
        "  #(prever a extravasão sem saber que há uma extravasão ocorrendo tem mais valor)\n",
        "  #timeseries = timeseries[timeseries.extravasao_duracao_before == 0]\n",
        "    \n",
        "  create_features(timeseries)\n",
        "\n",
        "  #cria coluna em dados de estacoes metereologicas e une dados a estacao\n",
        "  dados_estacoes['DATA'] = dados_estacoes.index.date\n",
        "  timeseries = pd.merge(timeseries, dados_estacoes,on='DATA')    \n",
        "    \n",
        "  #varre cada uma das colunas do cadastro criando novas colunas (categorical data) na serie temporal\n",
        "  for column in cadastro_sem_strings.columns:\n",
        "    timeseries[column] = cadastro_sem_strings.iloc[elevatoria - 1][column]\n",
        "\n",
        "  #conta quantidade de valores nulos nas proximas 8h  \n",
        "  timeseries['isnull']          = 0\n",
        "  timeseries.loc[timeseries.nivel.isnull(), 'isnull'] = 1\n",
        "  timeseries['contagem_valores_nulos_prox_8h']          = timeseries['isnull'].rolling(min_periods=1, window=8*12).sum().shift(8*12)    \n",
        "    \n",
        "  #marca valores nan com -1\n",
        "  #timeseries = timeseries.fillna(-1)\n",
        "  \n",
        "  #seta valor de colunas de saida = 0 caso valor seja menor que 0\n",
        "  #timeseries.loc[timeseries['extravasao_duracao_after'] < 0, 'extravasao_duracao_after'] = 0.0\n",
        "  #timeseries.loc[timeseries['extravasao_duracao_before'] < 0, 'extravasao_duracao_before'] = 0.0\n",
        "  \n",
        "  \n",
        "  #converte valor das colunas de duracao para horas\n",
        "  for col in timeseries.columns:\n",
        "    if 'duracao' in col:\n",
        "      #transforma para horas\n",
        "      timeseries[col] = timeseries[col] * 1.0/ 3600\n",
        "  \n",
        "  \n",
        "  #remove linhas em que, ao menos metade das 8h proximas, possuem valor nulo\n",
        "  #timeseries = timeseries[timeseries.contagem_valores_nulos_prox_8h < 48]\n",
        "\n",
        "  return timeseries \n"
      ],
      "execution_count": 0,
      "outputs": []
    },
    {
      "cell_type": "code",
      "metadata": {
        "id": "JtBBZddkg3gU",
        "colab_type": "code",
        "colab": {}
      },
      "source": [
        "\n",
        "# split a dataset into train/test sets\n",
        "def train_test_split(data, n_test):\n",
        "    return data[:-n_test], data[-n_test:]\n",
        "\n"
      ],
      "execution_count": 0,
      "outputs": []
    },
    {
      "cell_type": "code",
      "metadata": {
        "colab_type": "code",
        "id": "MPC6do2plW3f",
        "colab": {}
      },
      "source": [
        "# multivariate output data prep\n",
        "\n",
        "\n",
        "# split a multivariate sequence into samples\n",
        "def split_sequences(sequences, n_steps):\n",
        "    X, y = list(), list()\n",
        "    for i in range(len(sequences)):\n",
        "        # find the end of this pattern\n",
        "        end_ix = i + n_steps\n",
        "        # check if we are beyond the dataset\n",
        "        if end_ix > len(sequences):\n",
        "            break\n",
        "        # gather input and output parts of the pattern\n",
        "        seq_x, seq_y = sequences[i:end_ix, :-1], sequences[end_ix-1, -1]\n",
        "        X.append(seq_x)\n",
        "        y.append(seq_y)\n",
        "    return array(X), array(y)\n",
        "\n",
        " \n",
        "\n",
        "def prepare_multivar_timeseries_tofit(timeseries, input_columns, output_columns, n_steps = 96):\n",
        "    \"\"\"\n",
        "    prepara serie temporal para fit do modelo\n",
        "    n_steps com valor defaul de 96 considerando 8 horas (12 registros de 5min/hora => 12*8)\n",
        "    \"\"\"\n",
        "    #tamanho dos vetores\n",
        "    size_of_arrays = len(timeseries.index)\n",
        "\n",
        "    #sequencias de entradas e saídas convertidas em estruturas de [linhas, colunas]\n",
        "    in_seqs  = [timeseries[col].values.reshape((size_of_arrays, 1)) for col in input_columns]\n",
        "    out_seqs = [timeseries[col].values.reshape((size_of_arrays, 1)) for col in output_columns]\n",
        "\n",
        "    # horizontally stack columns\n",
        "    dataset = hstack(tuple(in_seqs + out_seqs))\n",
        "\n",
        "\n",
        "    # convert into input/output\n",
        "    X, y = split_sequences(dataset, n_steps)\n",
        "\n",
        "    return X, y\n",
        "\n",
        "#cria lista de nomes de colunas sem saida\n",
        "output_columns    = ['tipo_extravasao',]\n",
        "columns_to_remove = ['DATA','TIMESTAMP','TIMESTAMP_fim','date', 'nivel_inv_max', 'corrente1_inv_max', \n",
        "                     'corrente2_inv_max', 'corrente3_inv_max', 'extravasao_ocorreu', 'extravasao_ocorrendo', \n",
        "                    'acc_bomba1_ocorreu', 'acc_bomba1_ocorrendo', 'acc_bomba2_ocorreu', 'acc_bomba2_ocorrendo',\n",
        "                    'acc_bomba3_ocorreu', 'acc_bomba3_ocorrendo','mnt_bomba1_ocorreu', 'mnt_bomba1_ocorrendo',\n",
        "                    'mnt_bomba2_ocorreu', 'mnt_bomba2_ocorrendo', 'mnt_bomba3_ocorreu', 'mnt_bomba3_ocorrendo',\n",
        "                     'extravasao_duracao_before','contagem_valores_nulos_prox_8h', 'isnull', 'extravasao_duracao_after',]\n",
        "#input_columns     = [k for k in timeseries.columns if k not in output_columns + columns_to_remove]\n",
        "input_columns = [\n",
        "  'nivel', 'corrente1', 'corrente2', 'corrente3', 'extravasao_contagem', \n",
        " 'extravasao_duracao', 'extravasao_contagem_cum', 'extravasao_duracao_cum',\n",
        " 'extravasao_ocorreu_cum', 'extravasao_ocorrendo_cum', 'acc_bomba1_contagem',\n",
        " 'acc_bomba1_duracao', 'acc_bomba1_contagem_cum', 'acc_bomba1_duracao_cum',\n",
        " 'acc_bomba1_ocorreu_cum', 'acc_bomba1_ocorrendo_cum', 'mnt_bomba1_contagem',\n",
        " 'mnt_bomba1_duracao', 'mnt_bomba1_contagem_cum', 'mnt_bomba1_duracao_cum',\n",
        " 'mnt_bomba1_ocorreu_cum', 'mnt_bomba1_ocorrendo_cum', 'acc_bomba2_contagem',\n",
        " 'acc_bomba2_duracao', 'acc_bomba2_contagem_cum', 'acc_bomba2_duracao_cum',\n",
        " 'acc_bomba2_ocorreu_cum', 'acc_bomba2_ocorrendo_cum', 'mnt_bomba2_contagem',\n",
        " 'mnt_bomba2_duracao', 'mnt_bomba2_contagem_cum', 'mnt_bomba2_duracao_cum',\n",
        " 'mnt_bomba2_ocorreu_cum', 'mnt_bomba2_ocorrendo_cum', 'acc_bomba3_contagem',\n",
        " 'acc_bomba3_duracao', 'acc_bomba3_contagem_cum', 'acc_bomba3_duracao_cum',\n",
        " 'acc_bomba3_ocorreu_cum', 'acc_bomba3_ocorrendo_cum', 'mnt_bomba3_contagem',\n",
        " 'mnt_bomba3_duracao', 'mnt_bomba3_contagem_cum', 'mnt_bomba3_duracao_cum',\n",
        " 'mnt_bomba3_ocorreu_cum', 'mnt_bomba3_ocorrendo_cum',\n",
        " 'hour', 'dayofweek', 'quarter', 'month', 'year', 'dayofyear', 'dayofmonth',\n",
        " 'weekofyear', 'Precipitacao_83581', 'Precipitacao_83570', 'Precipitacao_83536', \n",
        " 'Precipitacao_83533', 'Precipitacao_83635', 'Precipitacao_83632',\n",
        " 'Precipitacao_83586', 'Precipitacao_83589', 'Precipitacao_83587',\n",
        " 'indice', 'nome', 'utmx', 'utmy', 'Tipo de bomba', 'Quantidade de bombas', \n",
        " 'Vazão de recalque (l/s)', 'Altura manométrica (mca)', \n",
        " 'Diâmetro tubulação   recalque (mm)',  'Material  tubulação  recalque', \n",
        " 'Extensão  tubulação  recalque(m)', 'Retenção  resíduos', \n",
        " 'Sistema Içamento  bombas ', 'Urbanização', 'Potência instalada (cv)', \n",
        " 'Combate a odores', 'Sistema de partida das bombas',\n",
        " 'Tipo de sensor de nível utilizado no controle', 'nivel_max', \n",
        " 'corrente1_max', 'corrente2_max', 'corrente3_max', 'bomba1', 'bomba2', 'bomba3']\n",
        "\n",
        "valid_columns = input_columns + output_columns\n",
        "\n",
        "#8 horas de dados\n",
        "n_steps = 96\n",
        "n_features = len(input_columns) # a quantidade de features está presente nas entradas\n",
        "n_outputs  = 3 #opcoes de classificacao (sim, não e invalido)\n",
        "n_batch    = n_steps #1 período de 8 horas\n",
        "\n"
      ],
      "execution_count": 0,
      "outputs": []
    },
    {
      "cell_type": "code",
      "metadata": {
        "id": "-KDiV9iRg3gg",
        "colab_type": "code",
        "colab": {}
      },
      "source": [
        "\n",
        "def get_timeseries_from_elevatoria(elevatoria, years):\n",
        "  timeseries        = getTimeseriesFromElevatoria(elevatoria,years=years)\n",
        "  timeseries['tipo_extravasao'] = 'nao'\n",
        "  timeseries.loc[timeseries['extravasao_duracao_after'] > 0, 'tipo_extravasao'] = 'sim'\n",
        "  timeseries.loc[timeseries.contagem_valores_nulos_prox_8h >= 48, 'tipo_extravasao'] = 'invalido'\n",
        "\n",
        "\n",
        "  scaler_dict = {}\n",
        "\n",
        "  #normaliza todas as colunas validas entre 0 e 1\n",
        "  for column in input_columns:\n",
        "    #values = timeseries[[column]].values\n",
        "    min_max_scaler = MinMaxScaler()\n",
        "    null_index = timeseries[column].isnull()\n",
        "    timeseries.loc[~null_index, column] = min_max_scaler.fit_transform(timeseries.loc[~null_index, [column]])\n",
        "    #timeseries[column] = min_max_scaler.fit_transform(values)\n",
        "    scaler_dict[column] = min_max_scaler\n",
        "\n",
        "  #marca valores nan com -1\n",
        "  timeseries = timeseries.fillna(-1) \n",
        "\n",
        "  return timeseries \n",
        "  "
      ],
      "execution_count": 0,
      "outputs": []
    },
    {
      "cell_type": "code",
      "metadata": {
        "id": "20zChidyncIZ",
        "colab_type": "code",
        "colab": {}
      },
      "source": [
        "def encode_output(train_y, test_y):\n",
        "  # encode class values as integers\n",
        "  encoder = LabelEncoder()\n",
        "  encoder.fit(np.array(['nao', 'sim', 'invalido']))\n",
        "  encoded_Y = encoder.transform(train_y)\n",
        "  encoded_test_Y = encoder.transform(test_y)\n",
        "  return to_categorical(encoder.transform(train_y)), \\\n",
        "          to_categorical(encoder.transform(test_y)),\\\n",
        "          encoded_Y,\\\n",
        "          encoded_test_Y"
      ],
      "execution_count": 0,
      "outputs": []
    },
    {
      "cell_type": "code",
      "metadata": {
        "id": "qoGojKz4W5k2",
        "colab_type": "code",
        "colab": {}
      },
      "source": [
        "def dummy_prepare_input(input):\n",
        "  \"\"\"\n",
        "  função dummy que não altera entrada\n",
        "  \"\"\"\n",
        "  return input\n",
        "\n",
        "\n",
        "def cnn_prepare_input(input):\n",
        "  \"\"\"\n",
        "  função dummy que altera entrada para treinamento de cnn\n",
        "  \"\"\"\n",
        "  return input.reshape((input.shape[0], input.shape[1], n_features))\n",
        "\n",
        "prepare_function_by_model = {}\n",
        "prepare_function_by_model['lstm100_vanilla'] = dummy_prepare_input\n",
        "prepare_function_by_model['cnn_dense_100'] = dummy_prepare_input\n"
      ],
      "execution_count": 0,
      "outputs": []
    },
    {
      "cell_type": "code",
      "metadata": {
        "id": "pnPfhnqrwvOg",
        "colab_type": "code",
        "outputId": "06d440d5-89bc-4161-8a11-8c40dbfdea3e",
        "colab": {
          "base_uri": "https://localhost:8080/",
          "height": 326
        }
      },
      "source": [
        "#dicionario de modelos\n",
        "models = {}\n",
        "\n",
        "# define the CNN model\n",
        "model = Sequential()\n",
        "model.add(Conv1D(64, 3, activation='relu', input_shape=(n_steps,n_features)))\n",
        "model.add(Conv1D(64, 3, activation='relu'))\n",
        "model.add(Dropout(0.5))\n",
        "model.add(MaxPooling1D())\n",
        "model.add(Flatten())\n",
        "model.add(Dense(100, activation='relu'))\n",
        "model.add(Dense(n_outputs, activation='softmax'))\n",
        "model.compile(loss='sparse_categorical_crossentropy', \n",
        "              optimizer='adam',  \n",
        "              metrics=['accuracy'])\n",
        "models['cnn_dense_100'] = model\n",
        "\n",
        "#cria a camada de entrada e a primeira camada de convolução\n",
        "#considerando o numero de registros (8h * 12 registros/hora = 96)características  \n",
        "\n",
        "\n",
        "\n",
        "model = Sequential()\n",
        "model.add(LSTM(100, input_shape=(n_steps,n_features)))\n",
        "model.add(Dropout(0.5))\n",
        "model.add(Dense(100, activation='relu'))\n",
        "model.add(Dense(n_outputs, activation='softmax'))\n",
        "model.compile(loss='categorical_crossentropy', optimizer='adam', metrics=['accuracy'])\n",
        "models['lstm100_vanilla'] = model\n",
        "\n",
        "model_name = 'cnn_dense_100'\n",
        "model = models[model_name]"
      ],
      "execution_count": 0,
      "outputs": [
        {
          "output_type": "stream",
          "text": [
            "WARNING:tensorflow:From /usr/local/lib/python3.6/dist-packages/keras/backend/tensorflow_backend.py:66: The name tf.get_default_graph is deprecated. Please use tf.compat.v1.get_default_graph instead.\n",
            "\n",
            "WARNING:tensorflow:From /usr/local/lib/python3.6/dist-packages/keras/backend/tensorflow_backend.py:541: The name tf.placeholder is deprecated. Please use tf.compat.v1.placeholder instead.\n",
            "\n",
            "WARNING:tensorflow:From /usr/local/lib/python3.6/dist-packages/keras/backend/tensorflow_backend.py:4432: The name tf.random_uniform is deprecated. Please use tf.random.uniform instead.\n",
            "\n",
            "WARNING:tensorflow:From /usr/local/lib/python3.6/dist-packages/keras/backend/tensorflow_backend.py:148: The name tf.placeholder_with_default is deprecated. Please use tf.compat.v1.placeholder_with_default instead.\n",
            "\n",
            "WARNING:tensorflow:From /usr/local/lib/python3.6/dist-packages/keras/backend/tensorflow_backend.py:3733: calling dropout (from tensorflow.python.ops.nn_ops) with keep_prob is deprecated and will be removed in a future version.\n",
            "Instructions for updating:\n",
            "Please use `rate` instead of `keep_prob`. Rate should be set to `rate = 1 - keep_prob`.\n",
            "WARNING:tensorflow:From /usr/local/lib/python3.6/dist-packages/keras/backend/tensorflow_backend.py:4267: The name tf.nn.max_pool is deprecated. Please use tf.nn.max_pool2d instead.\n",
            "\n",
            "WARNING:tensorflow:From /usr/local/lib/python3.6/dist-packages/keras/optimizers.py:793: The name tf.train.Optimizer is deprecated. Please use tf.compat.v1.train.Optimizer instead.\n",
            "\n",
            "WARNING:tensorflow:From /usr/local/lib/python3.6/dist-packages/keras/backend/tensorflow_backend.py:3622: The name tf.log is deprecated. Please use tf.math.log instead.\n",
            "\n"
          ],
          "name": "stdout"
        }
      ]
    },
    {
      "cell_type": "code",
      "metadata": {
        "id": "uce9nTAJKSLX",
        "colab_type": "code",
        "outputId": "47cc00f0-1681-4e39-bddd-87c903d1d687",
        "colab": {
          "base_uri": "https://localhost:8080/",
          "height": 865
        }
      },
      "source": [
        "#imagem detalhando o modelo cnn\n",
        "plot_model(models['cnn_dense_100'], to_file='model_cnn_dense_100.png', show_shapes=True, show_layer_names=True)"
      ],
      "execution_count": 0,
      "outputs": [
        {
          "output_type": "execute_result",
          "data": {
            "image/png": "[encoded data removed]",
            "text/plain": [
              "<IPython.core.display.Image object>"
            ]
          },
          "metadata": {
            "tags": []
          },
          "execution_count": 15
        }
      ]
    },
    {
      "cell_type": "code",
      "metadata": {
        "id": "6CE83ps-LH5_",
        "colab_type": "code",
        "outputId": "525a1b54-111b-4928-9cc6-1ae936c2b446",
        "colab": {
          "base_uri": "https://localhost:8080/",
          "height": 533
        }
      },
      "source": [
        "#imagem detalhando o modelo lstm100_vanilla\n",
        "plot_model(models['lstm100_vanilla'], to_file='model_lstm100_vanilla.png', show_shapes=True, show_layer_names=True)"
      ],
      "execution_count": 0,
      "outputs": [
        {
          "output_type": "execute_result",
          "data": {
            "image/png": "[encoded data removed]",
            "text/plain": [
              "<IPython.core.display.Image object>"
            ]
          },
          "metadata": {
            "tags": []
          },
          "execution_count": 16
        }
      ]
    },
    {
      "cell_type": "code",
      "metadata": {
        "id": "O_ZBn65LlH1B",
        "colab_type": "code",
        "colab": {}
      },
      "source": [
        "# Keras model callbacks\n",
        "\n",
        "# This callback records a per-step loss history instead of the average loss per\n",
        "# epoch that Keras normally reports. It allows you to see more problems.\n",
        "class LossHistory(tf.keras.callbacks.Callback):\n",
        "  def on_train_begin(self, logs={}):\n",
        "      self.history = {'loss': []}\n",
        "  def on_batch_end(self, batch, logs={}):\n",
        "      self.history['loss'].append(logs.get('loss'))\n",
        "      \n",
        "# This callback resets the RNN state at each epoch\n",
        "class ResetStateCallback(tf.keras.callbacks.Callback):\n",
        "  def on_epoch_begin(self, batch, logs={}):\n",
        "      self.model.reset_states()\n",
        "      print('reset state')\n",
        "\n",
        "reset_state = ResetStateCallback()\n",
        "      \n",
        "# learning rate decay callback\n",
        "#def lr_schedule(epoch): return 0.01\n",
        "def lr_schedule(epoch): return 0.0001 + 0.01 * math.pow(0.65, epoch)\n",
        "lr_decay = tf.keras.callbacks.LearningRateScheduler(lr_schedule, verbose=True)\n",
        "\n",
        "\n",
        "full_history = LossHistory()\n",
        "'''\n",
        "saves the model weights after each epoch if the validation loss decreased\n",
        "'''\n",
        "best_file_path = MODELS_DIR + f\"best_{model_name}\" +\"_weights.{epoch:02d}-{val_loss:.hdf5}.h5\"\n",
        "checkpointer = ModelCheckpoint(filepath=best_file_path, verbose=1, save_best_only=True)\n"
      ],
      "execution_count": 0,
      "outputs": []
    },
    {
      "cell_type": "code",
      "metadata": {
        "id": "sgf9iWweJswa",
        "colab_type": "code",
        "colab": {}
      },
      "source": [
        "NB_EPOCHS = 10"
      ],
      "execution_count": 0,
      "outputs": []
    },
    {
      "cell_type": "code",
      "metadata": {
        "id": "Z3-SDA0JVfTl",
        "colab_type": "code",
        "outputId": "0322d476-a811-41b0-f16f-bf178517ac47",
        "colab": {
          "base_uri": "https://localhost:8080/",
          "height": 289
        }
      },
      "source": [
        "# this prints a description of the model\n",
        "models['lstm100_vanilla'].summary()"
      ],
      "execution_count": 0,
      "outputs": [
        {
          "output_type": "stream",
          "text": [
            "Model: \"sequential_2\"\n",
            "_________________________________________________________________\n",
            "Layer (type)                 Output Shape              Param #   \n",
            "=================================================================\n",
            "lstm_1 (LSTM)                (None, 100)               75600     \n",
            "_________________________________________________________________\n",
            "dropout_2 (Dropout)          (None, 100)               0         \n",
            "_________________________________________________________________\n",
            "dense_3 (Dense)              (None, 100)               10100     \n",
            "_________________________________________________________________\n",
            "dense_4 (Dense)              (None, 3)                 303       \n",
            "=================================================================\n",
            "Total params: 86,003\n",
            "Trainable params: 86,003\n",
            "Non-trainable params: 0\n",
            "_________________________________________________________________\n"
          ],
          "name": "stdout"
        }
      ]
    },
    {
      "cell_type": "code",
      "metadata": {
        "id": "7ZPIUJhVsUyn",
        "colab_type": "code",
        "outputId": "4cacbe08-1658-49c9-dc21-a28a1b09cd23",
        "colab": {
          "base_uri": "https://localhost:8080/",
          "height": 694
        }
      },
      "source": [
        "epoch = 1\n",
        "NB_EPOCHS = 10\n",
        "if epoch > 1:\n",
        "  model.load_weights(MODELS_DIR + f\"{model_name}_invclass_{elevatoria}_epoch{epoch - 1}_batch{n_batch}.h5\")\n",
        "\n",
        "# this prints a description of the model\n",
        "model.summary()\n",
        "\n",
        "display_lr(lr_schedule, NB_EPOCHS)\n",
        "\n"
      ],
      "execution_count": 0,
      "outputs": [
        {
          "output_type": "stream",
          "text": [
            "Model: \"sequential_1\"\n",
            "_________________________________________________________________\n",
            "Layer (type)                 Output Shape              Param #   \n",
            "=================================================================\n",
            "conv1d_1 (Conv1D)            (None, 94, 64)            16960     \n",
            "_________________________________________________________________\n",
            "conv1d_2 (Conv1D)            (None, 92, 64)            12352     \n",
            "_________________________________________________________________\n",
            "dropout_1 (Dropout)          (None, 92, 64)            0         \n",
            "_________________________________________________________________\n",
            "max_pooling1d_1 (MaxPooling1 (None, 46, 64)            0         \n",
            "_________________________________________________________________\n",
            "flatten_1 (Flatten)          (None, 2944)              0         \n",
            "_________________________________________________________________\n",
            "dense_1 (Dense)              (None, 100)               294500    \n",
            "_________________________________________________________________\n",
            "dense_2 (Dense)              (None, 3)                 303       \n",
            "=================================================================\n",
            "Total params: 324,115\n",
            "Trainable params: 324,115\n",
            "Non-trainable params: 0\n",
            "_________________________________________________________________\n"
          ],
          "name": "stdout"
        },
        {
          "output_type": "display_data",
          "data": {
            "image/png": "[encoded data removed]",
            "text/plain": [
              "<Figure size 648x360 with 1 Axes>"
            ]
          },
          "metadata": {
            "tags": []
          }
        }
      ]
    },
    {
      "cell_type": "code",
      "metadata": {
        "id": "QLrDKEaQ9VnE",
        "colab_type": "code",
        "colab": {}
      },
      "source": [
        "history_elevatorias = {}\n",
        "epoch = 9"
      ],
      "execution_count": 0,
      "outputs": []
    },
    {
      "cell_type": "code",
      "metadata": {
        "id": "95rKTJkhRoAQ",
        "colab_type": "code",
        "outputId": "9ebe359f-9333-4d47-b4d7-1571a6150eab",
        "colab": {
          "base_uri": "https://localhost:8080/",
          "height": 153
        }
      },
      "source": [
        "\n",
        "timeseries = get_timeseries_from_elevatoria(1, [2018,])\n",
        "print(timeseries.shape)\n",
        "\n",
        "#preparacao dos dados de treinamento e teste\n",
        "train_x, train_y = prepare_multivar_timeseries_tofit(timeseries, input_columns, output_columns, n_steps)\n",
        "print(train_x.shape)\n",
        "print(train_y.shape)\n",
        "\n",
        "#encode for classification task\n",
        "train_y, test_y, encoded_Y, encoded_test_Y = encode_output(train_y, train_y)\n",
        "print(train_y.shape)\n",
        "print(test_y.shape)\n",
        "print(encoded_Y.shape)\n",
        "print(encoded_test_Y.shape)\n",
        "\n",
        "prepare_input_function = prepare_function_by_model[model_name]\n",
        "print(prepare_input_function(train_x).shape)"
      ],
      "execution_count": 0,
      "outputs": [
        {
          "output_type": "stream",
          "text": [
            "(8895, 115)\n",
            "(8800, 96, 88)\n",
            "(8800,)\n",
            "(8800, 3)\n",
            "(8800, 3)\n",
            "(8800,)\n",
            "(8800,)\n",
            "(8800, 96, 88)\n"
          ],
          "name": "stdout"
        }
      ]
    },
    {
      "cell_type": "code",
      "metadata": {
        "id": "ppuwMfUpg3gn",
        "colab_type": "code",
        "outputId": "9313fdd9-f110-4edd-9409-94605807a86d",
        "colab": {
          "base_uri": "https://localhost:8080/",
          "height": 1000
        }
      },
      "source": [
        "elevatorias_escolhidas = [1, 22, 25] #apenas autoescorvantes\n",
        "#elevatorias_escolhidas = [1,10,11,12,25] #vários tipos de bombas\n",
        "epoch = 1\n",
        "for nepoch in range(NB_EPOCHS):\n",
        "  epoch +=1\n",
        "  for year in [2016,2017,2018]:\n",
        "    print(f'Epoca {epoch} - ano {year}')      \n",
        "    for elevatoria in elevatorias_escolhidas:\n",
        "      print(f'Treinando dados da elevatoria {elevatoria}...')\n",
        "      timeseries = get_timeseries_from_elevatoria(elevatoria, [year,])\n",
        "\n",
        "      #preparacao dos dados de treinamento e teste\n",
        "      train_x, train_y = prepare_multivar_timeseries_tofit(timeseries, input_columns, output_columns, n_steps)\n",
        "\n",
        "      #encode for classification task\n",
        "      train_y, test_y, encoded_Y, encoded_test_Y = encode_output(train_y, train_y)\n",
        "      \n",
        "      full_history = LossHistory()\n",
        "      \n",
        "      # fit network\n",
        "      number_of_epochs = NB_EPOCHS\n",
        "      prepare_input_function = prepare_function_by_model[model_name]\n",
        "      history  = model.fit(prepare_input_function(train_x), \n",
        "                          encoded_Y, \n",
        "                          batch_size=n_batch, \n",
        "                          epochs=1, \n",
        "                          #validation_data=(prepare_input_function(test_x), encoded_test_Y), \n",
        "                          verbose=1,\n",
        "                          callbacks=[full_history,])\n",
        "      model.save(MODELS_DIR + f\"{model_name}_{elevatoria}_epoch{epoch}_batch{n_batch}_{year}_complete_1htest_autoescorvantes.h5\")\n",
        "      try:\n",
        "        history_elevatorias[elevatoria]['history'].append(history)\n",
        "        history_elevatorias[elevatoria]['full_history'].append(full_history)\n",
        "      except:\n",
        "        history_elevatorias[elevatoria] = {}\n",
        "        history_elevatorias[elevatoria]['history'] =[]\n",
        "        history_elevatorias[elevatoria]['history'] = [history,]\n",
        "        history_elevatorias[elevatoria]['full_history'] =[]\n",
        "        history_elevatorias[elevatoria]['full_history'] = [full_history,]\n",
        "        pass\n",
        "      test_y = None\n",
        "      test_x = None\n",
        "      train_x = None\n",
        "      train_y = None\n",
        "      train = None\n",
        "      test = None\n",
        "      timeseries = None\n",
        "      encoded_Y = None\n",
        "      encoded_test_Y = None\n",
        "      import gc\n",
        "      gc.collect()\n"
      ],
      "execution_count": 0,
      "outputs": [
        {
          "output_type": "stream",
          "text": [
            "Epoca 2 - ano 2016\n",
            "Treinando dados da elevatoria 1...\n",
            "WARNING:tensorflow:From /usr/local/lib/python3.6/dist-packages/tensorflow_core/python/ops/math_grad.py:1424: where (from tensorflow.python.ops.array_ops) is deprecated and will be removed in a future version.\n",
            "Instructions for updating:\n",
            "Use tf.where in 2.0, which has the same broadcast rule as np.where\n",
            "WARNING:tensorflow:From /usr/local/lib/python3.6/dist-packages/keras/backend/tensorflow_backend.py:1033: The name tf.assign_add is deprecated. Please use tf.compat.v1.assign_add instead.\n",
            "\n",
            "WARNING:tensorflow:From /usr/local/lib/python3.6/dist-packages/keras/backend/tensorflow_backend.py:1020: The name tf.assign is deprecated. Please use tf.compat.v1.assign instead.\n",
            "\n",
            "WARNING:tensorflow:From /usr/local/lib/python3.6/dist-packages/keras/backend/tensorflow_backend.py:3005: The name tf.Session is deprecated. Please use tf.compat.v1.Session instead.\n",
            "\n",
            "Epoch 1/1\n",
            "WARNING:tensorflow:From /usr/local/lib/python3.6/dist-packages/keras/backend/tensorflow_backend.py:190: The name tf.get_default_session is deprecated. Please use tf.compat.v1.get_default_session instead.\n",
            "\n",
            "WARNING:tensorflow:From /usr/local/lib/python3.6/dist-packages/keras/backend/tensorflow_backend.py:197: The name tf.ConfigProto is deprecated. Please use tf.compat.v1.ConfigProto instead.\n",
            "\n",
            "WARNING:tensorflow:From /usr/local/lib/python3.6/dist-packages/keras/backend/tensorflow_backend.py:207: The name tf.global_variables is deprecated. Please use tf.compat.v1.global_variables instead.\n",
            "\n",
            "WARNING:tensorflow:From /usr/local/lib/python3.6/dist-packages/keras/backend/tensorflow_backend.py:216: The name tf.is_variable_initialized is deprecated. Please use tf.compat.v1.is_variable_initialized instead.\n",
            "\n",
            "WARNING:tensorflow:From /usr/local/lib/python3.6/dist-packages/keras/backend/tensorflow_backend.py:223: The name tf.variables_initializer is deprecated. Please use tf.compat.v1.variables_initializer instead.\n",
            "\n",
            "105313/105313 [==============================] - 51s 487us/step - loss: 0.1309 - acc: 0.9637\n",
            "Treinando dados da elevatoria 22...\n",
            "Epoch 1/1\n",
            "105313/105313 [==============================] - 37s 347us/step - loss: 0.1687 - acc: 0.9456\n",
            "Treinando dados da elevatoria 25...\n",
            "Epoch 1/1\n",
            "105313/105313 [==============================] - 36s 343us/step - loss: 0.1530 - acc: 0.9532\n",
            "Epoca 2 - ano 2017\n",
            "Treinando dados da elevatoria 1...\n",
            "Epoch 1/1\n",
            "105025/105025 [==============================] - 36s 346us/step - loss: 0.1225 - acc: 0.9668\n",
            "Treinando dados da elevatoria 22...\n",
            "Epoch 1/1\n",
            "105025/105025 [==============================] - 36s 346us/step - loss: 0.1233 - acc: 0.9648\n",
            "Treinando dados da elevatoria 25...\n",
            "Epoch 1/1\n",
            "105025/105025 [==============================] - 36s 342us/step - loss: 0.1694 - acc: 0.9463\n",
            "Epoca 2 - ano 2018\n",
            "Treinando dados da elevatoria 1...\n",
            "Epoch 1/1\n",
            "8800/8800 [==============================] - 3s 337us/step - loss: 0.0912 - acc: 0.9780\n",
            "Treinando dados da elevatoria 22...\n",
            "Epoch 1/1\n",
            "59238/59238 [==============================] - 23s 392us/step - loss: 0.1358 - acc: 0.9623\n",
            "Treinando dados da elevatoria 25...\n",
            "Epoch 1/1\n",
            "59240/59240 [==============================] - 25s 414us/step - loss: 0.2519 - acc: 0.9074\n",
            "Epoca 3 - ano 2016\n",
            "Treinando dados da elevatoria 1...\n",
            "Epoch 1/1\n",
            "105313/105313 [==============================] - 37s 349us/step - loss: 0.0977 - acc: 0.9724\n",
            "Treinando dados da elevatoria 22...\n",
            "Epoch 1/1\n",
            "105313/105313 [==============================] - 36s 341us/step - loss: 0.1549 - acc: 0.9506\n",
            "Treinando dados da elevatoria 25...\n",
            "Epoch 1/1\n",
            "105313/105313 [==============================] - 36s 344us/step - loss: 0.1426 - acc: 0.9558\n",
            "Epoca 3 - ano 2017\n",
            "Treinando dados da elevatoria 1...\n",
            "Epoch 1/1\n",
            "105025/105025 [==============================] - 36s 347us/step - loss: 0.1077 - acc: 0.9704\n",
            "Treinando dados da elevatoria 22...\n",
            "Epoch 1/1\n",
            "105025/105025 [==============================] - 37s 349us/step - loss: 0.1124 - acc: 0.9670\n",
            "Treinando dados da elevatoria 25...\n",
            "Epoch 1/1\n",
            "105025/105025 [==============================] - 36s 347us/step - loss: 0.1591 - acc: 0.9472\n",
            "Epoca 3 - ano 2018\n",
            "Treinando dados da elevatoria 1...\n",
            "Epoch 1/1\n",
            "8800/8800 [==============================] - 3s 318us/step - loss: 0.0783 - acc: 0.9791\n",
            "Treinando dados da elevatoria 22...\n",
            "Epoch 1/1\n",
            "59238/59238 [==============================] - 23s 396us/step - loss: 0.1258 - acc: 0.9631\n",
            "Treinando dados da elevatoria 25...\n",
            "Epoch 1/1\n",
            "59240/59240 [==============================] - 24s 413us/step - loss: 0.2337 - acc: 0.9113\n",
            "Epoca 4 - ano 2016\n",
            "Treinando dados da elevatoria 1...\n",
            "Epoch 1/1\n",
            "105313/105313 [==============================] - 36s 345us/step - loss: 0.0884 - acc: 0.9744\n",
            "Treinando dados da elevatoria 22...\n",
            "Epoch 1/1\n",
            "105313/105313 [==============================] - 37s 348us/step - loss: 0.1415 - acc: 0.9531\n",
            "Treinando dados da elevatoria 25...\n",
            "Epoch 1/1\n",
            "105313/105313 [==============================] - 37s 347us/step - loss: 0.1356 - acc: 0.9571\n",
            "Epoca 4 - ano 2017\n",
            "Treinando dados da elevatoria 1...\n",
            "Epoch 1/1\n",
            "105025/105025 [==============================] - 37s 349us/step - loss: 0.0997 - acc: 0.9725\n",
            "Treinando dados da elevatoria 22...\n",
            "Epoch 1/1\n",
            "105025/105025 [==============================] - 37s 355us/step - loss: 0.1063 - acc: 0.9686\n",
            "Treinando dados da elevatoria 25...\n",
            "Epoch 1/1\n",
            "105025/105025 [==============================] - 37s 352us/step - loss: 0.1489 - acc: 0.9499\n",
            "Epoca 4 - ano 2018\n",
            "Treinando dados da elevatoria 1...\n",
            "Epoch 1/1\n",
            "8800/8800 [==============================] - 3s 315us/step - loss: 0.0784 - acc: 0.9790\n",
            "Treinando dados da elevatoria 22...\n",
            "Epoch 1/1\n",
            "59238/59238 [==============================] - 23s 392us/step - loss: 0.1245 - acc: 0.9644\n",
            "Treinando dados da elevatoria 25...\n",
            "Epoch 1/1\n",
            "59240/59240 [==============================] - 25s 416us/step - loss: 0.2230 - acc: 0.9144\n",
            "Epoca 5 - ano 2016\n",
            "Treinando dados da elevatoria 1...\n",
            "Epoch 1/1\n",
            "105313/105313 [==============================] - 37s 350us/step - loss: 0.0824 - acc: 0.9760\n",
            "Treinando dados da elevatoria 22...\n",
            "Epoch 1/1\n",
            "105313/105313 [==============================] - 37s 351us/step - loss: 0.1304 - acc: 0.9562\n",
            "Treinando dados da elevatoria 25...\n",
            "Epoch 1/1\n",
            "105313/105313 [==============================] - 37s 351us/step - loss: 0.1285 - acc: 0.9582\n",
            "Epoca 5 - ano 2017\n",
            "Treinando dados da elevatoria 1...\n",
            "Epoch 1/1\n",
            "105025/105025 [==============================] - 37s 349us/step - loss: 0.0911 - acc: 0.9736\n",
            "Treinando dados da elevatoria 22...\n",
            "Epoch 1/1\n",
            "105025/105025 [==============================] - 37s 348us/step - loss: 0.1019 - acc: 0.9698\n",
            "Treinando dados da elevatoria 25...\n",
            "Epoch 1/1\n",
            "105025/105025 [==============================] - 37s 351us/step - loss: 0.1463 - acc: 0.9503\n",
            "Epoca 5 - ano 2018\n",
            "Treinando dados da elevatoria 1...\n",
            "Epoch 1/1\n",
            "8800/8800 [==============================] - 3s 314us/step - loss: 0.1133 - acc: 0.9761\n",
            "Treinando dados da elevatoria 22...\n",
            "Epoch 1/1\n",
            "59238/59238 [==============================] - 24s 397us/step - loss: 0.1292 - acc: 0.9645\n",
            "Treinando dados da elevatoria 25...\n",
            "Epoch 1/1\n",
            "59240/59240 [==============================] - 25s 417us/step - loss: 0.2150 - acc: 0.9162\n",
            "Epoca 6 - ano 2016\n",
            "Treinando dados da elevatoria 1...\n",
            "Epoch 1/1\n",
            "105313/105313 [==============================] - 37s 353us/step - loss: 0.0842 - acc: 0.9754\n",
            "Treinando dados da elevatoria 22...\n",
            "Epoch 1/1\n",
            "105313/105313 [==============================] - 37s 348us/step - loss: 0.1277 - acc: 0.9564\n",
            "Treinando dados da elevatoria 25...\n",
            "Epoch 1/1\n",
            "105313/105313 [==============================] - 37s 348us/step - loss: 0.1226 - acc: 0.9596\n",
            "Epoca 6 - ano 2017\n",
            "Treinando dados da elevatoria 1...\n",
            "Epoch 1/1\n",
            "105025/105025 [==============================] - 38s 365us/step - loss: 0.0853 - acc: 0.9754\n",
            "Treinando dados da elevatoria 22...\n",
            "Epoch 1/1\n",
            "105025/105025 [==============================] - 38s 365us/step - loss: 0.0954 - acc: 0.9720\n",
            "Treinando dados da elevatoria 25...\n",
            "Epoch 1/1\n",
            "105025/105025 [==============================] - 38s 362us/step - loss: 0.1374 - acc: 0.9532\n",
            "Epoca 6 - ano 2018\n",
            "Treinando dados da elevatoria 1...\n",
            "Epoch 1/1\n",
            "8800/8800 [==============================] - 3s 347us/step - loss: 0.0736 - acc: 0.9766\n",
            "Treinando dados da elevatoria 22...\n",
            "Epoch 1/1\n",
            "56736/59238 [===========================>..] - ETA: 1s - loss: 0.1100 - acc: 0.9670"
          ],
          "name": "stdout"
        }
      ]
    },
    {
      "cell_type": "code",
      "metadata": {
        "id": "-2BGRotiJJN0",
        "colab_type": "code",
        "outputId": "76bf334e-bd7d-454d-ba2c-f364a5bd0583",
        "colab": {
          "base_uri": "https://localhost:8080/",
          "height": 241
        }
      },
      "source": [
        "year = 2018\n",
        "epoch = 9\n",
        "elevatoria = 25\n",
        "model.load_weights(MODELS_DIR + f\"{model_name}_{elevatoria}_epoch{epoch}_batch{n_batch}_{year}_complete.h5\")"
      ],
      "execution_count": 0,
      "outputs": [
        {
          "output_type": "stream",
          "text": [
            "WARNING:tensorflow:From /usr/local/lib/python3.6/dist-packages/keras/backend/tensorflow_backend.py:190: The name tf.get_default_session is deprecated. Please use tf.compat.v1.get_default_session instead.\n",
            "\n",
            "WARNING:tensorflow:From /usr/local/lib/python3.6/dist-packages/keras/backend/tensorflow_backend.py:197: The name tf.ConfigProto is deprecated. Please use tf.compat.v1.ConfigProto instead.\n",
            "\n",
            "WARNING:tensorflow:From /usr/local/lib/python3.6/dist-packages/keras/backend/tensorflow_backend.py:203: The name tf.Session is deprecated. Please use tf.compat.v1.Session instead.\n",
            "\n",
            "WARNING:tensorflow:From /usr/local/lib/python3.6/dist-packages/keras/backend/tensorflow_backend.py:207: The name tf.global_variables is deprecated. Please use tf.compat.v1.global_variables instead.\n",
            "\n",
            "WARNING:tensorflow:From /usr/local/lib/python3.6/dist-packages/keras/backend/tensorflow_backend.py:216: The name tf.is_variable_initialized is deprecated. Please use tf.compat.v1.is_variable_initialized instead.\n",
            "\n",
            "WARNING:tensorflow:From /usr/local/lib/python3.6/dist-packages/keras/backend/tensorflow_backend.py:223: The name tf.variables_initializer is deprecated. Please use tf.compat.v1.variables_initializer instead.\n",
            "\n"
          ],
          "name": "stdout"
        }
      ]
    },
    {
      "cell_type": "code",
      "metadata": {
        "id": "oUFZnV6nlQMV",
        "colab_type": "code",
        "outputId": "757d382c-7427-4e15-da86-6affda661a33",
        "colab": {
          "base_uri": "https://localhost:8080/",
          "height": 241
        }
      },
      "source": [
        "year = 2018\n",
        "epoch = 9\n",
        "elevatoria = 25\n",
        "model.load_weights(MODELS_DIR + f\"{model_name}_{elevatoria}_epoch{epoch}_batch{n_batch}_{year}_complete.h5\")\n",
        "\n",
        "import sklearn.metrics as skm\n",
        "def print_accuracy_and_confusion_matrix(model, test_x, test_y, encoded_test_y, n_batch):\n",
        "  loss , accuracy = model.evaluate(test_x, encoded_test_y, batch_size=n_batch, verbose=1)\n",
        "  print('loss: {}   - accuracy: {} '.format(loss,accuracy))\n",
        "\n",
        "  predicted = model.predict(test_x, verbose=0)\n",
        "  y_pred= (predicted>0.5) \n",
        "  cm = skm.multilabel_confusion_matrix(test_y, y_pred)\n",
        "  print(cm)\n",
        "  print(skm.classification_report(test_y,y_pred))\n",
        "\n",
        "\n",
        "test_y = None\n",
        "test_x = None\n",
        "train_x = None\n",
        "train_y = None\n",
        "train = None\n",
        "test = None\n",
        "timeseries = None\n",
        "encoded_Y = None\n",
        "encoded_test_Y = None\n",
        "import gc\n",
        "gc.collect()\n",
        "\n",
        "\n",
        "timeseries = get_timeseries_from_elevatoria(13, [2016,2017,2018])\n",
        "\n",
        "#preparacao e separacao dos dados \n",
        "test_x, test_y = prepare_multivar_timeseries_tofit(timeseries, input_columns, output_columns, n_steps)\n",
        "\n",
        "#encode for classification task\n",
        "train_y, test_y, encoded_Y, encoded_test_Y = encode_output(test_y, test_y)\n",
        "\n",
        "#print_accuracy_and_confusion_matrix(model, test_x, test_y, encoded_Y, n_batch)\n",
        "\n",
        "predicted = model.predict(test_x, verbose=0)"
      ],
      "execution_count": 0,
      "outputs": [
        {
          "output_type": "stream",
          "text": [
            "WARNING:tensorflow:From /usr/local/lib/python3.6/dist-packages/keras/backend/tensorflow_backend.py:190: The name tf.get_default_session is deprecated. Please use tf.compat.v1.get_default_session instead.\n",
            "\n",
            "WARNING:tensorflow:From /usr/local/lib/python3.6/dist-packages/keras/backend/tensorflow_backend.py:197: The name tf.ConfigProto is deprecated. Please use tf.compat.v1.ConfigProto instead.\n",
            "\n",
            "WARNING:tensorflow:From /usr/local/lib/python3.6/dist-packages/keras/backend/tensorflow_backend.py:203: The name tf.Session is deprecated. Please use tf.compat.v1.Session instead.\n",
            "\n",
            "WARNING:tensorflow:From /usr/local/lib/python3.6/dist-packages/keras/backend/tensorflow_backend.py:207: The name tf.global_variables is deprecated. Please use tf.compat.v1.global_variables instead.\n",
            "\n",
            "WARNING:tensorflow:From /usr/local/lib/python3.6/dist-packages/keras/backend/tensorflow_backend.py:216: The name tf.is_variable_initialized is deprecated. Please use tf.compat.v1.is_variable_initialized instead.\n",
            "\n",
            "WARNING:tensorflow:From /usr/local/lib/python3.6/dist-packages/keras/backend/tensorflow_backend.py:223: The name tf.variables_initializer is deprecated. Please use tf.compat.v1.variables_initializer instead.\n",
            "\n"
          ],
          "name": "stdout"
        }
      ]
    },
    {
      "cell_type": "code",
      "metadata": {
        "id": "MFH1ztKtK1q5",
        "colab_type": "code",
        "outputId": "df84ac15-a974-4a69-a0ff-0d448d69f44c",
        "colab": {
          "base_uri": "https://localhost:8080/",
          "height": 289
        }
      },
      "source": [
        "con = tf.confusion_matrix(labels=encoded_Y, predictions=np.argmax(predicted, axis=1) )\n",
        "sess = tf.Session()\n",
        "with sess.as_default():\n",
        "        print(sess.run(con))\n",
        "\n",
        "from sklearn.metrics import classification_report, confusion_matrix\n",
        "target_names = ['Inválidos', 'Não', 'Sim']\n",
        "print(classification_report(encoded_Y, np.argmax(predicted, axis=1), target_names=target_names))\n",
        "print(confusion_matrix(encoded_Y, np.argmax(predicted, axis=1)))\n"
      ],
      "execution_count": 0,
      "outputs": [
        {
          "output_type": "stream",
          "text": [
            "[[  1244   1647    526]\n",
            " [   405 184898  46975]\n",
            " [    40   3746  30286]]\n",
            "              precision    recall  f1-score   support\n",
            "\n",
            "   Inválidos       0.74      0.36      0.49      3417\n",
            "         Não       0.97      0.80      0.88    232278\n",
            "         Sim       0.39      0.89      0.54     34072\n",
            "\n",
            "    accuracy                           0.80    269767\n",
            "   macro avg       0.70      0.68      0.63    269767\n",
            "weighted avg       0.90      0.80      0.83    269767\n",
            "\n",
            "[[  1244   1647    526]\n",
            " [   405 184898  46975]\n",
            " [    40   3746  30286]]\n"
          ],
          "name": "stdout"
        }
      ]
    },
    {
      "cell_type": "code",
      "metadata": {
        "colab_type": "code",
        "id": "AhkZA3V0Kqc5",
        "colab": {}
      },
      "source": [
        ""
      ],
      "execution_count": 0,
      "outputs": []
    }
  ]
}